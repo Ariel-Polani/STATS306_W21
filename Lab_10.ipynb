{
 "cells": [
  {
   "cell_type": "markdown",
   "metadata": {},
   "source": [
    "# Introduction to Statistical Models"
   ]
  },
  {
   "cell_type": "code",
   "execution_count": 3,
   "metadata": {},
   "outputs": [
    {
     "name": "stderr",
     "output_type": "stream",
     "text": [
      "Registered S3 methods overwritten by 'ggplot2':\n",
      "  method         from \n",
      "  [.quosures     rlang\n",
      "  c.quosures     rlang\n",
      "  print.quosures rlang\n",
      "Registered S3 method overwritten by 'rvest':\n",
      "  method            from\n",
      "  read_xml.response xml2\n",
      "-- Attaching packages --------------------------------------- tidyverse 1.2.1 --\n",
      "v ggplot2 3.1.1       v purrr   0.3.2  \n",
      "v tibble  2.1.1       v dplyr   0.8.0.1\n",
      "v tidyr   0.8.3       v stringr 1.4.0  \n",
      "v readr   1.3.1       v forcats 0.4.0  \n",
      "-- Conflicts ------------------------------------------ tidyverse_conflicts() --\n",
      "x dplyr::filter() masks stats::filter()\n",
      "x dplyr::lag()    masks stats::lag()\n"
     ]
    }
   ],
   "source": [
    "library(modelr)\n",
    "library(tidyverse)"
   ]
  },
  {
   "cell_type": "markdown",
   "metadata": {},
   "source": [
    "## George Box: All Models are Wrong, but some are useful\n",
    "\n",
    "\n",
    "- The truth can often be very complicated, so our goal is to find a simple approximation that captures most of the truth\n",
    "- How good is good enough?\n",
    "- There are a lot of \"soft skills\" that go into data science\n"
   ]
  },
  {
   "cell_type": "code",
   "execution_count": 8,
   "metadata": {
    "scrolled": true
   },
   "outputs": [
    {
     "data": {
      "image/png": "[encoded data removed]",
      "text/plain": [
       "plot without title"
      ]
     },
     "metadata": {},
     "output_type": "display_data"
    }
   ],
   "source": [
    "ggplot(sim1, aes(x, y)) + \n",
    "  geom_point() +\n",
    "  geom_smooth(method = \"lm\", se = FALSE)"
   ]
  },
  {
   "cell_type": "markdown",
   "metadata": {},
   "source": [
    "## Distance Metrics\n",
    "\n",
    "- How we measure distance from a model and our data\n",
    "- One metric doesn't work for all problems, but we do try our best with RMSE (Root Mean Squared Error)\n",
    "- RMSE is the standard deviation of the residuals (or the prediction errors)"
   ]
  },
  {
   "cell_type": "code",
   "execution_count": 32,
   "metadata": {},
   "outputs": [],
   "source": [
    "RMSE <- function(predicted, data) {\n",
    "    \n",
    "    sqrt(mean((predicted - data)^2))\n",
    "    \n",
    "}"
   ]
  },
  {
   "cell_type": "code",
   "execution_count": 33,
   "metadata": {},
   "outputs": [],
   "source": [
    "m1 <- lm(data = sim1, y ~ x)\n",
    "fVals <- fitted.values(m1)"
   ]
  },
  {
   "cell_type": "code",
   "execution_count": 34,
   "metadata": {
    "scrolled": true
   },
   "outputs": [
    {
     "data": {
      "text/html": [
       "2.12818074076989"
      ],
      "text/latex": [
       "2.12818074076989"
      ],
      "text/markdown": [
       "2.12818074076989"
      ],
      "text/plain": [
       "[1] 2.128181"
      ]
     },
     "metadata": {},
     "output_type": "display_data"
    }
   ],
   "source": [
    "RMSE(fVals, sim1$y) # How good is this? "
   ]
  },
  {
   "cell_type": "markdown",
   "metadata": {},
   "source": [
    "###  Exercise 1: Write a function that calculates the Minkowski Distance of Order P\n",
    "\n",
    "- https://en.wikipedia.org/wiki/Minkowski_distance"
   ]
  },
  {
   "cell_type": "markdown",
   "metadata": {},
   "source": [
    "### Exercise 2: Differences between the L-1 Error and the L-2 Error\n",
    "- https://en.wikipedia.org/wiki/Least_absolute_deviations\n",
    "- What do you think the advantages of the L-1 Error are? The disadvantages? (As compared to L-2)"
   ]
  },
  {
   "cell_type": "markdown",
   "metadata": {},
   "source": [
    "## How do you know how well your model will perform on real data?\n",
    "\n",
    "- Just because your model does well on the data you have, does not mean that it will perform well on new data you collect later\n",
    "- This is because it might be memorizing random quirks of your data that don't reflect the real pattern\n",
    "- Think of it as taking a practice test, but looking at the answers as you go\n",
    "- Training / Test Split\n",
    "- Train a model on a subset of the available data\n",
    "- Then evalute using your metric of choice\n",
    "- This allows us to see how well our model does on data it has never seen before!"
   ]
  },
  {
   "cell_type": "code",
   "execution_count": 54,
   "metadata": {},
   "outputs": [],
   "source": [
    "training <- sim1[1:nrow(sim1) * .7, ]\n",
    "test <- sim1[21:nrow(sim1), ]"
   ]
  },
  {
   "cell_type": "code",
   "execution_count": 57,
   "metadata": {},
   "outputs": [
    {
     "data": {
      "text/html": [
       "<table>\n",
       "<thead><tr><th scope=col>x</th><th scope=col>y</th></tr></thead>\n",
       "<tbody>\n",
       "\t<tr><td>1        </td><td> 4.199913</td></tr>\n",
       "\t<tr><td>1        </td><td> 7.510634</td></tr>\n",
       "\t<tr><td>1        </td><td> 7.510634</td></tr>\n",
       "\t<tr><td>1        </td><td> 2.125473</td></tr>\n",
       "\t<tr><td>2        </td><td> 8.988857</td></tr>\n",
       "\t<tr><td>2        </td><td> 8.988857</td></tr>\n",
       "\t<tr><td>2        </td><td>10.243105</td></tr>\n",
       "\t<tr><td>2        </td><td>11.296823</td></tr>\n",
       "\t<tr><td>3        </td><td> 7.356365</td></tr>\n",
       "\t<tr><td>3        </td><td> 7.356365</td></tr>\n",
       "\t<tr><td>3        </td><td>10.505349</td></tr>\n",
       "\t<tr><td>3        </td><td>10.511601</td></tr>\n",
       "\t<tr><td>3        </td><td>10.511601</td></tr>\n",
       "\t<tr><td>4        </td><td>12.434589</td></tr>\n",
       "\t<tr><td>4        </td><td>11.892601</td></tr>\n",
       "\t<tr><td>4        </td><td>11.892601</td></tr>\n",
       "\t<tr><td>4        </td><td>14.257964</td></tr>\n",
       "\t<tr><td>5        </td><td>19.130050</td></tr>\n",
       "\t<tr><td>5        </td><td>11.738021</td></tr>\n",
       "\t<tr><td>5        </td><td>11.738021</td></tr>\n",
       "\t<tr><td>5        </td><td>16.024854</td></tr>\n",
       "\t<tr><td>6        </td><td>13.273977</td></tr>\n",
       "\t<tr><td>6        </td><td>13.273977</td></tr>\n",
       "\t<tr><td>6        </td><td>15.955975</td></tr>\n",
       "\t<tr><td>6        </td><td>16.894796</td></tr>\n",
       "\t<tr><td>6        </td><td>16.894796</td></tr>\n",
       "\t<tr><td>7        </td><td>20.085993</td></tr>\n",
       "\t<tr><td>7        </td><td>17.171850</td></tr>\n",
       "\t<tr><td>7        </td><td>19.936309</td></tr>\n",
       "</tbody>\n",
       "</table>\n"
      ],
      "text/latex": [
       "\\begin{tabular}{r|ll}\n",
       " x & y\\\\\n",
       "\\hline\n",
       "\t 1         &  4.199913\\\\\n",
       "\t 1         &  7.510634\\\\\n",
       "\t 1         &  7.510634\\\\\n",
       "\t 1         &  2.125473\\\\\n",
       "\t 2         &  8.988857\\\\\n",
       "\t 2         &  8.988857\\\\\n",
       "\t 2         & 10.243105\\\\\n",
       "\t 2         & 11.296823\\\\\n",
       "\t 3         &  7.356365\\\\\n",
       "\t 3         &  7.356365\\\\\n",
       "\t 3         & 10.505349\\\\\n",
       "\t 3         & 10.511601\\\\\n",
       "\t 3         & 10.511601\\\\\n",
       "\t 4         & 12.434589\\\\\n",
       "\t 4         & 11.892601\\\\\n",
       "\t 4         & 11.892601\\\\\n",
       "\t 4         & 14.257964\\\\\n",
       "\t 5         & 19.130050\\\\\n",
       "\t 5         & 11.738021\\\\\n",
       "\t 5         & 11.738021\\\\\n",
       "\t 5         & 16.024854\\\\\n",
       "\t 6         & 13.273977\\\\\n",
       "\t 6         & 13.273977\\\\\n",
       "\t 6         & 15.955975\\\\\n",
       "\t 6         & 16.894796\\\\\n",
       "\t 6         & 16.894796\\\\\n",
       "\t 7         & 20.085993\\\\\n",
       "\t 7         & 17.171850\\\\\n",
       "\t 7         & 19.936309\\\\\n",
       "\\end{tabular}\n"
      ],
      "text/markdown": [
       "\n",
       "| x | y |\n",
       "|---|---|\n",
       "| 1         |  4.199913 |\n",
       "| 1         |  7.510634 |\n",
       "| 1         |  7.510634 |\n",
       "| 1         |  2.125473 |\n",
       "| 2         |  8.988857 |\n",
       "| 2         |  8.988857 |\n",
       "| 2         | 10.243105 |\n",
       "| 2         | 11.296823 |\n",
       "| 3         |  7.356365 |\n",
       "| 3         |  7.356365 |\n",
       "| 3         | 10.505349 |\n",
       "| 3         | 10.511601 |\n",
       "| 3         | 10.511601 |\n",
       "| 4         | 12.434589 |\n",
       "| 4         | 11.892601 |\n",
       "| 4         | 11.892601 |\n",
       "| 4         | 14.257964 |\n",
       "| 5         | 19.130050 |\n",
       "| 5         | 11.738021 |\n",
       "| 5         | 11.738021 |\n",
       "| 5         | 16.024854 |\n",
       "| 6         | 13.273977 |\n",
       "| 6         | 13.273977 |\n",
       "| 6         | 15.955975 |\n",
       "| 6         | 16.894796 |\n",
       "| 6         | 16.894796 |\n",
       "| 7         | 20.085993 |\n",
       "| 7         | 17.171850 |\n",
       "| 7         | 19.936309 |\n",
       "\n"
      ],
      "text/plain": [
       "   x y        \n",
       "1  1  4.199913\n",
       "2  1  7.510634\n",
       "3  1  7.510634\n",
       "4  1  2.125473\n",
       "5  2  8.988857\n",
       "6  2  8.988857\n",
       "7  2 10.243105\n",
       "8  2 11.296823\n",
       "9  3  7.356365\n",
       "10 3  7.356365\n",
       "11 3 10.505349\n",
       "12 3 10.511601\n",
       "13 3 10.511601\n",
       "14 4 12.434589\n",
       "15 4 11.892601\n",
       "16 4 11.892601\n",
       "17 4 14.257964\n",
       "18 5 19.130050\n",
       "19 5 11.738021\n",
       "20 5 11.738021\n",
       "21 5 16.024854\n",
       "22 6 13.273977\n",
       "23 6 13.273977\n",
       "24 6 15.955975\n",
       "25 6 16.894796\n",
       "26 6 16.894796\n",
       "27 7 20.085993\n",
       "28 7 17.171850\n",
       "29 7 19.936309"
      ]
     },
     "metadata": {},
     "output_type": "display_data"
    }
   ],
   "source": [
    "training"
   ]
  },
  {
   "cell_type": "code",
   "execution_count": 58,
   "metadata": {},
   "outputs": [
    {
     "data": {
      "text/html": [
       "<table>\n",
       "<thead><tr><th scope=col>x</th><th scope=col>y</th></tr></thead>\n",
       "<tbody>\n",
       "\t<tr><td> 7      </td><td>19.93631</td></tr>\n",
       "\t<tr><td> 8      </td><td>21.72590</td></tr>\n",
       "\t<tr><td> 8      </td><td>18.39091</td></tr>\n",
       "\t<tr><td> 8      </td><td>22.47555</td></tr>\n",
       "\t<tr><td> 9      </td><td>26.77701</td></tr>\n",
       "\t<tr><td> 9      </td><td>22.80511</td></tr>\n",
       "\t<tr><td> 9      </td><td>21.12831</td></tr>\n",
       "\t<tr><td>10      </td><td>24.96810</td></tr>\n",
       "\t<tr><td>10      </td><td>23.34642</td></tr>\n",
       "\t<tr><td>10      </td><td>21.97520</td></tr>\n",
       "</tbody>\n",
       "</table>\n"
      ],
      "text/latex": [
       "\\begin{tabular}{r|ll}\n",
       " x & y\\\\\n",
       "\\hline\n",
       "\t  7       & 19.93631\\\\\n",
       "\t  8       & 21.72590\\\\\n",
       "\t  8       & 18.39091\\\\\n",
       "\t  8       & 22.47555\\\\\n",
       "\t  9       & 26.77701\\\\\n",
       "\t  9       & 22.80511\\\\\n",
       "\t  9       & 21.12831\\\\\n",
       "\t 10       & 24.96810\\\\\n",
       "\t 10       & 23.34642\\\\\n",
       "\t 10       & 21.97520\\\\\n",
       "\\end{tabular}\n"
      ],
      "text/markdown": [
       "\n",
       "| x | y |\n",
       "|---|---|\n",
       "|  7       | 19.93631 |\n",
       "|  8       | 21.72590 |\n",
       "|  8       | 18.39091 |\n",
       "|  8       | 22.47555 |\n",
       "|  9       | 26.77701 |\n",
       "|  9       | 22.80511 |\n",
       "|  9       | 21.12831 |\n",
       "| 10       | 24.96810 |\n",
       "| 10       | 23.34642 |\n",
       "| 10       | 21.97520 |\n",
       "\n"
      ],
      "text/plain": [
       "   x  y       \n",
       "1   7 19.93631\n",
       "2   8 21.72590\n",
       "3   8 18.39091\n",
       "4   8 22.47555\n",
       "5   9 26.77701\n",
       "6   9 22.80511\n",
       "7   9 21.12831\n",
       "8  10 24.96810\n",
       "9  10 23.34642\n",
       "10 10 21.97520"
      ]
     },
     "metadata": {},
     "output_type": "display_data"
    }
   ],
   "source": [
    "test"
   ]
  },
  {
   "cell_type": "code",
   "execution_count": 59,
   "metadata": {},
   "outputs": [],
   "source": [
    "training_model <- lm(data = training, y ~ x)"
   ]
  },
  {
   "cell_type": "code",
   "execution_count": 61,
   "metadata": {},
   "outputs": [],
   "source": [
    "test_fit <- predict(training_model, test)"
   ]
  },
  {
   "cell_type": "code",
   "execution_count": 62,
   "metadata": {},
   "outputs": [
    {
     "data": {
      "text/html": [
       "2.04762629483634"
      ],
      "text/latex": [
       "2.04762629483634"
      ],
      "text/markdown": [
       "2.04762629483634"
      ],
      "text/plain": [
       "[1] 2.047626"
      ]
     },
     "metadata": {},
     "output_type": "display_data"
    }
   ],
   "source": [
    "RMSE(test_fit, test$y)"
   ]
  },
  {
   "cell_type": "markdown",
   "metadata": {},
   "source": [
    "## The idea of grid search, and when it fails"
   ]
  },
  {
   "cell_type": "code",
   "execution_count": 64,
   "metadata": {},
   "outputs": [],
   "source": [
    "models <- expand.grid(\n",
    "    a1 = seq(-20, 20, length = 20),\n",
    "    a2 = seq(-20, 20, length = 20),\n",
    "    a3 = seq(-20, 20, length = 20)\n",
    ")"
   ]
  },
  {
   "cell_type": "code",
   "execution_count": 71,
   "metadata": {},
   "outputs": [
    {
     "data": {
      "text/html": [
       "<table>\n",
       "<thead><tr><th scope=col>a1</th><th scope=col>a2</th><th scope=col>a3</th></tr></thead>\n",
       "<tbody>\n",
       "\t<tr><td>-20.000000</td><td>-20       </td><td>-20       </td></tr>\n",
       "\t<tr><td>-17.894737</td><td>-20       </td><td>-20       </td></tr>\n",
       "\t<tr><td>-15.789474</td><td>-20       </td><td>-20       </td></tr>\n",
       "\t<tr><td>-13.684211</td><td>-20       </td><td>-20       </td></tr>\n",
       "\t<tr><td>-11.578947</td><td>-20       </td><td>-20       </td></tr>\n",
       "\t<tr><td> -9.473684</td><td>-20       </td><td>-20       </td></tr>\n",
       "</tbody>\n",
       "</table>\n"
      ],
      "text/latex": [
       "\\begin{tabular}{r|lll}\n",
       " a1 & a2 & a3\\\\\n",
       "\\hline\n",
       "\t -20.000000 & -20        & -20       \\\\\n",
       "\t -17.894737 & -20        & -20       \\\\\n",
       "\t -15.789474 & -20        & -20       \\\\\n",
       "\t -13.684211 & -20        & -20       \\\\\n",
       "\t -11.578947 & -20        & -20       \\\\\n",
       "\t  -9.473684 & -20        & -20       \\\\\n",
       "\\end{tabular}\n"
      ],
      "text/markdown": [
       "\n",
       "| a1 | a2 | a3 |\n",
       "|---|---|---|\n",
       "| -20.000000 | -20        | -20        |\n",
       "| -17.894737 | -20        | -20        |\n",
       "| -15.789474 | -20        | -20        |\n",
       "| -13.684211 | -20        | -20        |\n",
       "| -11.578947 | -20        | -20        |\n",
       "|  -9.473684 | -20        | -20        |\n",
       "\n"
      ],
      "text/plain": [
       "  a1         a2  a3 \n",
       "1 -20.000000 -20 -20\n",
       "2 -17.894737 -20 -20\n",
       "3 -15.789474 -20 -20\n",
       "4 -13.684211 -20 -20\n",
       "5 -11.578947 -20 -20\n",
       "6  -9.473684 -20 -20"
      ]
     },
     "metadata": {},
     "output_type": "display_data"
    },
    {
     "data": {
      "text/html": [
       "8000"
      ],
      "text/latex": [
       "8000"
      ],
      "text/markdown": [
       "8000"
      ],
      "text/plain": [
       "[1] 8000"
      ]
     },
     "metadata": {},
     "output_type": "display_data"
    }
   ],
   "source": [
    "head(models)\n",
    "nrow(models)"
   ]
  },
  {
   "cell_type": "markdown",
   "metadata": {},
   "source": [
    "- We guess that the true parameters are within some range (What if they aren't?)\n",
    "- We examine a fixed amount of points in that interval (How many should we look at?)\n",
    "- We then evaluate at every possible combination of points (Is this viable when you have many parameters?)\n",
    "- So when should we actually use grid search? "
   ]
  },
  {
   "cell_type": "code",
   "execution_count": null,
   "metadata": {},
   "outputs": [],
   "source": []
  }
 ],
 "metadata": {
  "kernelspec": {
   "display_name": "R",
   "language": "R",
   "name": "ir"
  },
  "language_info": {
   "codemirror_mode": "r",
   "file_extension": ".r",
   "mimetype": "text/x-r-source",
   "name": "R",
   "pygments_lexer": "r",
   "version": "3.6.1"
  }
 },
 "nbformat": 4,
 "nbformat_minor": 4
}
