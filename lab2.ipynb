{
 "cells": [
  {
   "cell_type": "markdown",
   "metadata": {},
   "source": [
    "# Lab 2: Facets, Plotting, Dplyr"
   ]
  },
  {
   "cell_type": "markdown",
   "metadata": {},
   "source": [
    "- Reminder that your first homework is due on Friday (2/5)"
   ]
  },
  {
   "cell_type": "markdown",
   "metadata": {},
   "source": [
    "## Review for the Homework\n",
    "\n",
    "- facets\n",
    "- geom_smooth"
   ]
  },
  {
   "cell_type": "code",
   "execution_count": 2,
   "metadata": {},
   "outputs": [
    {
     "name": "stderr",
     "output_type": "stream",
     "text": [
      "Registered S3 methods overwritten by 'ggplot2':\n",
      "  method         from \n",
      "  [.quosures     rlang\n",
      "  c.quosures     rlang\n",
      "  print.quosures rlang\n",
      "Registered S3 method overwritten by 'rvest':\n",
      "  method            from\n",
      "  read_xml.response xml2\n",
      "-- Attaching packages --------------------------------------- tidyverse 1.2.1 --\n",
      "v ggplot2 3.1.1       v purrr   0.3.2  \n",
      "v tibble  2.1.1       v dplyr   0.8.0.1\n",
      "v tidyr   0.8.3       v stringr 1.4.0  \n",
      "v readr   1.3.1       v forcats 0.4.0  \n",
      "-- Conflicts ------------------------------------------ tidyverse_conflicts() --\n",
      "x dplyr::filter() masks stats::filter()\n",
      "x dplyr::lag()    masks stats::lag()\n"
     ]
    }
   ],
   "source": [
    "library(tidyverse)"
   ]
  },
  {
   "cell_type": "code",
   "execution_count": 5,
   "metadata": {},
   "outputs": [
    {
     "name": "stderr",
     "output_type": "stream",
     "text": [
      "Parsed with column specification:\n",
      "cols(\n",
      "  Major_code = col_double(),\n",
      "  Major = col_character(),\n",
      "  Major_category = col_character(),\n",
      "  Total = col_double(),\n",
      "  Employed = col_double(),\n",
      "  Employed_full_time_year_round = col_double(),\n",
      "  Unemployed = col_double(),\n",
      "  Unemployment_rate = col_double(),\n",
      "  Median = col_double(),\n",
      "  P25th = col_double(),\n",
      "  P75th = col_double()\n",
      ")\n"
     ]
    }
   ],
   "source": [
    "college_df <- read_csv(\"https://raw.githubusercontent.com/fivethirtyeight/data/master/college-majors/all-ages.csv\")\n",
    "# https://fivethirtyeight.com/features/the-economic-guide-to-picking-a-college-major/"
   ]
  },
  {
   "cell_type": "code",
   "execution_count": 8,
   "metadata": {},
   "outputs": [
    {
     "data": {
      "text/html": [
       "<table>\n",
       "<thead><tr><th scope=col>Major_code</th><th scope=col>Major</th><th scope=col>Major_category</th><th scope=col>Total</th><th scope=col>Employed</th><th scope=col>Employed_full_time_year_round</th><th scope=col>Unemployed</th><th scope=col>Unemployment_rate</th><th scope=col>Median</th><th scope=col>P25th</th><th scope=col>P75th</th></tr></thead>\n",
       "<tbody>\n",
       "\t<tr><td>1100                                                                         </td><td><span style=white-space:pre-wrap>GENERAL AGRICULTURE                  </span></td><td>Agriculture &amp; Natural Resources                                          </td><td>128148                                                                       </td><td>90245                                                                        </td><td>74078                                                                        </td><td>2423                                                                         </td><td>0.02614711                                                                   </td><td>50000                                                                        </td><td>34000                                                                        </td><td>80000                                                                        </td></tr>\n",
       "\t<tr><td>1101                                 </td><td>AGRICULTURE PRODUCTION AND MANAGEMENT</td><td>Agriculture &amp; Natural Resources  </td><td> 95326                               </td><td>76865                                </td><td>64240                                </td><td>2266                                 </td><td>0.02863606                           </td><td>54000                                </td><td>36000                                </td><td>80000                                </td></tr>\n",
       "\t<tr><td>1102                                                                         </td><td><span style=white-space:pre-wrap>AGRICULTURAL ECONOMICS               </span></td><td>Agriculture &amp; Natural Resources                                          </td><td> 33955                                                                       </td><td>26321                                                                        </td><td>22810                                                                        </td><td> 821                                                                         </td><td>0.03024832                                                                   </td><td>63000                                                                        </td><td>40000                                                                        </td><td>98000                                                                        </td></tr>\n",
       "\t<tr><td>1103                                                                         </td><td><span style=white-space:pre-wrap>ANIMAL SCIENCES                      </span></td><td>Agriculture &amp; Natural Resources                                          </td><td>103549                                                                       </td><td>81177                                                                        </td><td>64937                                                                        </td><td>3619                                                                         </td><td>0.04267890                                                                   </td><td>46000                                                                        </td><td>30000                                                                        </td><td>72000                                                                        </td></tr>\n",
       "\t<tr><td>1104                                                                         </td><td><span style=white-space:pre-wrap>FOOD SCIENCE                         </span></td><td>Agriculture &amp; Natural Resources                                          </td><td> 24280                                                                       </td><td>17281                                                                        </td><td>12722                                                                        </td><td> 894                                                                         </td><td>0.04918845                                                                   </td><td>62000                                                                        </td><td>38500                                                                        </td><td>90000                                                                        </td></tr>\n",
       "\t<tr><td>1105                                                                         </td><td><span style=white-space:pre-wrap>PLANT SCIENCE AND AGRONOMY           </span></td><td>Agriculture &amp; Natural Resources                                          </td><td> 79409                                                                       </td><td>63043                                                                        </td><td>51077                                                                        </td><td>2070                                                                         </td><td>0.03179089                                                                   </td><td>50000                                                                        </td><td>35000                                                                        </td><td>75000                                                                        </td></tr>\n",
       "\t<tr><td>1106                                                                         </td><td><span style=white-space:pre-wrap>SOIL SCIENCE                         </span></td><td>Agriculture &amp; Natural Resources                                          </td><td><span style=white-space:pre-wrap>  6586</span>                               </td><td> 4926                                                                        </td><td> 4042                                                                        </td><td> 264                                                                         </td><td>0.05086705                                                                   </td><td>63000                                                                        </td><td>39400                                                                        </td><td>88000                                                                        </td></tr>\n",
       "\t<tr><td>1199                                                                         </td><td><span style=white-space:pre-wrap>MISCELLANEOUS AGRICULTURE            </span></td><td>Agriculture &amp; Natural Resources                                          </td><td><span style=white-space:pre-wrap>  8549</span>                               </td><td> 6392                                                                        </td><td> 5074                                                                        </td><td> 261                                                                         </td><td>0.03923042                                                                   </td><td>52000                                                                        </td><td>35000                                                                        </td><td>75000                                                                        </td></tr>\n",
       "\t<tr><td>1301                                                                         </td><td><span style=white-space:pre-wrap>ENVIRONMENTAL SCIENCE                </span></td><td><span style=white-space:pre-wrap>Biology &amp; Life Science         </span>  </td><td>106106                                                                       </td><td>87602                                                                        </td><td>65238                                                                        </td><td>4736                                                                         </td><td>0.05128983                                                                   </td><td>52000                                                                        </td><td>38000                                                                        </td><td>75000                                                                        </td></tr>\n",
       "\t<tr><td>1302                                                                         </td><td><span style=white-space:pre-wrap>FORESTRY                             </span></td><td>Agriculture &amp; Natural Resources                                          </td><td> 69447                                                                       </td><td>48228                                                                        </td><td>39613                                                                        </td><td>2144                                                                         </td><td>0.04256333                                                                   </td><td>58000                                                                        </td><td>40500                                                                        </td><td>80000                                                                        </td></tr>\n",
       "</tbody>\n",
       "</table>\n"
      ],
      "text/latex": [
       "\\begin{tabular}{r|lllllllllll}\n",
       " Major\\_code & Major & Major\\_category & Total & Employed & Employed\\_full\\_time\\_year\\_round & Unemployed & Unemployment\\_rate & Median & P25th & P75th\\\\\n",
       "\\hline\n",
       "\t 1100                                  & GENERAL AGRICULTURE                   & Agriculture \\& Natural Resources     & 128148                                & 90245                                 & 74078                                 & 2423                                  & 0.02614711                            & 50000                                 & 34000                                 & 80000                                \\\\\n",
       "\t 1101                                  & AGRICULTURE PRODUCTION AND MANAGEMENT & Agriculture \\& Natural Resources     &  95326                                & 76865                                 & 64240                                 & 2266                                  & 0.02863606                            & 54000                                 & 36000                                 & 80000                                \\\\\n",
       "\t 1102                                  & AGRICULTURAL ECONOMICS                & Agriculture \\& Natural Resources     &  33955                                & 26321                                 & 22810                                 &  821                                  & 0.03024832                            & 63000                                 & 40000                                 & 98000                                \\\\\n",
       "\t 1103                                  & ANIMAL SCIENCES                       & Agriculture \\& Natural Resources     & 103549                                & 81177                                 & 64937                                 & 3619                                  & 0.04267890                            & 46000                                 & 30000                                 & 72000                                \\\\\n",
       "\t 1104                                  & FOOD SCIENCE                          & Agriculture \\& Natural Resources     &  24280                                & 17281                                 & 12722                                 &  894                                  & 0.04918845                            & 62000                                 & 38500                                 & 90000                                \\\\\n",
       "\t 1105                                  & PLANT SCIENCE AND AGRONOMY            & Agriculture \\& Natural Resources     &  79409                                & 63043                                 & 51077                                 & 2070                                  & 0.03179089                            & 50000                                 & 35000                                 & 75000                                \\\\\n",
       "\t 1106                                  & SOIL SCIENCE                          & Agriculture \\& Natural Resources     &   6586                                &  4926                                 &  4042                                 &  264                                  & 0.05086705                            & 63000                                 & 39400                                 & 88000                                \\\\\n",
       "\t 1199                                  & MISCELLANEOUS AGRICULTURE             & Agriculture \\& Natural Resources     &   8549                                &  6392                                 &  5074                                 &  261                                  & 0.03923042                            & 52000                                 & 35000                                 & 75000                                \\\\\n",
       "\t 1301                                  & ENVIRONMENTAL SCIENCE                 & Biology \\& Life Science              & 106106                                & 87602                                 & 65238                                 & 4736                                  & 0.05128983                            & 52000                                 & 38000                                 & 75000                                \\\\\n",
       "\t 1302                                  & FORESTRY                              & Agriculture \\& Natural Resources     &  69447                                & 48228                                 & 39613                                 & 2144                                  & 0.04256333                            & 58000                                 & 40500                                 & 80000                                \\\\\n",
       "\\end{tabular}\n"
      ],
      "text/markdown": [
       "\n",
       "| Major_code | Major | Major_category | Total | Employed | Employed_full_time_year_round | Unemployed | Unemployment_rate | Median | P25th | P75th |\n",
       "|---|---|---|---|---|---|---|---|---|---|---|\n",
       "| 1100                                  | GENERAL AGRICULTURE                   | Agriculture & Natural Resources       | 128148                                | 90245                                 | 74078                                 | 2423                                  | 0.02614711                            | 50000                                 | 34000                                 | 80000                                 |\n",
       "| 1101                                  | AGRICULTURE PRODUCTION AND MANAGEMENT | Agriculture & Natural Resources       |  95326                                | 76865                                 | 64240                                 | 2266                                  | 0.02863606                            | 54000                                 | 36000                                 | 80000                                 |\n",
       "| 1102                                  | AGRICULTURAL ECONOMICS                | Agriculture & Natural Resources       |  33955                                | 26321                                 | 22810                                 |  821                                  | 0.03024832                            | 63000                                 | 40000                                 | 98000                                 |\n",
       "| 1103                                  | ANIMAL SCIENCES                       | Agriculture & Natural Resources       | 103549                                | 81177                                 | 64937                                 | 3619                                  | 0.04267890                            | 46000                                 | 30000                                 | 72000                                 |\n",
       "| 1104                                  | FOOD SCIENCE                          | Agriculture & Natural Resources       |  24280                                | 17281                                 | 12722                                 |  894                                  | 0.04918845                            | 62000                                 | 38500                                 | 90000                                 |\n",
       "| 1105                                  | PLANT SCIENCE AND AGRONOMY            | Agriculture & Natural Resources       |  79409                                | 63043                                 | 51077                                 | 2070                                  | 0.03179089                            | 50000                                 | 35000                                 | 75000                                 |\n",
       "| 1106                                  | SOIL SCIENCE                          | Agriculture & Natural Resources       |   6586                                |  4926                                 |  4042                                 |  264                                  | 0.05086705                            | 63000                                 | 39400                                 | 88000                                 |\n",
       "| 1199                                  | MISCELLANEOUS AGRICULTURE             | Agriculture & Natural Resources       |   8549                                |  6392                                 |  5074                                 |  261                                  | 0.03923042                            | 52000                                 | 35000                                 | 75000                                 |\n",
       "| 1301                                  | ENVIRONMENTAL SCIENCE                 | Biology & Life Science                | 106106                                | 87602                                 | 65238                                 | 4736                                  | 0.05128983                            | 52000                                 | 38000                                 | 75000                                 |\n",
       "| 1302                                  | FORESTRY                              | Agriculture & Natural Resources       |  69447                                | 48228                                 | 39613                                 | 2144                                  | 0.04256333                            | 58000                                 | 40500                                 | 80000                                 |\n",
       "\n"
      ],
      "text/plain": [
       "   Major_code Major                                \n",
       "1  1100       GENERAL AGRICULTURE                  \n",
       "2  1101       AGRICULTURE PRODUCTION AND MANAGEMENT\n",
       "3  1102       AGRICULTURAL ECONOMICS               \n",
       "4  1103       ANIMAL SCIENCES                      \n",
       "5  1104       FOOD SCIENCE                         \n",
       "6  1105       PLANT SCIENCE AND AGRONOMY           \n",
       "7  1106       SOIL SCIENCE                         \n",
       "8  1199       MISCELLANEOUS AGRICULTURE            \n",
       "9  1301       ENVIRONMENTAL SCIENCE                \n",
       "10 1302       FORESTRY                             \n",
       "   Major_category                  Total  Employed\n",
       "1  Agriculture & Natural Resources 128148 90245   \n",
       "2  Agriculture & Natural Resources  95326 76865   \n",
       "3  Agriculture & Natural Resources  33955 26321   \n",
       "4  Agriculture & Natural Resources 103549 81177   \n",
       "5  Agriculture & Natural Resources  24280 17281   \n",
       "6  Agriculture & Natural Resources  79409 63043   \n",
       "7  Agriculture & Natural Resources   6586  4926   \n",
       "8  Agriculture & Natural Resources   8549  6392   \n",
       "9  Biology & Life Science          106106 87602   \n",
       "10 Agriculture & Natural Resources  69447 48228   \n",
       "   Employed_full_time_year_round Unemployed Unemployment_rate Median P25th\n",
       "1  74078                         2423       0.02614711        50000  34000\n",
       "2  64240                         2266       0.02863606        54000  36000\n",
       "3  22810                          821       0.03024832        63000  40000\n",
       "4  64937                         3619       0.04267890        46000  30000\n",
       "5  12722                          894       0.04918845        62000  38500\n",
       "6  51077                         2070       0.03179089        50000  35000\n",
       "7   4042                          264       0.05086705        63000  39400\n",
       "8   5074                          261       0.03923042        52000  35000\n",
       "9  65238                         4736       0.05128983        52000  38000\n",
       "10 39613                         2144       0.04256333        58000  40500\n",
       "   P75th\n",
       "1  80000\n",
       "2  80000\n",
       "3  98000\n",
       "4  72000\n",
       "5  90000\n",
       "6  75000\n",
       "7  88000\n",
       "8  75000\n",
       "9  75000\n",
       "10 80000"
      ]
     },
     "metadata": {},
     "output_type": "display_data"
    }
   ],
   "source": [
    "head(college_df, n = 10)"
   ]
  },
  {
   "cell_type": "code",
   "execution_count": 19,
   "metadata": {},
   "outputs": [
    {
     "name": "stderr",
     "output_type": "stream",
     "text": [
      "`geom_smooth()` using method = 'loess' and formula 'y ~ x'\n"
     ]
    },
    {
     "data": {
      "image/png": "[encoded data removed]",
      "text/plain": [
       "plot without title"
      ]
     },
     "metadata": {},
     "output_type": "display_data"
    },
    {
     "data": {
      "image/png": "[encoded data removed]",
      "text/plain": [
       "plot without title"
      ]
     },
     "metadata": {},
     "output_type": "display_data"
    }
   ],
   "source": [
    "ggplot(data = college_df) +\n",
    "    geom_smooth(mapping = aes(x = Unemployment_rate, y = Median))\n",
    "\n",
    "ggplot(data = college_df) +\n",
    "    geom_smooth(mapping = aes(x = Unemployment_rate, y = Median), method = 'lm', se = FALSE)"
   ]
  },
  {
   "cell_type": "code",
   "execution_count": 27,
   "metadata": {},
   "outputs": [
    {
     "name": "stderr",
     "output_type": "stream",
     "text": [
      "`geom_smooth()` using method = 'loess' and formula 'y ~ x'\n"
     ]
    },
    {
     "data": {
      "image/png": "[encoded data removed]",
      "text/plain": [
       "plot without title"
      ]
     },
     "metadata": {},
     "output_type": "display_data"
    }
   ],
   "source": [
    "plot <- ggplot(data = college_df) +\n",
    "    geom_smooth(mapping = aes(x = Total, y = Employed))\n",
    "plot"
   ]
  },
  {
   "cell_type": "code",
   "execution_count": 35,
   "metadata": {},
   "outputs": [
    {
     "data": {
      "image/png": "[encoded data removed]",
      "text/plain": [
       "plot without title"
      ]
     },
     "metadata": {},
     "output_type": "display_data"
    }
   ],
   "source": [
    "# https://ggplot2-book.org/facet.html\n",
    "base <- ggplot(mpg, aes(displ, hwy)) + \n",
    "  geom_blank() + \n",
    "  xlab(NULL) + \n",
    "  ylab(NULL)\n",
    "\n",
    "base + facet_wrap(. ~class)"
   ]
  },
  {
   "cell_type": "code",
   "execution_count": 36,
   "metadata": {},
   "outputs": [
    {
     "data": {
      "image/png": "[encoded data removed]",
      "text/plain": [
       "plot without title"
      ]
     },
     "metadata": {},
     "output_type": "display_data"
    }
   ],
   "source": [
    "base + facet_grid(drv ~ cyl)"
   ]
  },
  {
   "cell_type": "markdown",
   "metadata": {},
   "source": [
    "## Statistical Transformations and Positional Arguments"
   ]
  },
  {
   "cell_type": "code",
   "execution_count": 37,
   "metadata": {},
   "outputs": [],
   "source": [
    "popn <- tribble(\n",
    "~city, ~population,\n",
    "\"Istanbul\", 15029231,\n",
    "\"Moscow\", 12615279,\n",
    "\"Saint Petersburg\", 9126366,\n",
    "\"Berlin\", 5383890,\n",
    "\"Madrid\", 3748148\n",
    ")"
   ]
  },
  {
   "cell_type": "code",
   "execution_count": 46,
   "metadata": {},
   "outputs": [
    {
     "data": {
      "image/png": "[encoded data removed]",
      "text/plain": [
       "plot without title"
      ]
     },
     "metadata": {},
     "output_type": "display_data"
    }
   ],
   "source": [
    "ggplot(popn) +\n",
    "    geom_bar(mapping = aes(x = city, y = population), stat = \"identity\") +\n",
    "    ggtitle(\"Most Populated Cities in Europe\")"
   ]
  },
  {
   "cell_type": "code",
   "execution_count": 51,
   "metadata": {
    "scrolled": true
   },
   "outputs": [
    {
     "data": {
      "image/png": "[encoded data removed]",
      "text/plain": [
       "plot without title"
      ]
     },
     "metadata": {},
     "output_type": "display_data"
    }
   ],
   "source": [
    "ggplot(popn) +\n",
    "    geom_bar(mapping = aes(x = city, y = population / 1000), stat = \"identity\") +\n",
    "    ggtitle(\"Most Populated Cities in Europe\")"
   ]
  },
  {
   "cell_type": "code",
   "execution_count": 56,
   "metadata": {
    "scrolled": true
   },
   "outputs": [
    {
     "data": {
      "image/png": "[encoded data removed]",
      "text/plain": [
       "plot without title"
      ]
     },
     "metadata": {},
     "output_type": "display_data"
    }
   ],
   "source": [
    "ggplot(data = diamonds) + \n",
    "  geom_bar(mapping = aes(x = cut, fill = clarity), position = \"fill\")"
   ]
  },
  {
   "cell_type": "code",
   "execution_count": 57,
   "metadata": {
    "scrolled": false
   },
   "outputs": [
    {
     "data": {
      "image/png": "[encoded data removed]",
      "text/plain": [
       "plot without title"
      ]
     },
     "metadata": {},
     "output_type": "display_data"
    }
   ],
   "source": [
    "ggplot(data = diamonds) + \n",
    "  geom_bar(mapping = aes(x = cut, fill = clarity), position = \"dodge\")"
   ]
  },
  {
   "cell_type": "code",
   "execution_count": 58,
   "metadata": {
    "scrolled": true
   },
   "outputs": [
    {
     "data": {
      "image/png": "[encoded data removed]",
      "text/plain": [
       "plot without title"
      ]
     },
     "metadata": {},
     "output_type": "display_data"
    },
    {
     "data": {
      "image/png": "[encoded data removed]",
      "text/plain": [
       "plot without title"
      ]
     },
     "metadata": {},
     "output_type": "display_data"
    }
   ],
   "source": [
    "ggplot(data = mpg) + \n",
    "  geom_point(mapping = aes(x = displ, y = hwy))\n",
    "\n",
    "ggplot(data = mpg) + \n",
    "  geom_point(mapping = aes(x = displ, y = hwy), position = \"jitter\")"
   ]
  },
  {
   "cell_type": "markdown",
   "metadata": {},
   "source": [
    "## Dplyr\n",
    "\n",
    "There are five functions in dplyr: filter, arrange, select, mutate and summarise. all of them have the following properties:\n",
    "\n",
    "The first argument is a data frame.\n",
    "The subsequent arguments describe what to do with the data frame, using the variable names (without quotes).\n",
    "The result is a new data frame."
   ]
  },
  {
   "cell_type": "code",
   "execution_count": 62,
   "metadata": {
    "scrolled": true
   },
   "outputs": [
    {
     "data": {
      "text/html": [
       "<table>\n",
       "<thead><tr><th scope=col>carat</th><th scope=col>cut</th><th scope=col>color</th><th scope=col>clarity</th><th scope=col>depth</th><th scope=col>table</th><th scope=col>price</th><th scope=col>x</th><th scope=col>y</th><th scope=col>z</th></tr></thead>\n",
       "<tbody>\n",
       "\t<tr><td>1.05</td><td>Fair</td><td>J   </td><td>SI2 </td><td>65.8</td><td>59  </td><td>2789</td><td>6.41</td><td>6.27</td><td>4.18</td></tr>\n",
       "\t<tr><td>1.00</td><td>Fair</td><td>J   </td><td>VS2 </td><td>65.7</td><td>59  </td><td>2811</td><td>6.14</td><td>6.07</td><td>4.01</td></tr>\n",
       "\t<tr><td>0.99</td><td>Fair</td><td>J   </td><td>SI1 </td><td>55.0</td><td>61  </td><td>2812</td><td>6.72</td><td>6.67</td><td>3.68</td></tr>\n",
       "\t<tr><td>0.90</td><td>Fair</td><td>J   </td><td>VS2 </td><td>65.0</td><td>56  </td><td>2815</td><td>6.08</td><td>6.04</td><td>3.94</td></tr>\n",
       "\t<tr><td>0.91</td><td>Fair</td><td>J   </td><td>VS2 </td><td>64.4</td><td>62  </td><td>2854</td><td>6.06</td><td>6.03</td><td>3.89</td></tr>\n",
       "\t<tr><td>0.91</td><td>Fair</td><td>J   </td><td>VS2 </td><td>65.4</td><td>60  </td><td>2854</td><td>6.04</td><td>6.00</td><td>3.94</td></tr>\n",
       "\t<tr><td>1.00</td><td>Fair</td><td>J   </td><td>VS1 </td><td>65.5</td><td>55  </td><td>2875</td><td>6.30</td><td>6.25</td><td>4.11</td></tr>\n",
       "\t<tr><td>0.99</td><td>Fair</td><td>J   </td><td>SI1 </td><td>58.0</td><td>67  </td><td>2949</td><td>6.57</td><td>6.50</td><td>3.79</td></tr>\n",
       "\t<tr><td>0.90</td><td>Fair</td><td>J   </td><td>VS1 </td><td>65.4</td><td>60  </td><td>2964</td><td>6.02</td><td>5.93</td><td>3.91</td></tr>\n",
       "\t<tr><td>0.90</td><td>Fair</td><td>J   </td><td>VS1 </td><td>64.6</td><td>58  </td><td>2964</td><td>6.12</td><td>6.06</td><td>3.93</td></tr>\n",
       "\t<tr><td>1.06</td><td>Fair</td><td>J   </td><td>SI2 </td><td>61.0</td><td>66  </td><td>2992</td><td>6.54</td><td>6.35</td><td>3.93</td></tr>\n",
       "\t<tr><td>1.01</td><td>Fair</td><td>J   </td><td>VVS2</td><td>66.0</td><td>56  </td><td>2998</td><td>6.29</td><td>6.22</td><td>4.13</td></tr>\n",
       "\t<tr><td>1.20</td><td>Fair</td><td>J   </td><td>I1  </td><td>64.9</td><td>59  </td><td>3011</td><td>6.61</td><td>6.54</td><td>4.27</td></tr>\n",
       "\t<tr><td>1.02</td><td>Fair</td><td>J   </td><td>SI1 </td><td>66.8</td><td>55  </td><td>3027</td><td>6.25</td><td>6.18</td><td>4.15</td></tr>\n",
       "\t<tr><td>1.00</td><td>Fair</td><td>J   </td><td>VS1 </td><td>66.6</td><td>57  </td><td>3080</td><td>6.07</td><td>6.03</td><td>4.03</td></tr>\n",
       "\t<tr><td>1.02</td><td>Fair</td><td>J   </td><td>SI2 </td><td>65.0</td><td>59  </td><td>3119</td><td>6.34</td><td>6.24</td><td>4.08</td></tr>\n",
       "\t<tr><td>1.03</td><td>Fair</td><td>J   </td><td>SI2 </td><td>64.6</td><td>62  </td><td>3149</td><td>6.30</td><td>6.21</td><td>4.06</td></tr>\n",
       "\t<tr><td>0.95</td><td>Fair</td><td>J   </td><td>SI1 </td><td>58.0</td><td>66  </td><td>3154</td><td>6.50</td><td>6.46</td><td>3.76</td></tr>\n",
       "\t<tr><td>1.00</td><td>Fair</td><td>J   </td><td>SI1 </td><td>65.3</td><td>57  </td><td>3175</td><td>6.33</td><td>6.12</td><td>4.08</td></tr>\n",
       "\t<tr><td>1.01</td><td>Fair</td><td>J   </td><td>VS2 </td><td>65.8</td><td>55  </td><td>3190</td><td>6.29</td><td>6.24</td><td>4.12</td></tr>\n",
       "\t<tr><td>1.00</td><td>Fair</td><td>J   </td><td>SI2 </td><td>56.3</td><td>64  </td><td>3199</td><td>6.58</td><td>6.54</td><td>3.69</td></tr>\n",
       "\t<tr><td>1.03</td><td>Fair</td><td>J   </td><td>SI2 </td><td>56.2</td><td>62  </td><td>3246</td><td>6.73</td><td>6.69</td><td>3.77</td></tr>\n",
       "\t<tr><td>1.08</td><td>Fair</td><td>J   </td><td>SI2 </td><td>64.9</td><td>60  </td><td>3302</td><td>6.46</td><td>6.32</td><td>4.15</td></tr>\n",
       "\t<tr><td>1.14</td><td>Fair</td><td>J   </td><td>SI2 </td><td>64.4</td><td>55  </td><td>3403</td><td>6.56</td><td>6.54</td><td>4.22</td></tr>\n",
       "\t<tr><td>1.00</td><td>Fair</td><td>J   </td><td>VS2 </td><td>65.3</td><td>61  </td><td>3422</td><td>6.33</td><td>6.13</td><td>4.03</td></tr>\n",
       "\t<tr><td>1.00</td><td>Fair</td><td>J   </td><td>SI1 </td><td>64.9</td><td>58  </td><td>3427</td><td>6.29</td><td>6.23</td><td>4.06</td></tr>\n",
       "\t<tr><td>1.09</td><td>Fair</td><td>J   </td><td>VS2 </td><td>64.6</td><td>58  </td><td>3443</td><td>6.48</td><td>6.41</td><td>4.16</td></tr>\n",
       "\t<tr><td>1.00</td><td>Fair</td><td>J   </td><td>SI1 </td><td>64.7</td><td>52  </td><td>3780</td><td>6.35</td><td>6.30</td><td>4.09</td></tr>\n",
       "\t<tr><td>1.01</td><td>Fair</td><td>J   </td><td>VS2 </td><td>59.6</td><td>62  </td><td>3886</td><td>6.54</td><td>6.49</td><td>3.88</td></tr>\n",
       "\t<tr><td>1.08</td><td>Fair</td><td>J   </td><td>VS2 </td><td>65.1</td><td>54  </td><td>3980</td><td>6.47</td><td>6.44</td><td>4.20</td></tr>\n",
       "\t<tr><td>...</td><td>...</td><td>...</td><td>...</td><td>...</td><td>...</td><td>...</td><td>...</td><td>...</td><td>...</td></tr>\n",
       "\t<tr><td>0.61</td><td>Fair</td><td>J   </td><td>VS2 </td><td>58.2</td><td>56  </td><td>1174</td><td>5.74</td><td>5.49</td><td>3.27</td></tr>\n",
       "\t<tr><td>0.85</td><td>Fair</td><td>J   </td><td>I1  </td><td>65.5</td><td>59  </td><td>1334</td><td>5.95</td><td>5.82</td><td>3.86</td></tr>\n",
       "\t<tr><td>0.71</td><td>Fair</td><td>J   </td><td>SI2 </td><td>66.1</td><td>58  </td><td>1362</td><td>5.53</td><td>5.43</td><td>3.62</td></tr>\n",
       "\t<tr><td>0.71</td><td>Fair</td><td>J   </td><td>SI2 </td><td>65.5</td><td>61  </td><td>1409</td><td>5.54</td><td>5.49</td><td>3.61</td></tr>\n",
       "\t<tr><td>0.71</td><td>Fair</td><td>J   </td><td>VS2 </td><td>64.9</td><td>54  </td><td>1435</td><td>5.63</td><td>5.53</td><td>3.62</td></tr>\n",
       "\t<tr><td>0.70</td><td>Fair</td><td>J   </td><td>VS2 </td><td>64.6</td><td>58  </td><td>1672</td><td>5.58</td><td>5.56</td><td>3.60</td></tr>\n",
       "\t<tr><td>0.70</td><td>Fair</td><td>J   </td><td>VVS1</td><td>67.6</td><td>54  </td><td>1691</td><td>5.56</td><td>5.41</td><td>3.71</td></tr>\n",
       "\t<tr><td>0.70</td><td>Fair</td><td>J   </td><td>SI1 </td><td>63.0</td><td>57  </td><td>1723</td><td>5.55</td><td>5.60</td><td>3.51</td></tr>\n",
       "\t<tr><td>0.72</td><td>Fair</td><td>J   </td><td>SI2 </td><td>66.1</td><td>55  </td><td>1762</td><td>5.51</td><td>5.56</td><td>3.66</td></tr>\n",
       "\t<tr><td>1.00</td><td>Fair</td><td>J   </td><td>I1  </td><td>65.0</td><td>59  </td><td>1784</td><td>6.27</td><td>6.17</td><td>4.05</td></tr>\n",
       "\t<tr><td>0.99</td><td>Fair</td><td>J   </td><td>I1  </td><td>73.6</td><td>60  </td><td>1789</td><td>6.01</td><td>5.80</td><td>4.35</td></tr>\n",
       "\t<tr><td>0.73</td><td>Fair</td><td>J   </td><td>VS1 </td><td>64.6</td><td>60  </td><td>1802</td><td>5.68</td><td>5.59</td><td>3.64</td></tr>\n",
       "\t<tr><td>0.71</td><td>Fair</td><td>J   </td><td>VS2 </td><td>64.4</td><td>56  </td><td>1826</td><td>5.64</td><td>5.60</td><td>3.62</td></tr>\n",
       "\t<tr><td>0.75</td><td>Fair</td><td>J   </td><td>SI1 </td><td>55.0</td><td>66  </td><td>1827</td><td>6.20</td><td>6.04</td><td>3.37</td></tr>\n",
       "\t<tr><td>0.75</td><td>Fair</td><td>J   </td><td>VS1 </td><td>61.9</td><td>67  </td><td>1869</td><td>5.80</td><td>5.70</td><td>3.56</td></tr>\n",
       "\t<tr><td>0.70</td><td>Fair</td><td>J   </td><td>VS2 </td><td>67.4</td><td>58  </td><td>1896</td><td>5.34</td><td>5.37</td><td>3.61</td></tr>\n",
       "\t<tr><td>0.99</td><td>Fair</td><td>J   </td><td>I1  </td><td>62.9</td><td>58  </td><td>1901</td><td>6.33</td><td>6.10</td><td>3.91</td></tr>\n",
       "\t<tr><td>0.75</td><td>Fair</td><td>J   </td><td>VS2 </td><td>59.1</td><td>66  </td><td>1944</td><td>5.99</td><td>5.82</td><td>3.49</td></tr>\n",
       "\t<tr><td>0.77</td><td>Fair</td><td>J   </td><td>SI1 </td><td>60.2</td><td>66  </td><td>1956</td><td>5.97</td><td>5.81</td><td>3.55</td></tr>\n",
       "\t<tr><td>0.74</td><td>Fair</td><td>J   </td><td>VS1 </td><td>58.8</td><td>68  </td><td>1982</td><td>5.91</td><td>5.80</td><td>3.44</td></tr>\n",
       "\t<tr><td>0.77</td><td>Fair</td><td>J   </td><td>VS1 </td><td>61.2</td><td>66  </td><td>2005</td><td>5.92</td><td>5.83</td><td>3.60</td></tr>\n",
       "\t<tr><td>1.00</td><td>Fair</td><td>J   </td><td>SI2 </td><td>69.9</td><td>61  </td><td>2117</td><td>6.13</td><td>5.86</td><td>4.23</td></tr>\n",
       "\t<tr><td>0.96</td><td>Fair</td><td>J   </td><td>I1  </td><td>59.5</td><td>60  </td><td>2304</td><td>6.28</td><td>6.23</td><td>3.72</td></tr>\n",
       "\t<tr><td>0.95</td><td>Fair</td><td>J   </td><td>I1  </td><td>64.9</td><td>56  </td><td>2322</td><td>6.17</td><td>6.12</td><td>3.99</td></tr>\n",
       "\t<tr><td>0.91</td><td>Fair</td><td>J   </td><td>SI1 </td><td>66.3</td><td>56  </td><td>2390</td><td>5.92</td><td>5.99</td><td>3.95</td></tr>\n",
       "\t<tr><td>0.90</td><td>Fair</td><td>J   </td><td>SI1 </td><td>64.6</td><td>61  </td><td>2438</td><td>5.92</td><td>5.87</td><td>3.81</td></tr>\n",
       "\t<tr><td>0.96</td><td>Fair</td><td>J   </td><td>SI1 </td><td>67.3</td><td>56  </td><td>2517</td><td>6.06</td><td>6.01</td><td>4.06</td></tr>\n",
       "\t<tr><td>0.90</td><td>Fair</td><td>J   </td><td>SI2 </td><td>66.6</td><td>54  </td><td>2536</td><td>6.05</td><td>5.99</td><td>4.01</td></tr>\n",
       "\t<tr><td>0.97</td><td>Fair</td><td>J   </td><td>SI2 </td><td>60.8</td><td>67  </td><td>2538</td><td>6.41</td><td>6.32</td><td>3.87</td></tr>\n",
       "\t<tr><td>1.01</td><td>Fair</td><td>J   </td><td>SI2 </td><td>66.9</td><td>58  </td><td>2683</td><td>6.13</td><td>6.07</td><td>4.08</td></tr>\n",
       "</tbody>\n",
       "</table>\n"
      ],
      "text/latex": [
       "\\begin{tabular}{r|llllllllll}\n",
       " carat & cut & color & clarity & depth & table & price & x & y & z\\\\\n",
       "\\hline\n",
       "\t 1.05 & Fair & J    & SI2  & 65.8 & 59   & 2789 & 6.41 & 6.27 & 4.18\\\\\n",
       "\t 1.00 & Fair & J    & VS2  & 65.7 & 59   & 2811 & 6.14 & 6.07 & 4.01\\\\\n",
       "\t 0.99 & Fair & J    & SI1  & 55.0 & 61   & 2812 & 6.72 & 6.67 & 3.68\\\\\n",
       "\t 0.90 & Fair & J    & VS2  & 65.0 & 56   & 2815 & 6.08 & 6.04 & 3.94\\\\\n",
       "\t 0.91 & Fair & J    & VS2  & 64.4 & 62   & 2854 & 6.06 & 6.03 & 3.89\\\\\n",
       "\t 0.91 & Fair & J    & VS2  & 65.4 & 60   & 2854 & 6.04 & 6.00 & 3.94\\\\\n",
       "\t 1.00 & Fair & J    & VS1  & 65.5 & 55   & 2875 & 6.30 & 6.25 & 4.11\\\\\n",
       "\t 0.99 & Fair & J    & SI1  & 58.0 & 67   & 2949 & 6.57 & 6.50 & 3.79\\\\\n",
       "\t 0.90 & Fair & J    & VS1  & 65.4 & 60   & 2964 & 6.02 & 5.93 & 3.91\\\\\n",
       "\t 0.90 & Fair & J    & VS1  & 64.6 & 58   & 2964 & 6.12 & 6.06 & 3.93\\\\\n",
       "\t 1.06 & Fair & J    & SI2  & 61.0 & 66   & 2992 & 6.54 & 6.35 & 3.93\\\\\n",
       "\t 1.01 & Fair & J    & VVS2 & 66.0 & 56   & 2998 & 6.29 & 6.22 & 4.13\\\\\n",
       "\t 1.20 & Fair & J    & I1   & 64.9 & 59   & 3011 & 6.61 & 6.54 & 4.27\\\\\n",
       "\t 1.02 & Fair & J    & SI1  & 66.8 & 55   & 3027 & 6.25 & 6.18 & 4.15\\\\\n",
       "\t 1.00 & Fair & J    & VS1  & 66.6 & 57   & 3080 & 6.07 & 6.03 & 4.03\\\\\n",
       "\t 1.02 & Fair & J    & SI2  & 65.0 & 59   & 3119 & 6.34 & 6.24 & 4.08\\\\\n",
       "\t 1.03 & Fair & J    & SI2  & 64.6 & 62   & 3149 & 6.30 & 6.21 & 4.06\\\\\n",
       "\t 0.95 & Fair & J    & SI1  & 58.0 & 66   & 3154 & 6.50 & 6.46 & 3.76\\\\\n",
       "\t 1.00 & Fair & J    & SI1  & 65.3 & 57   & 3175 & 6.33 & 6.12 & 4.08\\\\\n",
       "\t 1.01 & Fair & J    & VS2  & 65.8 & 55   & 3190 & 6.29 & 6.24 & 4.12\\\\\n",
       "\t 1.00 & Fair & J    & SI2  & 56.3 & 64   & 3199 & 6.58 & 6.54 & 3.69\\\\\n",
       "\t 1.03 & Fair & J    & SI2  & 56.2 & 62   & 3246 & 6.73 & 6.69 & 3.77\\\\\n",
       "\t 1.08 & Fair & J    & SI2  & 64.9 & 60   & 3302 & 6.46 & 6.32 & 4.15\\\\\n",
       "\t 1.14 & Fair & J    & SI2  & 64.4 & 55   & 3403 & 6.56 & 6.54 & 4.22\\\\\n",
       "\t 1.00 & Fair & J    & VS2  & 65.3 & 61   & 3422 & 6.33 & 6.13 & 4.03\\\\\n",
       "\t 1.00 & Fair & J    & SI1  & 64.9 & 58   & 3427 & 6.29 & 6.23 & 4.06\\\\\n",
       "\t 1.09 & Fair & J    & VS2  & 64.6 & 58   & 3443 & 6.48 & 6.41 & 4.16\\\\\n",
       "\t 1.00 & Fair & J    & SI1  & 64.7 & 52   & 3780 & 6.35 & 6.30 & 4.09\\\\\n",
       "\t 1.01 & Fair & J    & VS2  & 59.6 & 62   & 3886 & 6.54 & 6.49 & 3.88\\\\\n",
       "\t 1.08 & Fair & J    & VS2  & 65.1 & 54   & 3980 & 6.47 & 6.44 & 4.20\\\\\n",
       "\t ... & ... & ... & ... & ... & ... & ... & ... & ... & ...\\\\\n",
       "\t 0.61 & Fair & J    & VS2  & 58.2 & 56   & 1174 & 5.74 & 5.49 & 3.27\\\\\n",
       "\t 0.85 & Fair & J    & I1   & 65.5 & 59   & 1334 & 5.95 & 5.82 & 3.86\\\\\n",
       "\t 0.71 & Fair & J    & SI2  & 66.1 & 58   & 1362 & 5.53 & 5.43 & 3.62\\\\\n",
       "\t 0.71 & Fair & J    & SI2  & 65.5 & 61   & 1409 & 5.54 & 5.49 & 3.61\\\\\n",
       "\t 0.71 & Fair & J    & VS2  & 64.9 & 54   & 1435 & 5.63 & 5.53 & 3.62\\\\\n",
       "\t 0.70 & Fair & J    & VS2  & 64.6 & 58   & 1672 & 5.58 & 5.56 & 3.60\\\\\n",
       "\t 0.70 & Fair & J    & VVS1 & 67.6 & 54   & 1691 & 5.56 & 5.41 & 3.71\\\\\n",
       "\t 0.70 & Fair & J    & SI1  & 63.0 & 57   & 1723 & 5.55 & 5.60 & 3.51\\\\\n",
       "\t 0.72 & Fair & J    & SI2  & 66.1 & 55   & 1762 & 5.51 & 5.56 & 3.66\\\\\n",
       "\t 1.00 & Fair & J    & I1   & 65.0 & 59   & 1784 & 6.27 & 6.17 & 4.05\\\\\n",
       "\t 0.99 & Fair & J    & I1   & 73.6 & 60   & 1789 & 6.01 & 5.80 & 4.35\\\\\n",
       "\t 0.73 & Fair & J    & VS1  & 64.6 & 60   & 1802 & 5.68 & 5.59 & 3.64\\\\\n",
       "\t 0.71 & Fair & J    & VS2  & 64.4 & 56   & 1826 & 5.64 & 5.60 & 3.62\\\\\n",
       "\t 0.75 & Fair & J    & SI1  & 55.0 & 66   & 1827 & 6.20 & 6.04 & 3.37\\\\\n",
       "\t 0.75 & Fair & J    & VS1  & 61.9 & 67   & 1869 & 5.80 & 5.70 & 3.56\\\\\n",
       "\t 0.70 & Fair & J    & VS2  & 67.4 & 58   & 1896 & 5.34 & 5.37 & 3.61\\\\\n",
       "\t 0.99 & Fair & J    & I1   & 62.9 & 58   & 1901 & 6.33 & 6.10 & 3.91\\\\\n",
       "\t 0.75 & Fair & J    & VS2  & 59.1 & 66   & 1944 & 5.99 & 5.82 & 3.49\\\\\n",
       "\t 0.77 & Fair & J    & SI1  & 60.2 & 66   & 1956 & 5.97 & 5.81 & 3.55\\\\\n",
       "\t 0.74 & Fair & J    & VS1  & 58.8 & 68   & 1982 & 5.91 & 5.80 & 3.44\\\\\n",
       "\t 0.77 & Fair & J    & VS1  & 61.2 & 66   & 2005 & 5.92 & 5.83 & 3.60\\\\\n",
       "\t 1.00 & Fair & J    & SI2  & 69.9 & 61   & 2117 & 6.13 & 5.86 & 4.23\\\\\n",
       "\t 0.96 & Fair & J    & I1   & 59.5 & 60   & 2304 & 6.28 & 6.23 & 3.72\\\\\n",
       "\t 0.95 & Fair & J    & I1   & 64.9 & 56   & 2322 & 6.17 & 6.12 & 3.99\\\\\n",
       "\t 0.91 & Fair & J    & SI1  & 66.3 & 56   & 2390 & 5.92 & 5.99 & 3.95\\\\\n",
       "\t 0.90 & Fair & J    & SI1  & 64.6 & 61   & 2438 & 5.92 & 5.87 & 3.81\\\\\n",
       "\t 0.96 & Fair & J    & SI1  & 67.3 & 56   & 2517 & 6.06 & 6.01 & 4.06\\\\\n",
       "\t 0.90 & Fair & J    & SI2  & 66.6 & 54   & 2536 & 6.05 & 5.99 & 4.01\\\\\n",
       "\t 0.97 & Fair & J    & SI2  & 60.8 & 67   & 2538 & 6.41 & 6.32 & 3.87\\\\\n",
       "\t 1.01 & Fair & J    & SI2  & 66.9 & 58   & 2683 & 6.13 & 6.07 & 4.08\\\\\n",
       "\\end{tabular}\n"
      ],
      "text/markdown": [
       "\n",
       "| carat | cut | color | clarity | depth | table | price | x | y | z |\n",
       "|---|---|---|---|---|---|---|---|---|---|\n",
       "| 1.05 | Fair | J    | SI2  | 65.8 | 59   | 2789 | 6.41 | 6.27 | 4.18 |\n",
       "| 1.00 | Fair | J    | VS2  | 65.7 | 59   | 2811 | 6.14 | 6.07 | 4.01 |\n",
       "| 0.99 | Fair | J    | SI1  | 55.0 | 61   | 2812 | 6.72 | 6.67 | 3.68 |\n",
       "| 0.90 | Fair | J    | VS2  | 65.0 | 56   | 2815 | 6.08 | 6.04 | 3.94 |\n",
       "| 0.91 | Fair | J    | VS2  | 64.4 | 62   | 2854 | 6.06 | 6.03 | 3.89 |\n",
       "| 0.91 | Fair | J    | VS2  | 65.4 | 60   | 2854 | 6.04 | 6.00 | 3.94 |\n",
       "| 1.00 | Fair | J    | VS1  | 65.5 | 55   | 2875 | 6.30 | 6.25 | 4.11 |\n",
       "| 0.99 | Fair | J    | SI1  | 58.0 | 67   | 2949 | 6.57 | 6.50 | 3.79 |\n",
       "| 0.90 | Fair | J    | VS1  | 65.4 | 60   | 2964 | 6.02 | 5.93 | 3.91 |\n",
       "| 0.90 | Fair | J    | VS1  | 64.6 | 58   | 2964 | 6.12 | 6.06 | 3.93 |\n",
       "| 1.06 | Fair | J    | SI2  | 61.0 | 66   | 2992 | 6.54 | 6.35 | 3.93 |\n",
       "| 1.01 | Fair | J    | VVS2 | 66.0 | 56   | 2998 | 6.29 | 6.22 | 4.13 |\n",
       "| 1.20 | Fair | J    | I1   | 64.9 | 59   | 3011 | 6.61 | 6.54 | 4.27 |\n",
       "| 1.02 | Fair | J    | SI1  | 66.8 | 55   | 3027 | 6.25 | 6.18 | 4.15 |\n",
       "| 1.00 | Fair | J    | VS1  | 66.6 | 57   | 3080 | 6.07 | 6.03 | 4.03 |\n",
       "| 1.02 | Fair | J    | SI2  | 65.0 | 59   | 3119 | 6.34 | 6.24 | 4.08 |\n",
       "| 1.03 | Fair | J    | SI2  | 64.6 | 62   | 3149 | 6.30 | 6.21 | 4.06 |\n",
       "| 0.95 | Fair | J    | SI1  | 58.0 | 66   | 3154 | 6.50 | 6.46 | 3.76 |\n",
       "| 1.00 | Fair | J    | SI1  | 65.3 | 57   | 3175 | 6.33 | 6.12 | 4.08 |\n",
       "| 1.01 | Fair | J    | VS2  | 65.8 | 55   | 3190 | 6.29 | 6.24 | 4.12 |\n",
       "| 1.00 | Fair | J    | SI2  | 56.3 | 64   | 3199 | 6.58 | 6.54 | 3.69 |\n",
       "| 1.03 | Fair | J    | SI2  | 56.2 | 62   | 3246 | 6.73 | 6.69 | 3.77 |\n",
       "| 1.08 | Fair | J    | SI2  | 64.9 | 60   | 3302 | 6.46 | 6.32 | 4.15 |\n",
       "| 1.14 | Fair | J    | SI2  | 64.4 | 55   | 3403 | 6.56 | 6.54 | 4.22 |\n",
       "| 1.00 | Fair | J    | VS2  | 65.3 | 61   | 3422 | 6.33 | 6.13 | 4.03 |\n",
       "| 1.00 | Fair | J    | SI1  | 64.9 | 58   | 3427 | 6.29 | 6.23 | 4.06 |\n",
       "| 1.09 | Fair | J    | VS2  | 64.6 | 58   | 3443 | 6.48 | 6.41 | 4.16 |\n",
       "| 1.00 | Fair | J    | SI1  | 64.7 | 52   | 3780 | 6.35 | 6.30 | 4.09 |\n",
       "| 1.01 | Fair | J    | VS2  | 59.6 | 62   | 3886 | 6.54 | 6.49 | 3.88 |\n",
       "| 1.08 | Fair | J    | VS2  | 65.1 | 54   | 3980 | 6.47 | 6.44 | 4.20 |\n",
       "| ... | ... | ... | ... | ... | ... | ... | ... | ... | ... |\n",
       "| 0.61 | Fair | J    | VS2  | 58.2 | 56   | 1174 | 5.74 | 5.49 | 3.27 |\n",
       "| 0.85 | Fair | J    | I1   | 65.5 | 59   | 1334 | 5.95 | 5.82 | 3.86 |\n",
       "| 0.71 | Fair | J    | SI2  | 66.1 | 58   | 1362 | 5.53 | 5.43 | 3.62 |\n",
       "| 0.71 | Fair | J    | SI2  | 65.5 | 61   | 1409 | 5.54 | 5.49 | 3.61 |\n",
       "| 0.71 | Fair | J    | VS2  | 64.9 | 54   | 1435 | 5.63 | 5.53 | 3.62 |\n",
       "| 0.70 | Fair | J    | VS2  | 64.6 | 58   | 1672 | 5.58 | 5.56 | 3.60 |\n",
       "| 0.70 | Fair | J    | VVS1 | 67.6 | 54   | 1691 | 5.56 | 5.41 | 3.71 |\n",
       "| 0.70 | Fair | J    | SI1  | 63.0 | 57   | 1723 | 5.55 | 5.60 | 3.51 |\n",
       "| 0.72 | Fair | J    | SI2  | 66.1 | 55   | 1762 | 5.51 | 5.56 | 3.66 |\n",
       "| 1.00 | Fair | J    | I1   | 65.0 | 59   | 1784 | 6.27 | 6.17 | 4.05 |\n",
       "| 0.99 | Fair | J    | I1   | 73.6 | 60   | 1789 | 6.01 | 5.80 | 4.35 |\n",
       "| 0.73 | Fair | J    | VS1  | 64.6 | 60   | 1802 | 5.68 | 5.59 | 3.64 |\n",
       "| 0.71 | Fair | J    | VS2  | 64.4 | 56   | 1826 | 5.64 | 5.60 | 3.62 |\n",
       "| 0.75 | Fair | J    | SI1  | 55.0 | 66   | 1827 | 6.20 | 6.04 | 3.37 |\n",
       "| 0.75 | Fair | J    | VS1  | 61.9 | 67   | 1869 | 5.80 | 5.70 | 3.56 |\n",
       "| 0.70 | Fair | J    | VS2  | 67.4 | 58   | 1896 | 5.34 | 5.37 | 3.61 |\n",
       "| 0.99 | Fair | J    | I1   | 62.9 | 58   | 1901 | 6.33 | 6.10 | 3.91 |\n",
       "| 0.75 | Fair | J    | VS2  | 59.1 | 66   | 1944 | 5.99 | 5.82 | 3.49 |\n",
       "| 0.77 | Fair | J    | SI1  | 60.2 | 66   | 1956 | 5.97 | 5.81 | 3.55 |\n",
       "| 0.74 | Fair | J    | VS1  | 58.8 | 68   | 1982 | 5.91 | 5.80 | 3.44 |\n",
       "| 0.77 | Fair | J    | VS1  | 61.2 | 66   | 2005 | 5.92 | 5.83 | 3.60 |\n",
       "| 1.00 | Fair | J    | SI2  | 69.9 | 61   | 2117 | 6.13 | 5.86 | 4.23 |\n",
       "| 0.96 | Fair | J    | I1   | 59.5 | 60   | 2304 | 6.28 | 6.23 | 3.72 |\n",
       "| 0.95 | Fair | J    | I1   | 64.9 | 56   | 2322 | 6.17 | 6.12 | 3.99 |\n",
       "| 0.91 | Fair | J    | SI1  | 66.3 | 56   | 2390 | 5.92 | 5.99 | 3.95 |\n",
       "| 0.90 | Fair | J    | SI1  | 64.6 | 61   | 2438 | 5.92 | 5.87 | 3.81 |\n",
       "| 0.96 | Fair | J    | SI1  | 67.3 | 56   | 2517 | 6.06 | 6.01 | 4.06 |\n",
       "| 0.90 | Fair | J    | SI2  | 66.6 | 54   | 2536 | 6.05 | 5.99 | 4.01 |\n",
       "| 0.97 | Fair | J    | SI2  | 60.8 | 67   | 2538 | 6.41 | 6.32 | 3.87 |\n",
       "| 1.01 | Fair | J    | SI2  | 66.9 | 58   | 2683 | 6.13 | 6.07 | 4.08 |\n",
       "\n"
      ],
      "text/plain": [
       "    carat cut  color clarity depth table price x    y    z   \n",
       "1   1.05  Fair J     SI2     65.8  59    2789  6.41 6.27 4.18\n",
       "2   1.00  Fair J     VS2     65.7  59    2811  6.14 6.07 4.01\n",
       "3   0.99  Fair J     SI1     55.0  61    2812  6.72 6.67 3.68\n",
       "4   0.90  Fair J     VS2     65.0  56    2815  6.08 6.04 3.94\n",
       "5   0.91  Fair J     VS2     64.4  62    2854  6.06 6.03 3.89\n",
       "6   0.91  Fair J     VS2     65.4  60    2854  6.04 6.00 3.94\n",
       "7   1.00  Fair J     VS1     65.5  55    2875  6.30 6.25 4.11\n",
       "8   0.99  Fair J     SI1     58.0  67    2949  6.57 6.50 3.79\n",
       "9   0.90  Fair J     VS1     65.4  60    2964  6.02 5.93 3.91\n",
       "10  0.90  Fair J     VS1     64.6  58    2964  6.12 6.06 3.93\n",
       "11  1.06  Fair J     SI2     61.0  66    2992  6.54 6.35 3.93\n",
       "12  1.01  Fair J     VVS2    66.0  56    2998  6.29 6.22 4.13\n",
       "13  1.20  Fair J     I1      64.9  59    3011  6.61 6.54 4.27\n",
       "14  1.02  Fair J     SI1     66.8  55    3027  6.25 6.18 4.15\n",
       "15  1.00  Fair J     VS1     66.6  57    3080  6.07 6.03 4.03\n",
       "16  1.02  Fair J     SI2     65.0  59    3119  6.34 6.24 4.08\n",
       "17  1.03  Fair J     SI2     64.6  62    3149  6.30 6.21 4.06\n",
       "18  0.95  Fair J     SI1     58.0  66    3154  6.50 6.46 3.76\n",
       "19  1.00  Fair J     SI1     65.3  57    3175  6.33 6.12 4.08\n",
       "20  1.01  Fair J     VS2     65.8  55    3190  6.29 6.24 4.12\n",
       "21  1.00  Fair J     SI2     56.3  64    3199  6.58 6.54 3.69\n",
       "22  1.03  Fair J     SI2     56.2  62    3246  6.73 6.69 3.77\n",
       "23  1.08  Fair J     SI2     64.9  60    3302  6.46 6.32 4.15\n",
       "24  1.14  Fair J     SI2     64.4  55    3403  6.56 6.54 4.22\n",
       "25  1.00  Fair J     VS2     65.3  61    3422  6.33 6.13 4.03\n",
       "26  1.00  Fair J     SI1     64.9  58    3427  6.29 6.23 4.06\n",
       "27  1.09  Fair J     VS2     64.6  58    3443  6.48 6.41 4.16\n",
       "28  1.00  Fair J     SI1     64.7  52    3780  6.35 6.30 4.09\n",
       "29  1.01  Fair J     VS2     59.6  62    3886  6.54 6.49 3.88\n",
       "30  1.08  Fair J     VS2     65.1  54    3980  6.47 6.44 4.20\n",
       "... ...   ...  ...   ...     ...   ...   ...   ...  ...  ... \n",
       "90  0.61  Fair J     VS2     58.2  56    1174  5.74 5.49 3.27\n",
       "91  0.85  Fair J     I1      65.5  59    1334  5.95 5.82 3.86\n",
       "92  0.71  Fair J     SI2     66.1  58    1362  5.53 5.43 3.62\n",
       "93  0.71  Fair J     SI2     65.5  61    1409  5.54 5.49 3.61\n",
       "94  0.71  Fair J     VS2     64.9  54    1435  5.63 5.53 3.62\n",
       "95  0.70  Fair J     VS2     64.6  58    1672  5.58 5.56 3.60\n",
       "96  0.70  Fair J     VVS1    67.6  54    1691  5.56 5.41 3.71\n",
       "97  0.70  Fair J     SI1     63.0  57    1723  5.55 5.60 3.51\n",
       "98  0.72  Fair J     SI2     66.1  55    1762  5.51 5.56 3.66\n",
       "99  1.00  Fair J     I1      65.0  59    1784  6.27 6.17 4.05\n",
       "100 0.99  Fair J     I1      73.6  60    1789  6.01 5.80 4.35\n",
       "101 0.73  Fair J     VS1     64.6  60    1802  5.68 5.59 3.64\n",
       "102 0.71  Fair J     VS2     64.4  56    1826  5.64 5.60 3.62\n",
       "103 0.75  Fair J     SI1     55.0  66    1827  6.20 6.04 3.37\n",
       "104 0.75  Fair J     VS1     61.9  67    1869  5.80 5.70 3.56\n",
       "105 0.70  Fair J     VS2     67.4  58    1896  5.34 5.37 3.61\n",
       "106 0.99  Fair J     I1      62.9  58    1901  6.33 6.10 3.91\n",
       "107 0.75  Fair J     VS2     59.1  66    1944  5.99 5.82 3.49\n",
       "108 0.77  Fair J     SI1     60.2  66    1956  5.97 5.81 3.55\n",
       "109 0.74  Fair J     VS1     58.8  68    1982  5.91 5.80 3.44\n",
       "110 0.77  Fair J     VS1     61.2  66    2005  5.92 5.83 3.60\n",
       "111 1.00  Fair J     SI2     69.9  61    2117  6.13 5.86 4.23\n",
       "112 0.96  Fair J     I1      59.5  60    2304  6.28 6.23 3.72\n",
       "113 0.95  Fair J     I1      64.9  56    2322  6.17 6.12 3.99\n",
       "114 0.91  Fair J     SI1     66.3  56    2390  5.92 5.99 3.95\n",
       "115 0.90  Fair J     SI1     64.6  61    2438  5.92 5.87 3.81\n",
       "116 0.96  Fair J     SI1     67.3  56    2517  6.06 6.01 4.06\n",
       "117 0.90  Fair J     SI2     66.6  54    2536  6.05 5.99 4.01\n",
       "118 0.97  Fair J     SI2     60.8  67    2538  6.41 6.32 3.87\n",
       "119 1.01  Fair J     SI2     66.9  58    2683  6.13 6.07 4.08"
      ]
     },
     "metadata": {},
     "output_type": "display_data"
    }
   ],
   "source": [
    "filter(diamonds,  color == 'J', cut == 'Fair')"
   ]
  },
  {
   "cell_type": "code",
   "execution_count": null,
   "metadata": {},
   "outputs": [],
   "source": [
    "## a = filter(diamonds, color == 'D' | clarity=='VS2') \n",
    "# filtering for rows that satisfy one or both of the conditions\n",
    "\n",
    "b = filter(diamonds, color == 'D' & clarity == 'VS2') \n",
    "# filtering for rows that satisfy both conditions\n",
    "\n",
    "best_cuts = filter(diamonds, cut == 'Ideal') \n",
    "# filtering using membership condition\n",
    "\n",
    "not_worst_cuts = filter(diamonds, cut > 'Fair') \n",
    "# can do this because cut is an ordinal variable\n"
   ]
  },
  {
   "cell_type": "code",
   "execution_count": 78,
   "metadata": {},
   "outputs": [
    {
     "data": {
      "text/html": [
       "<table>\n",
       "<thead><tr><th scope=col>carat</th><th scope=col>cut</th><th scope=col>color</th><th scope=col>clarity</th><th scope=col>depth</th><th scope=col>table</th><th scope=col>price</th><th scope=col>x</th><th scope=col>y</th><th scope=col>z</th></tr></thead>\n",
       "<tbody>\n",
       "\t<tr><td>0.29     </td><td>Premium  </td><td>I        </td><td>VS2      </td><td>62.4     </td><td>58       </td><td>334      </td><td>4.20     </td><td>4.23     </td><td>2.63     </td></tr>\n",
       "\t<tr><td>0.22     </td><td>Fair     </td><td>E        </td><td>VS2      </td><td>65.1     </td><td>61       </td><td>337      </td><td>3.87     </td><td>3.78     </td><td>2.49     </td></tr>\n",
       "\t<tr><td>0.23     </td><td>Very Good</td><td>E        </td><td>VS2      </td><td>63.8     </td><td>55       </td><td>352      </td><td>3.85     </td><td>3.92     </td><td>2.48     </td></tr>\n",
       "\t<tr><td>0.30     </td><td>Very Good</td><td>J        </td><td>VS2      </td><td>62.2     </td><td>57       </td><td>357      </td><td>4.28     </td><td>4.30     </td><td>2.67     </td></tr>\n",
       "\t<tr><td>0.23     </td><td>Very Good</td><td>D        </td><td>VS2      </td><td>60.5     </td><td>61       </td><td>357      </td><td>3.96     </td><td>3.97     </td><td>2.40     </td></tr>\n",
       "\t<tr><td>0.23     </td><td>Very Good</td><td>D        </td><td>VS1      </td><td>61.9     </td><td>58       </td><td>402      </td><td>3.92     </td><td>3.96     </td><td>2.44     </td></tr>\n",
       "</tbody>\n",
       "</table>\n"
      ],
      "text/latex": [
       "\\begin{tabular}{r|llllllllll}\n",
       " carat & cut & color & clarity & depth & table & price & x & y & z\\\\\n",
       "\\hline\n",
       "\t 0.29      & Premium   & I         & VS2       & 62.4      & 58        & 334       & 4.20      & 4.23      & 2.63     \\\\\n",
       "\t 0.22      & Fair      & E         & VS2       & 65.1      & 61        & 337       & 3.87      & 3.78      & 2.49     \\\\\n",
       "\t 0.23      & Very Good & E         & VS2       & 63.8      & 55        & 352       & 3.85      & 3.92      & 2.48     \\\\\n",
       "\t 0.30      & Very Good & J         & VS2       & 62.2      & 57        & 357       & 4.28      & 4.30      & 2.67     \\\\\n",
       "\t 0.23      & Very Good & D         & VS2       & 60.5      & 61        & 357       & 3.96      & 3.97      & 2.40     \\\\\n",
       "\t 0.23      & Very Good & D         & VS1       & 61.9      & 58        & 402       & 3.92      & 3.96      & 2.44     \\\\\n",
       "\\end{tabular}\n"
      ],
      "text/markdown": [
       "\n",
       "| carat | cut | color | clarity | depth | table | price | x | y | z |\n",
       "|---|---|---|---|---|---|---|---|---|---|\n",
       "| 0.29      | Premium   | I         | VS2       | 62.4      | 58        | 334       | 4.20      | 4.23      | 2.63      |\n",
       "| 0.22      | Fair      | E         | VS2       | 65.1      | 61        | 337       | 3.87      | 3.78      | 2.49      |\n",
       "| 0.23      | Very Good | E         | VS2       | 63.8      | 55        | 352       | 3.85      | 3.92      | 2.48      |\n",
       "| 0.30      | Very Good | J         | VS2       | 62.2      | 57        | 357       | 4.28      | 4.30      | 2.67      |\n",
       "| 0.23      | Very Good | D         | VS2       | 60.5      | 61        | 357       | 3.96      | 3.97      | 2.40      |\n",
       "| 0.23      | Very Good | D         | VS1       | 61.9      | 58        | 402       | 3.92      | 3.96      | 2.44      |\n",
       "\n"
      ],
      "text/plain": [
       "  carat cut       color clarity depth table price x    y    z   \n",
       "1 0.29  Premium   I     VS2     62.4  58    334   4.20 4.23 2.63\n",
       "2 0.22  Fair      E     VS2     65.1  61    337   3.87 3.78 2.49\n",
       "3 0.23  Very Good E     VS2     63.8  55    352   3.85 3.92 2.48\n",
       "4 0.30  Very Good J     VS2     62.2  57    357   4.28 4.30 2.67\n",
       "5 0.23  Very Good D     VS2     60.5  61    357   3.96 3.97 2.40\n",
       "6 0.23  Very Good D     VS1     61.9  58    402   3.92 3.96 2.44"
      ]
     },
     "metadata": {},
     "output_type": "display_data"
    }
   ],
   "source": [
    "slice(a, 1:6)"
   ]
  },
  {
   "cell_type": "code",
   "execution_count": 79,
   "metadata": {},
   "outputs": [
    {
     "data": {
      "text/html": [
       "<table>\n",
       "<thead><tr><th scope=col>carat</th><th scope=col>cut</th><th scope=col>color</th><th scope=col>clarity</th><th scope=col>depth</th><th scope=col>table</th><th scope=col>price</th><th scope=col>x</th><th scope=col>y</th><th scope=col>z</th></tr></thead>\n",
       "<tbody>\n",
       "\t<tr><td>0.29     </td><td>Premium  </td><td>I        </td><td>VS2      </td><td>62.4     </td><td>58       </td><td>334      </td><td>4.20     </td><td>4.23     </td><td>2.63     </td></tr>\n",
       "\t<tr><td>0.22     </td><td>Fair     </td><td>E        </td><td>VS2      </td><td>65.1     </td><td>61       </td><td>337      </td><td>3.87     </td><td>3.78     </td><td>2.49     </td></tr>\n",
       "\t<tr><td>0.23     </td><td>Very Good</td><td>E        </td><td>VS2      </td><td>63.8     </td><td>55       </td><td>352      </td><td>3.85     </td><td>3.92     </td><td>2.48     </td></tr>\n",
       "\t<tr><td>0.30     </td><td>Very Good</td><td>J        </td><td>VS2      </td><td>62.2     </td><td>57       </td><td>357      </td><td>4.28     </td><td>4.30     </td><td>2.67     </td></tr>\n",
       "\t<tr><td>0.23     </td><td>Very Good</td><td>D        </td><td>VS2      </td><td>60.5     </td><td>61       </td><td>357      </td><td>3.96     </td><td>3.97     </td><td>2.40     </td></tr>\n",
       "\t<tr><td>0.23     </td><td>Very Good</td><td>D        </td><td>VS1      </td><td>61.9     </td><td>58       </td><td>402      </td><td>3.92     </td><td>3.96     </td><td>2.44     </td></tr>\n",
       "</tbody>\n",
       "</table>\n"
      ],
      "text/latex": [
       "\\begin{tabular}{r|llllllllll}\n",
       " carat & cut & color & clarity & depth & table & price & x & y & z\\\\\n",
       "\\hline\n",
       "\t 0.29      & Premium   & I         & VS2       & 62.4      & 58        & 334       & 4.20      & 4.23      & 2.63     \\\\\n",
       "\t 0.22      & Fair      & E         & VS2       & 65.1      & 61        & 337       & 3.87      & 3.78      & 2.49     \\\\\n",
       "\t 0.23      & Very Good & E         & VS2       & 63.8      & 55        & 352       & 3.85      & 3.92      & 2.48     \\\\\n",
       "\t 0.30      & Very Good & J         & VS2       & 62.2      & 57        & 357       & 4.28      & 4.30      & 2.67     \\\\\n",
       "\t 0.23      & Very Good & D         & VS2       & 60.5      & 61        & 357       & 3.96      & 3.97      & 2.40     \\\\\n",
       "\t 0.23      & Very Good & D         & VS1       & 61.9      & 58        & 402       & 3.92      & 3.96      & 2.44     \\\\\n",
       "\\end{tabular}\n"
      ],
      "text/markdown": [
       "\n",
       "| carat | cut | color | clarity | depth | table | price | x | y | z |\n",
       "|---|---|---|---|---|---|---|---|---|---|\n",
       "| 0.29      | Premium   | I         | VS2       | 62.4      | 58        | 334       | 4.20      | 4.23      | 2.63      |\n",
       "| 0.22      | Fair      | E         | VS2       | 65.1      | 61        | 337       | 3.87      | 3.78      | 2.49      |\n",
       "| 0.23      | Very Good | E         | VS2       | 63.8      | 55        | 352       | 3.85      | 3.92      | 2.48      |\n",
       "| 0.30      | Very Good | J         | VS2       | 62.2      | 57        | 357       | 4.28      | 4.30      | 2.67      |\n",
       "| 0.23      | Very Good | D         | VS2       | 60.5      | 61        | 357       | 3.96      | 3.97      | 2.40      |\n",
       "| 0.23      | Very Good | D         | VS1       | 61.9      | 58        | 402       | 3.92      | 3.96      | 2.44      |\n",
       "\n"
      ],
      "text/plain": [
       "  carat cut       color clarity depth table price x    y    z   \n",
       "1 0.29  Premium   I     VS2     62.4  58    334   4.20 4.23 2.63\n",
       "2 0.22  Fair      E     VS2     65.1  61    337   3.87 3.78 2.49\n",
       "3 0.23  Very Good E     VS2     63.8  55    352   3.85 3.92 2.48\n",
       "4 0.30  Very Good J     VS2     62.2  57    357   4.28 4.30 2.67\n",
       "5 0.23  Very Good D     VS2     60.5  61    357   3.96 3.97 2.40\n",
       "6 0.23  Very Good D     VS1     61.9  58    402   3.92 3.96 2.44"
      ]
     },
     "metadata": {},
     "output_type": "display_data"
    }
   ],
   "source": [
    "head(a)"
   ]
  },
  {
   "cell_type": "code",
   "execution_count": 83,
   "metadata": {},
   "outputs": [
    {
     "data": {
      "text/html": [
       "<table>\n",
       "<thead><tr><th scope=col>cut</th></tr></thead>\n",
       "<tbody>\n",
       "\t<tr><td>Premium  </td></tr>\n",
       "\t<tr><td>Fair     </td></tr>\n",
       "\t<tr><td>Very Good</td></tr>\n",
       "\t<tr><td>Very Good</td></tr>\n",
       "\t<tr><td>Very Good</td></tr>\n",
       "\t<tr><td>Very Good</td></tr>\n",
       "</tbody>\n",
       "</table>\n"
      ],
      "text/latex": [
       "\\begin{tabular}{r|l}\n",
       " cut\\\\\n",
       "\\hline\n",
       "\t Premium  \\\\\n",
       "\t Fair     \\\\\n",
       "\t Very Good\\\\\n",
       "\t Very Good\\\\\n",
       "\t Very Good\\\\\n",
       "\t Very Good\\\\\n",
       "\\end{tabular}\n"
      ],
      "text/markdown": [
       "\n",
       "| cut |\n",
       "|---|\n",
       "| Premium   |\n",
       "| Fair      |\n",
       "| Very Good |\n",
       "| Very Good |\n",
       "| Very Good |\n",
       "| Very Good |\n",
       "\n"
      ],
      "text/plain": [
       "  cut      \n",
       "1 Premium  \n",
       "2 Fair     \n",
       "3 Very Good\n",
       "4 Very Good\n",
       "5 Very Good\n",
       "6 Very Good"
      ]
     },
     "metadata": {},
     "output_type": "display_data"
    }
   ],
   "source": [
    "a[1:6, 2]"
   ]
  },
  {
   "cell_type": "markdown",
   "metadata": {},
   "source": [
    "## Select"
   ]
  },
  {
   "cell_type": "code",
   "execution_count": 85,
   "metadata": {},
   "outputs": [
    {
     "data": {
      "text/html": [
       "<ol class=list-inline>\n",
       "\t<li>'carat'</li>\n",
       "\t<li>'cut'</li>\n",
       "\t<li>'color'</li>\n",
       "\t<li>'clarity'</li>\n",
       "\t<li>'depth'</li>\n",
       "\t<li>'table'</li>\n",
       "\t<li>'price'</li>\n",
       "\t<li>'x'</li>\n",
       "\t<li>'y'</li>\n",
       "\t<li>'z'</li>\n",
       "</ol>\n"
      ],
      "text/latex": [
       "\\begin{enumerate*}\n",
       "\\item 'carat'\n",
       "\\item 'cut'\n",
       "\\item 'color'\n",
       "\\item 'clarity'\n",
       "\\item 'depth'\n",
       "\\item 'table'\n",
       "\\item 'price'\n",
       "\\item 'x'\n",
       "\\item 'y'\n",
       "\\item 'z'\n",
       "\\end{enumerate*}\n"
      ],
      "text/markdown": [
       "1. 'carat'\n",
       "2. 'cut'\n",
       "3. 'color'\n",
       "4. 'clarity'\n",
       "5. 'depth'\n",
       "6. 'table'\n",
       "7. 'price'\n",
       "8. 'x'\n",
       "9. 'y'\n",
       "10. 'z'\n",
       "\n",
       "\n"
      ],
      "text/plain": [
       " [1] \"carat\"   \"cut\"     \"color\"   \"clarity\" \"depth\"   \"table\"   \"price\"  \n",
       " [8] \"x\"       \"y\"       \"z\"      "
      ]
     },
     "metadata": {},
     "output_type": "display_data"
    }
   ],
   "source": [
    "names(diamonds)"
   ]
  },
  {
   "cell_type": "code",
   "execution_count": 90,
   "metadata": {},
   "outputs": [
    {
     "data": {
      "text/html": [
       "<table>\n",
       "<thead><tr><th scope=col>depth</th><th scope=col>clarity</th><th scope=col>color</th><th scope=col>cut</th></tr></thead>\n",
       "<tbody>\n",
       "\t<tr><td>61.5     </td><td>SI2      </td><td>E        </td><td>Ideal    </td></tr>\n",
       "\t<tr><td>59.8     </td><td>SI1      </td><td>E        </td><td>Premium  </td></tr>\n",
       "\t<tr><td>56.9     </td><td>VS1      </td><td>E        </td><td>Good     </td></tr>\n",
       "\t<tr><td>62.4     </td><td>VS2      </td><td>I        </td><td>Premium  </td></tr>\n",
       "\t<tr><td>63.3     </td><td>SI2      </td><td>J        </td><td>Good     </td></tr>\n",
       "\t<tr><td>62.8     </td><td>VVS2     </td><td>J        </td><td>Very Good</td></tr>\n",
       "</tbody>\n",
       "</table>\n"
      ],
      "text/latex": [
       "\\begin{tabular}{r|llll}\n",
       " depth & clarity & color & cut\\\\\n",
       "\\hline\n",
       "\t 61.5      & SI2       & E         & Ideal    \\\\\n",
       "\t 59.8      & SI1       & E         & Premium  \\\\\n",
       "\t 56.9      & VS1       & E         & Good     \\\\\n",
       "\t 62.4      & VS2       & I         & Premium  \\\\\n",
       "\t 63.3      & SI2       & J         & Good     \\\\\n",
       "\t 62.8      & VVS2      & J         & Very Good\\\\\n",
       "\\end{tabular}\n"
      ],
      "text/markdown": [
       "\n",
       "| depth | clarity | color | cut |\n",
       "|---|---|---|---|\n",
       "| 61.5      | SI2       | E         | Ideal     |\n",
       "| 59.8      | SI1       | E         | Premium   |\n",
       "| 56.9      | VS1       | E         | Good      |\n",
       "| 62.4      | VS2       | I         | Premium   |\n",
       "| 63.3      | SI2       | J         | Good      |\n",
       "| 62.8      | VVS2      | J         | Very Good |\n",
       "\n"
      ],
      "text/plain": [
       "  depth clarity color cut      \n",
       "1 61.5  SI2     E     Ideal    \n",
       "2 59.8  SI1     E     Premium  \n",
       "3 56.9  VS1     E     Good     \n",
       "4 62.4  VS2     I     Premium  \n",
       "5 63.3  SI2     J     Good     \n",
       "6 62.8  VVS2    J     Very Good"
      ]
     },
     "metadata": {},
     "output_type": "display_data"
    }
   ],
   "source": [
    "head(select(diamonds, depth:cut))"
   ]
  },
  {
   "cell_type": "code",
   "execution_count": null,
   "metadata": {},
   "outputs": [],
   "source": [
    "head(select(diamonds, c(carat, table, price)))"
   ]
  },
  {
   "cell_type": "code",
   "execution_count": 91,
   "metadata": {},
   "outputs": [
    {
     "data": {
      "text/html": [
       "<table>\n",
       "<thead><tr><th scope=col>cut</th><th scope=col>color</th><th scope=col>clarity</th><th scope=col>depth</th><th scope=col>x</th><th scope=col>y</th><th scope=col>z</th></tr></thead>\n",
       "<tbody>\n",
       "\t<tr><td>Ideal    </td><td>E        </td><td>SI2      </td><td>61.5     </td><td>3.95     </td><td>3.98     </td><td>2.43     </td></tr>\n",
       "\t<tr><td>Premium  </td><td>E        </td><td>SI1      </td><td>59.8     </td><td>3.89     </td><td>3.84     </td><td>2.31     </td></tr>\n",
       "\t<tr><td>Good     </td><td>E        </td><td>VS1      </td><td>56.9     </td><td>4.05     </td><td>4.07     </td><td>2.31     </td></tr>\n",
       "\t<tr><td>Premium  </td><td>I        </td><td>VS2      </td><td>62.4     </td><td>4.20     </td><td>4.23     </td><td>2.63     </td></tr>\n",
       "\t<tr><td>Good     </td><td>J        </td><td>SI2      </td><td>63.3     </td><td>4.34     </td><td>4.35     </td><td>2.75     </td></tr>\n",
       "\t<tr><td>Very Good</td><td>J        </td><td>VVS2     </td><td>62.8     </td><td>3.94     </td><td>3.96     </td><td>2.48     </td></tr>\n",
       "</tbody>\n",
       "</table>\n"
      ],
      "text/latex": [
       "\\begin{tabular}{r|lllllll}\n",
       " cut & color & clarity & depth & x & y & z\\\\\n",
       "\\hline\n",
       "\t Ideal     & E         & SI2       & 61.5      & 3.95      & 3.98      & 2.43     \\\\\n",
       "\t Premium   & E         & SI1       & 59.8      & 3.89      & 3.84      & 2.31     \\\\\n",
       "\t Good      & E         & VS1       & 56.9      & 4.05      & 4.07      & 2.31     \\\\\n",
       "\t Premium   & I         & VS2       & 62.4      & 4.20      & 4.23      & 2.63     \\\\\n",
       "\t Good      & J         & SI2       & 63.3      & 4.34      & 4.35      & 2.75     \\\\\n",
       "\t Very Good & J         & VVS2      & 62.8      & 3.94      & 3.96      & 2.48     \\\\\n",
       "\\end{tabular}\n"
      ],
      "text/markdown": [
       "\n",
       "| cut | color | clarity | depth | x | y | z |\n",
       "|---|---|---|---|---|---|---|\n",
       "| Ideal     | E         | SI2       | 61.5      | 3.95      | 3.98      | 2.43      |\n",
       "| Premium   | E         | SI1       | 59.8      | 3.89      | 3.84      | 2.31      |\n",
       "| Good      | E         | VS1       | 56.9      | 4.05      | 4.07      | 2.31      |\n",
       "| Premium   | I         | VS2       | 62.4      | 4.20      | 4.23      | 2.63      |\n",
       "| Good      | J         | SI2       | 63.3      | 4.34      | 4.35      | 2.75      |\n",
       "| Very Good | J         | VVS2      | 62.8      | 3.94      | 3.96      | 2.48      |\n",
       "\n"
      ],
      "text/plain": [
       "  cut       color clarity depth x    y    z   \n",
       "1 Ideal     E     SI2     61.5  3.95 3.98 2.43\n",
       "2 Premium   E     SI1     59.8  3.89 3.84 2.31\n",
       "3 Good      E     VS1     56.9  4.05 4.07 2.31\n",
       "4 Premium   I     VS2     62.4  4.20 4.23 2.63\n",
       "5 Good      J     SI2     63.3  4.34 4.35 2.75\n",
       "6 Very Good J     VVS2    62.8  3.94 3.96 2.48"
      ]
     },
     "metadata": {},
     "output_type": "display_data"
    }
   ],
   "source": [
    "head(select(diamonds, -c(carat, table, price)))"
   ]
  },
  {
   "cell_type": "code",
   "execution_count": 93,
   "metadata": {},
   "outputs": [
    {
     "data": {
      "text/html": [
       "<table>\n",
       "<thead><tr><th scope=col>carat</th><th scope=col>cut</th><th scope=col>color</th><th scope=col>clarity</th><th scope=col>depth</th><th scope=col>table</th><th scope=col>price</th><th scope=col>width</th><th scope=col>y</th><th scope=col>z</th></tr></thead>\n",
       "<tbody>\n",
       "\t<tr><td>0.23     </td><td>Ideal    </td><td>E        </td><td>SI2      </td><td>61.5     </td><td>55       </td><td>326      </td><td>3.95     </td><td>3.98     </td><td>2.43     </td></tr>\n",
       "\t<tr><td>0.21     </td><td>Premium  </td><td>E        </td><td>SI1      </td><td>59.8     </td><td>61       </td><td>326      </td><td>3.89     </td><td>3.84     </td><td>2.31     </td></tr>\n",
       "\t<tr><td>0.23     </td><td>Good     </td><td>E        </td><td>VS1      </td><td>56.9     </td><td>65       </td><td>327      </td><td>4.05     </td><td>4.07     </td><td>2.31     </td></tr>\n",
       "\t<tr><td>0.29     </td><td>Premium  </td><td>I        </td><td>VS2      </td><td>62.4     </td><td>58       </td><td>334      </td><td>4.20     </td><td>4.23     </td><td>2.63     </td></tr>\n",
       "\t<tr><td>0.31     </td><td>Good     </td><td>J        </td><td>SI2      </td><td>63.3     </td><td>58       </td><td>335      </td><td>4.34     </td><td>4.35     </td><td>2.75     </td></tr>\n",
       "\t<tr><td>0.24     </td><td>Very Good</td><td>J        </td><td>VVS2     </td><td>62.8     </td><td>57       </td><td>336      </td><td>3.94     </td><td>3.96     </td><td>2.48     </td></tr>\n",
       "\t<tr><td>0.24     </td><td>Very Good</td><td>I        </td><td>VVS1     </td><td>62.3     </td><td>57       </td><td>336      </td><td>3.95     </td><td>3.98     </td><td>2.47     </td></tr>\n",
       "\t<tr><td>0.26     </td><td>Very Good</td><td>H        </td><td>SI1      </td><td>61.9     </td><td>55       </td><td>337      </td><td>4.07     </td><td>4.11     </td><td>2.53     </td></tr>\n",
       "\t<tr><td>0.22     </td><td>Fair     </td><td>E        </td><td>VS2      </td><td>65.1     </td><td>61       </td><td>337      </td><td>3.87     </td><td>3.78     </td><td>2.49     </td></tr>\n",
       "\t<tr><td>0.23     </td><td>Very Good</td><td>H        </td><td>VS1      </td><td>59.4     </td><td>61       </td><td>338      </td><td>4.00     </td><td>4.05     </td><td>2.39     </td></tr>\n",
       "</tbody>\n",
       "</table>\n"
      ],
      "text/latex": [
       "\\begin{tabular}{r|llllllllll}\n",
       " carat & cut & color & clarity & depth & table & price & width & y & z\\\\\n",
       "\\hline\n",
       "\t 0.23      & Ideal     & E         & SI2       & 61.5      & 55        & 326       & 3.95      & 3.98      & 2.43     \\\\\n",
       "\t 0.21      & Premium   & E         & SI1       & 59.8      & 61        & 326       & 3.89      & 3.84      & 2.31     \\\\\n",
       "\t 0.23      & Good      & E         & VS1       & 56.9      & 65        & 327       & 4.05      & 4.07      & 2.31     \\\\\n",
       "\t 0.29      & Premium   & I         & VS2       & 62.4      & 58        & 334       & 4.20      & 4.23      & 2.63     \\\\\n",
       "\t 0.31      & Good      & J         & SI2       & 63.3      & 58        & 335       & 4.34      & 4.35      & 2.75     \\\\\n",
       "\t 0.24      & Very Good & J         & VVS2      & 62.8      & 57        & 336       & 3.94      & 3.96      & 2.48     \\\\\n",
       "\t 0.24      & Very Good & I         & VVS1      & 62.3      & 57        & 336       & 3.95      & 3.98      & 2.47     \\\\\n",
       "\t 0.26      & Very Good & H         & SI1       & 61.9      & 55        & 337       & 4.07      & 4.11      & 2.53     \\\\\n",
       "\t 0.22      & Fair      & E         & VS2       & 65.1      & 61        & 337       & 3.87      & 3.78      & 2.49     \\\\\n",
       "\t 0.23      & Very Good & H         & VS1       & 59.4      & 61        & 338       & 4.00      & 4.05      & 2.39     \\\\\n",
       "\\end{tabular}\n"
      ],
      "text/markdown": [
       "\n",
       "| carat | cut | color | clarity | depth | table | price | width | y | z |\n",
       "|---|---|---|---|---|---|---|---|---|---|\n",
       "| 0.23      | Ideal     | E         | SI2       | 61.5      | 55        | 326       | 3.95      | 3.98      | 2.43      |\n",
       "| 0.21      | Premium   | E         | SI1       | 59.8      | 61        | 326       | 3.89      | 3.84      | 2.31      |\n",
       "| 0.23      | Good      | E         | VS1       | 56.9      | 65        | 327       | 4.05      | 4.07      | 2.31      |\n",
       "| 0.29      | Premium   | I         | VS2       | 62.4      | 58        | 334       | 4.20      | 4.23      | 2.63      |\n",
       "| 0.31      | Good      | J         | SI2       | 63.3      | 58        | 335       | 4.34      | 4.35      | 2.75      |\n",
       "| 0.24      | Very Good | J         | VVS2      | 62.8      | 57        | 336       | 3.94      | 3.96      | 2.48      |\n",
       "| 0.24      | Very Good | I         | VVS1      | 62.3      | 57        | 336       | 3.95      | 3.98      | 2.47      |\n",
       "| 0.26      | Very Good | H         | SI1       | 61.9      | 55        | 337       | 4.07      | 4.11      | 2.53      |\n",
       "| 0.22      | Fair      | E         | VS2       | 65.1      | 61        | 337       | 3.87      | 3.78      | 2.49      |\n",
       "| 0.23      | Very Good | H         | VS1       | 59.4      | 61        | 338       | 4.00      | 4.05      | 2.39      |\n",
       "\n"
      ],
      "text/plain": [
       "   carat cut       color clarity depth table price width y    z   \n",
       "1  0.23  Ideal     E     SI2     61.5  55    326   3.95  3.98 2.43\n",
       "2  0.21  Premium   E     SI1     59.8  61    326   3.89  3.84 2.31\n",
       "3  0.23  Good      E     VS1     56.9  65    327   4.05  4.07 2.31\n",
       "4  0.29  Premium   I     VS2     62.4  58    334   4.20  4.23 2.63\n",
       "5  0.31  Good      J     SI2     63.3  58    335   4.34  4.35 2.75\n",
       "6  0.24  Very Good J     VVS2    62.8  57    336   3.94  3.96 2.48\n",
       "7  0.24  Very Good I     VVS1    62.3  57    336   3.95  3.98 2.47\n",
       "8  0.26  Very Good H     SI1     61.9  55    337   4.07  4.11 2.53\n",
       "9  0.22  Fair      E     VS2     65.1  61    337   3.87  3.78 2.49\n",
       "10 0.23  Very Good H     VS1     59.4  61    338   4.00  4.05 2.39"
      ]
     },
     "metadata": {},
     "output_type": "display_data"
    }
   ],
   "source": [
    "rename(diamonds, width=x)[1:10,]"
   ]
  },
  {
   "cell_type": "code",
   "execution_count": 95,
   "metadata": {},
   "outputs": [
    {
     "data": {
      "text/html": [
       "<table>\n",
       "<thead><tr><th scope=col>price</th><th scope=col>carat</th><th scope=col>cut</th><th scope=col>color</th><th scope=col>clarity</th><th scope=col>depth</th><th scope=col>table</th><th scope=col>x</th><th scope=col>y</th><th scope=col>z</th></tr></thead>\n",
       "<tbody>\n",
       "\t<tr><td>326      </td><td>0.23     </td><td>Ideal    </td><td>E        </td><td>SI2      </td><td>61.5     </td><td>55       </td><td>3.95     </td><td>3.98     </td><td>2.43     </td></tr>\n",
       "\t<tr><td>326      </td><td>0.21     </td><td>Premium  </td><td>E        </td><td>SI1      </td><td>59.8     </td><td>61       </td><td>3.89     </td><td>3.84     </td><td>2.31     </td></tr>\n",
       "\t<tr><td>327      </td><td>0.23     </td><td>Good     </td><td>E        </td><td>VS1      </td><td>56.9     </td><td>65       </td><td>4.05     </td><td>4.07     </td><td>2.31     </td></tr>\n",
       "\t<tr><td>334      </td><td>0.29     </td><td>Premium  </td><td>I        </td><td>VS2      </td><td>62.4     </td><td>58       </td><td>4.20     </td><td>4.23     </td><td>2.63     </td></tr>\n",
       "\t<tr><td>335      </td><td>0.31     </td><td>Good     </td><td>J        </td><td>SI2      </td><td>63.3     </td><td>58       </td><td>4.34     </td><td>4.35     </td><td>2.75     </td></tr>\n",
       "\t<tr><td>336      </td><td>0.24     </td><td>Very Good</td><td>J        </td><td>VVS2     </td><td>62.8     </td><td>57       </td><td>3.94     </td><td>3.96     </td><td>2.48     </td></tr>\n",
       "\t<tr><td>336      </td><td>0.24     </td><td>Very Good</td><td>I        </td><td>VVS1     </td><td>62.3     </td><td>57       </td><td>3.95     </td><td>3.98     </td><td>2.47     </td></tr>\n",
       "\t<tr><td>337      </td><td>0.26     </td><td>Very Good</td><td>H        </td><td>SI1      </td><td>61.9     </td><td>55       </td><td>4.07     </td><td>4.11     </td><td>2.53     </td></tr>\n",
       "\t<tr><td>337      </td><td>0.22     </td><td>Fair     </td><td>E        </td><td>VS2      </td><td>65.1     </td><td>61       </td><td>3.87     </td><td>3.78     </td><td>2.49     </td></tr>\n",
       "\t<tr><td>338      </td><td>0.23     </td><td>Very Good</td><td>H        </td><td>VS1      </td><td>59.4     </td><td>61       </td><td>4.00     </td><td>4.05     </td><td>2.39     </td></tr>\n",
       "</tbody>\n",
       "</table>\n"
      ],
      "text/latex": [
       "\\begin{tabular}{r|llllllllll}\n",
       " price & carat & cut & color & clarity & depth & table & x & y & z\\\\\n",
       "\\hline\n",
       "\t 326       & 0.23      & Ideal     & E         & SI2       & 61.5      & 55        & 3.95      & 3.98      & 2.43     \\\\\n",
       "\t 326       & 0.21      & Premium   & E         & SI1       & 59.8      & 61        & 3.89      & 3.84      & 2.31     \\\\\n",
       "\t 327       & 0.23      & Good      & E         & VS1       & 56.9      & 65        & 4.05      & 4.07      & 2.31     \\\\\n",
       "\t 334       & 0.29      & Premium   & I         & VS2       & 62.4      & 58        & 4.20      & 4.23      & 2.63     \\\\\n",
       "\t 335       & 0.31      & Good      & J         & SI2       & 63.3      & 58        & 4.34      & 4.35      & 2.75     \\\\\n",
       "\t 336       & 0.24      & Very Good & J         & VVS2      & 62.8      & 57        & 3.94      & 3.96      & 2.48     \\\\\n",
       "\t 336       & 0.24      & Very Good & I         & VVS1      & 62.3      & 57        & 3.95      & 3.98      & 2.47     \\\\\n",
       "\t 337       & 0.26      & Very Good & H         & SI1       & 61.9      & 55        & 4.07      & 4.11      & 2.53     \\\\\n",
       "\t 337       & 0.22      & Fair      & E         & VS2       & 65.1      & 61        & 3.87      & 3.78      & 2.49     \\\\\n",
       "\t 338       & 0.23      & Very Good & H         & VS1       & 59.4      & 61        & 4.00      & 4.05      & 2.39     \\\\\n",
       "\\end{tabular}\n"
      ],
      "text/markdown": [
       "\n",
       "| price | carat | cut | color | clarity | depth | table | x | y | z |\n",
       "|---|---|---|---|---|---|---|---|---|---|\n",
       "| 326       | 0.23      | Ideal     | E         | SI2       | 61.5      | 55        | 3.95      | 3.98      | 2.43      |\n",
       "| 326       | 0.21      | Premium   | E         | SI1       | 59.8      | 61        | 3.89      | 3.84      | 2.31      |\n",
       "| 327       | 0.23      | Good      | E         | VS1       | 56.9      | 65        | 4.05      | 4.07      | 2.31      |\n",
       "| 334       | 0.29      | Premium   | I         | VS2       | 62.4      | 58        | 4.20      | 4.23      | 2.63      |\n",
       "| 335       | 0.31      | Good      | J         | SI2       | 63.3      | 58        | 4.34      | 4.35      | 2.75      |\n",
       "| 336       | 0.24      | Very Good | J         | VVS2      | 62.8      | 57        | 3.94      | 3.96      | 2.48      |\n",
       "| 336       | 0.24      | Very Good | I         | VVS1      | 62.3      | 57        | 3.95      | 3.98      | 2.47      |\n",
       "| 337       | 0.26      | Very Good | H         | SI1       | 61.9      | 55        | 4.07      | 4.11      | 2.53      |\n",
       "| 337       | 0.22      | Fair      | E         | VS2       | 65.1      | 61        | 3.87      | 3.78      | 2.49      |\n",
       "| 338       | 0.23      | Very Good | H         | VS1       | 59.4      | 61        | 4.00      | 4.05      | 2.39      |\n",
       "\n"
      ],
      "text/plain": [
       "   price carat cut       color clarity depth table x    y    z   \n",
       "1  326   0.23  Ideal     E     SI2     61.5  55    3.95 3.98 2.43\n",
       "2  326   0.21  Premium   E     SI1     59.8  61    3.89 3.84 2.31\n",
       "3  327   0.23  Good      E     VS1     56.9  65    4.05 4.07 2.31\n",
       "4  334   0.29  Premium   I     VS2     62.4  58    4.20 4.23 2.63\n",
       "5  335   0.31  Good      J     SI2     63.3  58    4.34 4.35 2.75\n",
       "6  336   0.24  Very Good J     VVS2    62.8  57    3.94 3.96 2.48\n",
       "7  336   0.24  Very Good I     VVS1    62.3  57    3.95 3.98 2.47\n",
       "8  337   0.26  Very Good H     SI1     61.9  55    4.07 4.11 2.53\n",
       "9  337   0.22  Fair      E     VS2     65.1  61    3.87 3.78 2.49\n",
       "10 338   0.23  Very Good H     VS1     59.4  61    4.00 4.05 2.39"
      ]
     },
     "metadata": {},
     "output_type": "display_data"
    }
   ],
   "source": [
    "select(diamonds, price, carat, everything())[1:10,]"
   ]
  },
  {
   "cell_type": "markdown",
   "metadata": {},
   "source": [
    "## Arrange"
   ]
  },
  {
   "cell_type": "code",
   "execution_count": 98,
   "metadata": {},
   "outputs": [
    {
     "data": {
      "text/html": [
       "<table>\n",
       "<thead><tr><th scope=col>carat</th><th scope=col>cut</th><th scope=col>color</th><th scope=col>clarity</th><th scope=col>depth</th><th scope=col>table</th><th scope=col>price</th><th scope=col>x</th><th scope=col>y</th><th scope=col>z</th></tr></thead>\n",
       "<tbody>\n",
       "\t<tr><td>0.23   </td><td>Ideal  </td><td>E      </td><td>SI2    </td><td>61.5   </td><td>55     </td><td>326    </td><td>3.95   </td><td>3.98   </td><td>2.43   </td></tr>\n",
       "\t<tr><td>0.21   </td><td>Premium</td><td>E      </td><td>SI1    </td><td>59.8   </td><td>61     </td><td>326    </td><td>3.89   </td><td>3.84   </td><td>2.31   </td></tr>\n",
       "\t<tr><td>0.23   </td><td>Good   </td><td>E      </td><td>VS1    </td><td>56.9   </td><td>65     </td><td>327    </td><td>4.05   </td><td>4.07   </td><td>2.31   </td></tr>\n",
       "\t<tr><td>0.29   </td><td>Premium</td><td>I      </td><td>VS2    </td><td>62.4   </td><td>58     </td><td>334    </td><td>4.20   </td><td>4.23   </td><td>2.63   </td></tr>\n",
       "\t<tr><td>0.31   </td><td>Good   </td><td>J      </td><td>SI2    </td><td>63.3   </td><td>58     </td><td>335    </td><td>4.34   </td><td>4.35   </td><td>2.75   </td></tr>\n",
       "</tbody>\n",
       "</table>\n"
      ],
      "text/latex": [
       "\\begin{tabular}{r|llllllllll}\n",
       " carat & cut & color & clarity & depth & table & price & x & y & z\\\\\n",
       "\\hline\n",
       "\t 0.23    & Ideal   & E       & SI2     & 61.5    & 55      & 326     & 3.95    & 3.98    & 2.43   \\\\\n",
       "\t 0.21    & Premium & E       & SI1     & 59.8    & 61      & 326     & 3.89    & 3.84    & 2.31   \\\\\n",
       "\t 0.23    & Good    & E       & VS1     & 56.9    & 65      & 327     & 4.05    & 4.07    & 2.31   \\\\\n",
       "\t 0.29    & Premium & I       & VS2     & 62.4    & 58      & 334     & 4.20    & 4.23    & 2.63   \\\\\n",
       "\t 0.31    & Good    & J       & SI2     & 63.3    & 58      & 335     & 4.34    & 4.35    & 2.75   \\\\\n",
       "\\end{tabular}\n"
      ],
      "text/markdown": [
       "\n",
       "| carat | cut | color | clarity | depth | table | price | x | y | z |\n",
       "|---|---|---|---|---|---|---|---|---|---|\n",
       "| 0.23    | Ideal   | E       | SI2     | 61.5    | 55      | 326     | 3.95    | 3.98    | 2.43    |\n",
       "| 0.21    | Premium | E       | SI1     | 59.8    | 61      | 326     | 3.89    | 3.84    | 2.31    |\n",
       "| 0.23    | Good    | E       | VS1     | 56.9    | 65      | 327     | 4.05    | 4.07    | 2.31    |\n",
       "| 0.29    | Premium | I       | VS2     | 62.4    | 58      | 334     | 4.20    | 4.23    | 2.63    |\n",
       "| 0.31    | Good    | J       | SI2     | 63.3    | 58      | 335     | 4.34    | 4.35    | 2.75    |\n",
       "\n"
      ],
      "text/plain": [
       "  carat cut     color clarity depth table price x    y    z   \n",
       "1 0.23  Ideal   E     SI2     61.5  55    326   3.95 3.98 2.43\n",
       "2 0.21  Premium E     SI1     59.8  61    326   3.89 3.84 2.31\n",
       "3 0.23  Good    E     VS1     56.9  65    327   4.05 4.07 2.31\n",
       "4 0.29  Premium I     VS2     62.4  58    334   4.20 4.23 2.63\n",
       "5 0.31  Good    J     SI2     63.3  58    335   4.34 4.35 2.75"
      ]
     },
     "metadata": {},
     "output_type": "display_data"
    }
   ],
   "source": [
    "arrange(diamonds, price)[1:5, ]"
   ]
  },
  {
   "cell_type": "code",
   "execution_count": 100,
   "metadata": {
    "scrolled": true
   },
   "outputs": [
    {
     "data": {
      "text/html": [
       "<table>\n",
       "<thead><tr><th scope=col>carat</th><th scope=col>cut</th><th scope=col>color</th><th scope=col>clarity</th><th scope=col>depth</th><th scope=col>table</th><th scope=col>price</th><th scope=col>x</th><th scope=col>y</th><th scope=col>z</th></tr></thead>\n",
       "<tbody>\n",
       "\t<tr><td>0.21   </td><td>Premium</td><td>E      </td><td>SI1    </td><td>59.8   </td><td>61     </td><td>326    </td><td>3.89   </td><td>3.84   </td><td>2.31   </td></tr>\n",
       "\t<tr><td>0.23   </td><td>Ideal  </td><td>E      </td><td>SI2    </td><td>61.5   </td><td>55     </td><td>326    </td><td>3.95   </td><td>3.98   </td><td>2.43   </td></tr>\n",
       "\t<tr><td>0.23   </td><td>Good   </td><td>E      </td><td>VS1    </td><td>56.9   </td><td>65     </td><td>327    </td><td>4.05   </td><td>4.07   </td><td>2.31   </td></tr>\n",
       "\t<tr><td>0.29   </td><td>Premium</td><td>I      </td><td>VS2    </td><td>62.4   </td><td>58     </td><td>334    </td><td>4.20   </td><td>4.23   </td><td>2.63   </td></tr>\n",
       "\t<tr><td>0.31   </td><td>Good   </td><td>J      </td><td>SI2    </td><td>63.3   </td><td>58     </td><td>335    </td><td>4.34   </td><td>4.35   </td><td>2.75   </td></tr>\n",
       "</tbody>\n",
       "</table>\n"
      ],
      "text/latex": [
       "\\begin{tabular}{r|llllllllll}\n",
       " carat & cut & color & clarity & depth & table & price & x & y & z\\\\\n",
       "\\hline\n",
       "\t 0.21    & Premium & E       & SI1     & 59.8    & 61      & 326     & 3.89    & 3.84    & 2.31   \\\\\n",
       "\t 0.23    & Ideal   & E       & SI2     & 61.5    & 55      & 326     & 3.95    & 3.98    & 2.43   \\\\\n",
       "\t 0.23    & Good    & E       & VS1     & 56.9    & 65      & 327     & 4.05    & 4.07    & 2.31   \\\\\n",
       "\t 0.29    & Premium & I       & VS2     & 62.4    & 58      & 334     & 4.20    & 4.23    & 2.63   \\\\\n",
       "\t 0.31    & Good    & J       & SI2     & 63.3    & 58      & 335     & 4.34    & 4.35    & 2.75   \\\\\n",
       "\\end{tabular}\n"
      ],
      "text/markdown": [
       "\n",
       "| carat | cut | color | clarity | depth | table | price | x | y | z |\n",
       "|---|---|---|---|---|---|---|---|---|---|\n",
       "| 0.21    | Premium | E       | SI1     | 59.8    | 61      | 326     | 3.89    | 3.84    | 2.31    |\n",
       "| 0.23    | Ideal   | E       | SI2     | 61.5    | 55      | 326     | 3.95    | 3.98    | 2.43    |\n",
       "| 0.23    | Good    | E       | VS1     | 56.9    | 65      | 327     | 4.05    | 4.07    | 2.31    |\n",
       "| 0.29    | Premium | I       | VS2     | 62.4    | 58      | 334     | 4.20    | 4.23    | 2.63    |\n",
       "| 0.31    | Good    | J       | SI2     | 63.3    | 58      | 335     | 4.34    | 4.35    | 2.75    |\n",
       "\n"
      ],
      "text/plain": [
       "  carat cut     color clarity depth table price x    y    z   \n",
       "1 0.21  Premium E     SI1     59.8  61    326   3.89 3.84 2.31\n",
       "2 0.23  Ideal   E     SI2     61.5  55    326   3.95 3.98 2.43\n",
       "3 0.23  Good    E     VS1     56.9  65    327   4.05 4.07 2.31\n",
       "4 0.29  Premium I     VS2     62.4  58    334   4.20 4.23 2.63\n",
       "5 0.31  Good    J     SI2     63.3  58    335   4.34 4.35 2.75"
      ]
     },
     "metadata": {},
     "output_type": "display_data"
    }
   ],
   "source": [
    "arrange(diamonds, price, desc(table))[1:5, ]"
   ]
  },
  {
   "cell_type": "markdown",
   "metadata": {},
   "source": [
    "## Brief talk on pipes"
   ]
  },
  {
   "cell_type": "markdown",
   "metadata": {},
   "source": [
    "- %>%\n",
    "- 'Ctrl-shift-m' is a short cut\n",
    "- Passes the output of one function as the first input to the next function"
   ]
  },
  {
   "cell_type": "code",
   "execution_count": 101,
   "metadata": {},
   "outputs": [],
   "source": [
    "df <- college_df  %>%\n",
    "    group_by(Major_category)  %>% \n",
    "    summarize(cat_median = mean(Median))"
   ]
  },
  {
   "cell_type": "code",
   "execution_count": 106,
   "metadata": {},
   "outputs": [
    {
     "data": {
      "text/html": [
       "<table>\n",
       "<thead><tr><th scope=col>Major_category</th><th scope=col>cat_median</th></tr></thead>\n",
       "<tbody>\n",
       "\t<tr><td><span style=white-space:pre-wrap>Agriculture &amp; Natural Resources    </span></td><td>55000.00                                                                       </td></tr>\n",
       "\t<tr><td>Arts                               </td><td>43525.00                           </td></tr>\n",
       "\t<tr><td><span style=white-space:pre-wrap>Biology &amp; Life Science             </span></td><td>50821.43                                                                       </td></tr>\n",
       "\t<tr><td>Business                           </td><td>60615.38                           </td></tr>\n",
       "\t<tr><td><span style=white-space:pre-wrap>Communications &amp; Journalism        </span></td><td>49500.00                                                                       </td></tr>\n",
       "\t<tr><td><span style=white-space:pre-wrap>Computers &amp; Mathematics            </span></td><td>66272.73                                                                       </td></tr>\n",
       "\t<tr><td>Education                          </td><td>43831.25                           </td></tr>\n",
       "\t<tr><td>Engineering                        </td><td>77758.62                           </td></tr>\n",
       "\t<tr><td>Health                             </td><td>56458.33                           </td></tr>\n",
       "\t<tr><td><span style=white-space:pre-wrap>Humanities &amp; Liberal Arts          </span></td><td>46080.00                                                                       </td></tr>\n",
       "\t<tr><td>Industrial Arts &amp; Consumer Services</td><td>52642.86                               </td></tr>\n",
       "\t<tr><td>Interdisciplinary                  </td><td>43000.00                           </td></tr>\n",
       "\t<tr><td><span style=white-space:pre-wrap>Law &amp; Public Policy                </span></td><td>52800.00                                                                       </td></tr>\n",
       "\t<tr><td>Physical Sciences                  </td><td>62400.00                           </td></tr>\n",
       "\t<tr><td><span style=white-space:pre-wrap>Psychology &amp; Social Work           </span></td><td>44555.56                                                                       </td></tr>\n",
       "\t<tr><td>Social Science                     </td><td>53222.22                           </td></tr>\n",
       "</tbody>\n",
       "</table>\n"
      ],
      "text/latex": [
       "\\begin{tabular}{r|ll}\n",
       " Major\\_category & cat\\_median\\\\\n",
       "\\hline\n",
       "\t Agriculture \\& Natural Resources     & 55000.00                             \\\\\n",
       "\t Arts                                & 43525.00                           \\\\\n",
       "\t Biology \\& Life Science              & 50821.43                             \\\\\n",
       "\t Business                            & 60615.38                           \\\\\n",
       "\t Communications \\& Journalism         & 49500.00                             \\\\\n",
       "\t Computers \\& Mathematics             & 66272.73                             \\\\\n",
       "\t Education                           & 43831.25                           \\\\\n",
       "\t Engineering                         & 77758.62                           \\\\\n",
       "\t Health                              & 56458.33                           \\\\\n",
       "\t Humanities \\& Liberal Arts           & 46080.00                             \\\\\n",
       "\t Industrial Arts \\& Consumer Services & 52642.86                             \\\\\n",
       "\t Interdisciplinary                   & 43000.00                           \\\\\n",
       "\t Law \\& Public Policy                 & 52800.00                             \\\\\n",
       "\t Physical Sciences                   & 62400.00                           \\\\\n",
       "\t Psychology \\& Social Work            & 44555.56                             \\\\\n",
       "\t Social Science                      & 53222.22                           \\\\\n",
       "\\end{tabular}\n"
      ],
      "text/markdown": [
       "\n",
       "| Major_category | cat_median |\n",
       "|---|---|\n",
       "| Agriculture & Natural Resources     | 55000.00                            |\n",
       "| Arts                                | 43525.00                            |\n",
       "| Biology & Life Science              | 50821.43                            |\n",
       "| Business                            | 60615.38                            |\n",
       "| Communications & Journalism         | 49500.00                            |\n",
       "| Computers & Mathematics             | 66272.73                            |\n",
       "| Education                           | 43831.25                            |\n",
       "| Engineering                         | 77758.62                            |\n",
       "| Health                              | 56458.33                            |\n",
       "| Humanities & Liberal Arts           | 46080.00                            |\n",
       "| Industrial Arts & Consumer Services | 52642.86                            |\n",
       "| Interdisciplinary                   | 43000.00                            |\n",
       "| Law & Public Policy                 | 52800.00                            |\n",
       "| Physical Sciences                   | 62400.00                            |\n",
       "| Psychology & Social Work            | 44555.56                            |\n",
       "| Social Science                      | 53222.22                            |\n",
       "\n"
      ],
      "text/plain": [
       "   Major_category                      cat_median\n",
       "1  Agriculture & Natural Resources     55000.00  \n",
       "2  Arts                                43525.00  \n",
       "3  Biology & Life Science              50821.43  \n",
       "4  Business                            60615.38  \n",
       "5  Communications & Journalism         49500.00  \n",
       "6  Computers & Mathematics             66272.73  \n",
       "7  Education                           43831.25  \n",
       "8  Engineering                         77758.62  \n",
       "9  Health                              56458.33  \n",
       "10 Humanities & Liberal Arts           46080.00  \n",
       "11 Industrial Arts & Consumer Services 52642.86  \n",
       "12 Interdisciplinary                   43000.00  \n",
       "13 Law & Public Policy                 52800.00  \n",
       "14 Physical Sciences                   62400.00  \n",
       "15 Psychology & Social Work            44555.56  \n",
       "16 Social Science                      53222.22  "
      ]
     },
     "metadata": {},
     "output_type": "display_data"
    }
   ],
   "source": [
    "df"
   ]
  },
  {
   "cell_type": "markdown",
   "metadata": {},
   "source": [
    "## Exercises"
   ]
  },
  {
   "cell_type": "markdown",
   "metadata": {},
   "source": [
    "- Using the df I created just above, create a barplot with the Major_category on the x-axis, and the median on the y axis"
   ]
  },
  {
   "cell_type": "code",
   "execution_count": 108,
   "metadata": {},
   "outputs": [
    {
     "data": {
      "image/png": "[encoded data removed]",
      "text/plain": [
       "plot without title"
      ]
     },
     "metadata": {},
     "output_type": "display_data"
    }
   ],
   "source": []
  },
  {
   "cell_type": "markdown",
   "metadata": {},
   "source": [
    "- This looks horrible! Why? What are some possible solutions?\n",
    "- Here's one: Try filtering out some Major categories so that there is less clutter. If you thought of another, feel free to try that as well."
   ]
  },
  {
   "cell_type": "code",
   "execution_count": 111,
   "metadata": {},
   "outputs": [
    {
     "data": {
      "text/html": [
       "<ol class=list-inline>\n",
       "\t<li>'Agriculture &amp; Natural Resources'</li>\n",
       "\t<li>'Arts'</li>\n",
       "\t<li>'Biology &amp; Life Science'</li>\n",
       "\t<li>'Business'</li>\n",
       "\t<li>'Communications &amp; Journalism'</li>\n",
       "\t<li>'Computers &amp; Mathematics'</li>\n",
       "\t<li>'Education'</li>\n",
       "\t<li>'Engineering'</li>\n",
       "\t<li>'Health'</li>\n",
       "\t<li>'Humanities &amp; Liberal Arts'</li>\n",
       "\t<li>'Industrial Arts &amp; Consumer Services'</li>\n",
       "\t<li>'Interdisciplinary'</li>\n",
       "\t<li>'Law &amp; Public Policy'</li>\n",
       "\t<li>'Physical Sciences'</li>\n",
       "\t<li>'Psychology &amp; Social Work'</li>\n",
       "\t<li>'Social Science'</li>\n",
       "</ol>\n"
      ],
      "text/latex": [
       "\\begin{enumerate*}\n",
       "\\item 'Agriculture \\& Natural Resources'\n",
       "\\item 'Arts'\n",
       "\\item 'Biology \\& Life Science'\n",
       "\\item 'Business'\n",
       "\\item 'Communications \\& Journalism'\n",
       "\\item 'Computers \\& Mathematics'\n",
       "\\item 'Education'\n",
       "\\item 'Engineering'\n",
       "\\item 'Health'\n",
       "\\item 'Humanities \\& Liberal Arts'\n",
       "\\item 'Industrial Arts \\& Consumer Services'\n",
       "\\item 'Interdisciplinary'\n",
       "\\item 'Law \\& Public Policy'\n",
       "\\item 'Physical Sciences'\n",
       "\\item 'Psychology \\& Social Work'\n",
       "\\item 'Social Science'\n",
       "\\end{enumerate*}\n"
      ],
      "text/markdown": [
       "1. 'Agriculture &amp; Natural Resources'\n",
       "2. 'Arts'\n",
       "3. 'Biology &amp; Life Science'\n",
       "4. 'Business'\n",
       "5. 'Communications &amp; Journalism'\n",
       "6. 'Computers &amp; Mathematics'\n",
       "7. 'Education'\n",
       "8. 'Engineering'\n",
       "9. 'Health'\n",
       "10. 'Humanities &amp; Liberal Arts'\n",
       "11. 'Industrial Arts &amp; Consumer Services'\n",
       "12. 'Interdisciplinary'\n",
       "13. 'Law &amp; Public Policy'\n",
       "14. 'Physical Sciences'\n",
       "15. 'Psychology &amp; Social Work'\n",
       "16. 'Social Science'\n",
       "\n",
       "\n"
      ],
      "text/plain": [
       " [1] \"Agriculture & Natural Resources\"     \"Arts\"                               \n",
       " [3] \"Biology & Life Science\"              \"Business\"                           \n",
       " [5] \"Communications & Journalism\"         \"Computers & Mathematics\"            \n",
       " [7] \"Education\"                           \"Engineering\"                        \n",
       " [9] \"Health\"                              \"Humanities & Liberal Arts\"          \n",
       "[11] \"Industrial Arts & Consumer Services\" \"Interdisciplinary\"                  \n",
       "[13] \"Law & Public Policy\"                 \"Physical Sciences\"                  \n",
       "[15] \"Psychology & Social Work\"            \"Social Science\"                     "
      ]
     },
     "metadata": {},
     "output_type": "display_data"
    }
   ],
   "source": [
    "unique(df$Major_category)"
   ]
  },
  {
   "cell_type": "code",
   "execution_count": 112,
   "metadata": {},
   "outputs": [
    {
     "data": {
      "image/png": "[encoded data removed]",
      "text/plain": [
       "plot without title"
      ]
     },
     "metadata": {},
     "output_type": "display_data"
    }
   ],
   "source": []
  },
  {
   "cell_type": "markdown",
   "metadata": {},
   "source": [
    "- That's a bit better! Note that the x-label and y-label are ugly. Look up how to change them. Also consider adding a title, and perhaps changing around the plot to look nicer in other ways. "
   ]
  },
  {
   "cell_type": "code",
   "execution_count": 118,
   "metadata": {},
   "outputs": [
    {
     "data": {
      "image/png": "[encoded data removed]",
      "text/plain": [
       "plot without title"
      ]
     },
     "metadata": {},
     "output_type": "display_data"
    }
   ],
   "source": []
  },
  {
   "cell_type": "markdown",
   "metadata": {},
   "source": [
    "- What if you need to include more columns than just 5? Look up what coord_flip does. Just like the polar transformation we saw in lecture, it is another way to revision our data! Try using coord_flip on the whole data and see what it looks like!"
   ]
  },
  {
   "cell_type": "code",
   "execution_count": 119,
   "metadata": {},
   "outputs": [
    {
     "data": {
      "image/png": "[encoded data removed]",
      "text/plain": [
       "plot without title"
      ]
     },
     "metadata": {},
     "output_type": "display_data"
    }
   ],
   "source": []
  },
  {
   "cell_type": "markdown",
   "metadata": {},
   "source": [
    "- Major_code seems like a pretty useless variable right now. Create a new dataframe called no_code (or whatever else you want!) that doesn't  contain it.\n",
    "- How many majors are in the Education category? (use nrow with filter)\n",
    "- How many majors in the Education Category have more than 100,000 Total students?"
   ]
  },
  {
   "cell_type": "code",
   "execution_count": 133,
   "metadata": {},
   "outputs": [
    {
     "data": {
      "text/html": [
       "16"
      ],
      "text/latex": [
       "16"
      ],
      "text/markdown": [
       "16"
      ],
      "text/plain": [
       "[1] 16"
      ]
     },
     "metadata": {},
     "output_type": "display_data"
    },
    {
     "data": {
      "text/html": [
       "10"
      ],
      "text/latex": [
       "10"
      ],
      "text/markdown": [
       "10"
      ],
      "text/plain": [
       "[1] 10"
      ]
     },
     "metadata": {},
     "output_type": "display_data"
    }
   ],
   "source": []
  },
  {
   "cell_type": "code",
   "execution_count": null,
   "metadata": {},
   "outputs": [],
   "source": []
  }
 ],
 "metadata": {
  "kernelspec": {
   "display_name": "R",
   "language": "R",
   "name": "ir"
  },
  "language_info": {
   "codemirror_mode": "r",
   "file_extension": ".r",
   "mimetype": "text/x-r-source",
   "name": "R",
   "pygments_lexer": "r",
   "version": "3.6.1"
  }
 },
 "nbformat": 4,
 "nbformat_minor": 4
}
