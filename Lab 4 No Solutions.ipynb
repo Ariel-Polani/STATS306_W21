{
 "cells": [
  {
   "cell_type": "markdown",
   "metadata": {},
   "source": [
    "# EDA: Chipotle"
   ]
  },
  {
   "cell_type": "markdown",
   "metadata": {},
   "source": [
    "### We have data on what people order at Chipotle\n",
    "\n",
    "- How much do people spend on average at Chipotle?\n",
    "- Do people prefer bowls or burritos?\n",
    "- What percentage of people order drinks?"
   ]
  },
  {
   "cell_type": "code",
   "execution_count": 2,
   "metadata": {},
   "outputs": [],
   "source": [
    "library(tidyverse)\n",
    "df = read.csv(\"https://raw.githubusercontent.com/byoungwookjang/stats306_labs/master/lab3/chipotle.csv\", stringsAsFactors = F)"
   ]
  },
  {
   "cell_type": "code",
   "execution_count": 4,
   "metadata": {},
   "outputs": [
    {
     "data": {
      "text/html": [
       "<table>\n",
       "<thead><tr><th scope=col>X</th><th scope=col>order_id</th><th scope=col>quantity</th><th scope=col>item_name</th><th scope=col>choice_description</th><th scope=col>item_price</th></tr></thead>\n",
       "<tbody>\n",
       "\t<tr><td>0                                                                          </td><td>1                                                                          </td><td>1                                                                          </td><td>Chips and Fresh Tomato Salsa                                               </td><td>                                                                           </td><td>$2.39                                                                      </td></tr>\n",
       "\t<tr><td>1                                                                          </td><td>1                                                                          </td><td>1                                                                          </td><td>Izze                                                                       </td><td>[Clementine]                                                               </td><td>$3.39                                                                      </td></tr>\n",
       "\t<tr><td>2                                                                          </td><td>1                                                                          </td><td>1                                                                          </td><td>Nantucket Nectar                                                           </td><td>[Apple]                                                                    </td><td>$3.39                                                                      </td></tr>\n",
       "\t<tr><td>3                                                                          </td><td>1                                                                          </td><td>1                                                                          </td><td>Chips and Tomatillo-Green Chili Salsa                                      </td><td>                                                                           </td><td>$2.39                                                                      </td></tr>\n",
       "\t<tr><td>4                                                                          </td><td>2                                                                          </td><td>2                                                                          </td><td>Chicken Bowl                                                               </td><td>[Tomatillo-Red Chili Salsa (Hot), [Black Beans, Rice, Cheese, Sour Cream]] </td><td>$16.98                                                                     </td></tr>\n",
       "\t<tr><td>5                                                                          </td><td>3                                                                          </td><td>1                                                                          </td><td>Chicken Bowl                                                               </td><td>[Fresh Tomato Salsa (Mild), [Rice, Cheese, Sour Cream, Guacamole, Lettuce]]</td><td>$10.98                                                                     </td></tr>\n",
       "</tbody>\n",
       "</table>\n"
      ],
      "text/latex": [
       "\\begin{tabular}{r|llllll}\n",
       " X & order\\_id & quantity & item\\_name & choice\\_description & item\\_price\\\\\n",
       "\\hline\n",
       "\t 0                                                                           & 1                                                                           & 1                                                                           & Chips and Fresh Tomato Salsa                                                &                                                                             & \\$2.39                                                                    \\\\\n",
       "\t 1                                                                               & 1                                                                               & 1                                                                               & Izze                                                                            & {[}Clementine{]}                                                                & \\$3.39                                                                        \\\\\n",
       "\t 2                                                                               & 1                                                                               & 1                                                                               & Nantucket Nectar                                                                & {[}Apple{]}                                                                     & \\$3.39                                                                        \\\\\n",
       "\t 3                                                                           & 1                                                                           & 1                                                                           & Chips and Tomatillo-Green Chili Salsa                                       &                                                                             & \\$2.39                                                                    \\\\\n",
       "\t 4                                                                                   & 2                                                                                   & 2                                                                                   & Chicken Bowl                                                                        & {[}Tomatillo-Red Chili Salsa (Hot), {[}Black Beans, Rice, Cheese, Sour Cream{]}{]}  & \\$16.98                                                                           \\\\\n",
       "\t 5                                                                                   & 3                                                                                   & 1                                                                                   & Chicken Bowl                                                                        & {[}Fresh Tomato Salsa (Mild), {[}Rice, Cheese, Sour Cream, Guacamole, Lettuce{]}{]} & \\$10.98                                                                           \\\\\n",
       "\\end{tabular}\n"
      ],
      "text/markdown": [
       "\n",
       "| X | order_id | quantity | item_name | choice_description | item_price |\n",
       "|---|---|---|---|---|---|\n",
       "| 0                                                                           | 1                                                                           | 1                                                                           | Chips and Fresh Tomato Salsa                                                |                                                                             | $2.39                                                                       |\n",
       "| 1                                                                           | 1                                                                           | 1                                                                           | Izze                                                                        | [Clementine]                                                                | $3.39                                                                       |\n",
       "| 2                                                                           | 1                                                                           | 1                                                                           | Nantucket Nectar                                                            | [Apple]                                                                     | $3.39                                                                       |\n",
       "| 3                                                                           | 1                                                                           | 1                                                                           | Chips and Tomatillo-Green Chili Salsa                                       |                                                                             | $2.39                                                                       |\n",
       "| 4                                                                           | 2                                                                           | 2                                                                           | Chicken Bowl                                                                | [Tomatillo-Red Chili Salsa (Hot), [Black Beans, Rice, Cheese, Sour Cream]]  | $16.98                                                                      |\n",
       "| 5                                                                           | 3                                                                           | 1                                                                           | Chicken Bowl                                                                | [Fresh Tomato Salsa (Mild), [Rice, Cheese, Sour Cream, Guacamole, Lettuce]] | $10.98                                                                      |\n",
       "\n"
      ],
      "text/plain": [
       "  X order_id quantity item_name                            \n",
       "1 0 1        1        Chips and Fresh Tomato Salsa         \n",
       "2 1 1        1        Izze                                 \n",
       "3 2 1        1        Nantucket Nectar                     \n",
       "4 3 1        1        Chips and Tomatillo-Green Chili Salsa\n",
       "5 4 2        2        Chicken Bowl                         \n",
       "6 5 3        1        Chicken Bowl                         \n",
       "  choice_description                                                         \n",
       "1                                                                            \n",
       "2 [Clementine]                                                               \n",
       "3 [Apple]                                                                    \n",
       "4                                                                            \n",
       "5 [Tomatillo-Red Chili Salsa (Hot), [Black Beans, Rice, Cheese, Sour Cream]] \n",
       "6 [Fresh Tomato Salsa (Mild), [Rice, Cheese, Sour Cream, Guacamole, Lettuce]]\n",
       "  item_price\n",
       "1 $2.39     \n",
       "2 $3.39     \n",
       "3 $3.39     \n",
       "4 $2.39     \n",
       "5 $16.98    \n",
       "6 $10.98    "
      ]
     },
     "metadata": {},
     "output_type": "display_data"
    }
   ],
   "source": [
    "head(df)"
   ]
  },
  {
   "cell_type": "markdown",
   "metadata": {},
   "source": [
    "## Remove unneccessary information from your data"
   ]
  },
  {
   "cell_type": "code",
   "execution_count": 7,
   "metadata": {},
   "outputs": [],
   "source": [
    "df <- df  %>% select(-X)"
   ]
  },
  {
   "cell_type": "markdown",
   "metadata": {},
   "source": [
    "## Take a glimpse at your data"
   ]
  },
  {
   "cell_type": "code",
   "execution_count": 9,
   "metadata": {},
   "outputs": [
    {
     "data": {
      "text/plain": [
       "    order_id         quantity       item_name         choice_description\n",
       " Min.   :   1.0   Min.   : 1.000   Length:4622        Length:4622       \n",
       " 1st Qu.: 477.2   1st Qu.: 1.000   Class :character   Class :character  \n",
       " Median : 926.0   Median : 1.000   Mode  :character   Mode  :character  \n",
       " Mean   : 927.3   Mean   : 1.076                                        \n",
       " 3rd Qu.:1393.0   3rd Qu.: 1.000                                        \n",
       " Max.   :1834.0   Max.   :15.000                                        \n",
       "  item_price       \n",
       " Length:4622       \n",
       " Class :character  \n",
       " Mode  :character  \n",
       "                   \n",
       "                   \n",
       "                   "
      ]
     },
     "metadata": {},
     "output_type": "display_data"
    }
   ],
   "source": [
    "summary(df)"
   ]
  },
  {
   "cell_type": "code",
   "execution_count": 10,
   "metadata": {},
   "outputs": [
    {
     "name": "stdout",
     "output_type": "stream",
     "text": [
      "Observations: 4,622\n",
      "Variables: 5\n",
      "$ order_id           <int> 1, 1, 1, 1, 2, 3, 3, 4, 4, 5, 5, 6, 6, 7, 7, 8, ...\n",
      "$ quantity           <int> 1, 1, 1, 1, 2, 1, 1, 1, 1, 1, 1, 1, 1, 1, 1, 1, ...\n",
      "$ item_name          <chr> \"Chips and Fresh Tomato Salsa\", \"Izze\", \"Nantuck...\n",
      "$ choice_description <chr> \"\", \"[Clementine]\", \"[Apple]\", \"\", \"[Tomatillo-R...\n",
      "$ item_price         <chr> \"$2.39 \", \"$3.39 \", \"$3.39 \", \"$2.39 \", \"$16.98 ...\n"
     ]
    }
   ],
   "source": [
    "glimpse(df)"
   ]
  },
  {
   "cell_type": "markdown",
   "metadata": {},
   "source": [
    "## Q1: What are the top 5 most popular items on the menu?"
   ]
  },
  {
   "cell_type": "code",
   "execution_count": 14,
   "metadata": {},
   "outputs": [
    {
     "data": {
      "text/html": [
       "<table>\n",
       "<thead><tr><th scope=col>item_name</th><th scope=col>count</th></tr></thead>\n",
       "<tbody>\n",
       "\t<tr><td>Chicken Bowl                         </td><td>726                                  </td></tr>\n",
       "\t<tr><td>Chicken Burrito                      </td><td>553                                  </td></tr>\n",
       "\t<tr><td>Chips and Guacamole                  </td><td>479                                  </td></tr>\n",
       "\t<tr><td>Steak Burrito                        </td><td>368                                  </td></tr>\n",
       "\t<tr><td>Canned Soft Drink                    </td><td>301                                  </td></tr>\n",
       "\t<tr><td>Chips                                </td><td>211                                  </td></tr>\n",
       "\t<tr><td>Steak Bowl                           </td><td>211                                  </td></tr>\n",
       "\t<tr><td>Bottled Water                        </td><td>162                                  </td></tr>\n",
       "\t<tr><td>Chicken Soft Tacos                   </td><td>115                                  </td></tr>\n",
       "\t<tr><td>Chicken Salad Bowl                   </td><td>110                                  </td></tr>\n",
       "\t<tr><td>Chips and Fresh Tomato Salsa         </td><td>110                                  </td></tr>\n",
       "\t<tr><td>Canned Soda                          </td><td>104                                  </td></tr>\n",
       "\t<tr><td>Side of Chips                        </td><td>101                                  </td></tr>\n",
       "\t<tr><td>Veggie Burrito                       </td><td> 95                                  </td></tr>\n",
       "\t<tr><td>Barbacoa Burrito                     </td><td> 91                                  </td></tr>\n",
       "\t<tr><td>Veggie Bowl                          </td><td> 85                                  </td></tr>\n",
       "\t<tr><td>Carnitas Bowl                        </td><td> 68                                  </td></tr>\n",
       "\t<tr><td>Barbacoa Bowl                        </td><td> 66                                  </td></tr>\n",
       "\t<tr><td>Carnitas Burrito                     </td><td> 59                                  </td></tr>\n",
       "\t<tr><td>Steak Soft Tacos                     </td><td> 55                                  </td></tr>\n",
       "\t<tr><td>6 Pack Soft Drink                    </td><td> 54                                  </td></tr>\n",
       "\t<tr><td>Chips and Tomatillo Red Chili Salsa  </td><td> 48                                  </td></tr>\n",
       "\t<tr><td>Chicken Crispy Tacos                 </td><td> 47                                  </td></tr>\n",
       "\t<tr><td>Chips and Tomatillo Green Chili Salsa</td><td> 43                                  </td></tr>\n",
       "\t<tr><td>Carnitas Soft Tacos                  </td><td> 40                                  </td></tr>\n",
       "\t<tr><td>Chips and Roasted Chili Corn Salsa   </td><td> 40                                  </td></tr>\n",
       "\t<tr><td>Steak Crispy Tacos                   </td><td> 35                                  </td></tr>\n",
       "\t<tr><td>Chips and Tomatillo-Green Chili Salsa</td><td> 31                                  </td></tr>\n",
       "\t<tr><td>Steak Salad Bowl                     </td><td> 29                                  </td></tr>\n",
       "\t<tr><td>Nantucket Nectar                     </td><td> 27                                  </td></tr>\n",
       "\t<tr><td>Barbacoa Soft Tacos                  </td><td> 25                                  </td></tr>\n",
       "\t<tr><td>Chips and Tomatillo-Red Chili Salsa  </td><td> 20                                  </td></tr>\n",
       "\t<tr><td>Izze                                 </td><td> 20                                  </td></tr>\n",
       "\t<tr><td>Veggie Salad Bowl                    </td><td> 18                                  </td></tr>\n",
       "\t<tr><td>Barbacoa Crispy Tacos                </td><td> 11                                  </td></tr>\n",
       "\t<tr><td>Barbacoa Salad Bowl                  </td><td> 10                                  </td></tr>\n",
       "\t<tr><td>Chicken Salad                        </td><td>  9                                  </td></tr>\n",
       "\t<tr><td>Carnitas Crispy Tacos                </td><td>  7                                  </td></tr>\n",
       "\t<tr><td>Veggie Soft Tacos                    </td><td>  7                                  </td></tr>\n",
       "\t<tr><td>Burrito                              </td><td>  6                                  </td></tr>\n",
       "\t<tr><td>Carnitas Salad Bowl                  </td><td>  6                                  </td></tr>\n",
       "\t<tr><td>Veggie Salad                         </td><td>  6                                  </td></tr>\n",
       "\t<tr><td>Steak Salad                          </td><td>  4                                  </td></tr>\n",
       "\t<tr><td>Bowl                                 </td><td>  2                                  </td></tr>\n",
       "\t<tr><td>Crispy Tacos                         </td><td>  2                                  </td></tr>\n",
       "\t<tr><td>Salad                                </td><td>  2                                  </td></tr>\n",
       "\t<tr><td>Carnitas Salad                       </td><td>  1                                  </td></tr>\n",
       "\t<tr><td>Chips and Mild Fresh Tomato Salsa    </td><td>  1                                  </td></tr>\n",
       "\t<tr><td>Veggie Crispy Tacos                  </td><td>  1                                  </td></tr>\n",
       "</tbody>\n",
       "</table>\n"
      ],
      "text/latex": [
       "\\begin{tabular}{r|ll}\n",
       " item\\_name & count\\\\\n",
       "\\hline\n",
       "\t Chicken Bowl                          & 726                                  \\\\\n",
       "\t Chicken Burrito                       & 553                                  \\\\\n",
       "\t Chips and Guacamole                   & 479                                  \\\\\n",
       "\t Steak Burrito                         & 368                                  \\\\\n",
       "\t Canned Soft Drink                     & 301                                  \\\\\n",
       "\t Chips                                 & 211                                  \\\\\n",
       "\t Steak Bowl                            & 211                                  \\\\\n",
       "\t Bottled Water                         & 162                                  \\\\\n",
       "\t Chicken Soft Tacos                    & 115                                  \\\\\n",
       "\t Chicken Salad Bowl                    & 110                                  \\\\\n",
       "\t Chips and Fresh Tomato Salsa          & 110                                  \\\\\n",
       "\t Canned Soda                           & 104                                  \\\\\n",
       "\t Side of Chips                         & 101                                  \\\\\n",
       "\t Veggie Burrito                        &  95                                  \\\\\n",
       "\t Barbacoa Burrito                      &  91                                  \\\\\n",
       "\t Veggie Bowl                           &  85                                  \\\\\n",
       "\t Carnitas Bowl                         &  68                                  \\\\\n",
       "\t Barbacoa Bowl                         &  66                                  \\\\\n",
       "\t Carnitas Burrito                      &  59                                  \\\\\n",
       "\t Steak Soft Tacos                      &  55                                  \\\\\n",
       "\t 6 Pack Soft Drink                     &  54                                  \\\\\n",
       "\t Chips and Tomatillo Red Chili Salsa   &  48                                  \\\\\n",
       "\t Chicken Crispy Tacos                  &  47                                  \\\\\n",
       "\t Chips and Tomatillo Green Chili Salsa &  43                                  \\\\\n",
       "\t Carnitas Soft Tacos                   &  40                                  \\\\\n",
       "\t Chips and Roasted Chili Corn Salsa    &  40                                  \\\\\n",
       "\t Steak Crispy Tacos                    &  35                                  \\\\\n",
       "\t Chips and Tomatillo-Green Chili Salsa &  31                                  \\\\\n",
       "\t Steak Salad Bowl                      &  29                                  \\\\\n",
       "\t Nantucket Nectar                      &  27                                  \\\\\n",
       "\t Barbacoa Soft Tacos                   &  25                                  \\\\\n",
       "\t Chips and Tomatillo-Red Chili Salsa   &  20                                  \\\\\n",
       "\t Izze                                  &  20                                  \\\\\n",
       "\t Veggie Salad Bowl                     &  18                                  \\\\\n",
       "\t Barbacoa Crispy Tacos                 &  11                                  \\\\\n",
       "\t Barbacoa Salad Bowl                   &  10                                  \\\\\n",
       "\t Chicken Salad                         &   9                                  \\\\\n",
       "\t Carnitas Crispy Tacos                 &   7                                  \\\\\n",
       "\t Veggie Soft Tacos                     &   7                                  \\\\\n",
       "\t Burrito                               &   6                                  \\\\\n",
       "\t Carnitas Salad Bowl                   &   6                                  \\\\\n",
       "\t Veggie Salad                          &   6                                  \\\\\n",
       "\t Steak Salad                           &   4                                  \\\\\n",
       "\t Bowl                                  &   2                                  \\\\\n",
       "\t Crispy Tacos                          &   2                                  \\\\\n",
       "\t Salad                                 &   2                                  \\\\\n",
       "\t Carnitas Salad                        &   1                                  \\\\\n",
       "\t Chips and Mild Fresh Tomato Salsa     &   1                                  \\\\\n",
       "\t Veggie Crispy Tacos                   &   1                                  \\\\\n",
       "\\end{tabular}\n"
      ],
      "text/markdown": [
       "\n",
       "| item_name | count |\n",
       "|---|---|\n",
       "| Chicken Bowl                          | 726                                   |\n",
       "| Chicken Burrito                       | 553                                   |\n",
       "| Chips and Guacamole                   | 479                                   |\n",
       "| Steak Burrito                         | 368                                   |\n",
       "| Canned Soft Drink                     | 301                                   |\n",
       "| Chips                                 | 211                                   |\n",
       "| Steak Bowl                            | 211                                   |\n",
       "| Bottled Water                         | 162                                   |\n",
       "| Chicken Soft Tacos                    | 115                                   |\n",
       "| Chicken Salad Bowl                    | 110                                   |\n",
       "| Chips and Fresh Tomato Salsa          | 110                                   |\n",
       "| Canned Soda                           | 104                                   |\n",
       "| Side of Chips                         | 101                                   |\n",
       "| Veggie Burrito                        |  95                                   |\n",
       "| Barbacoa Burrito                      |  91                                   |\n",
       "| Veggie Bowl                           |  85                                   |\n",
       "| Carnitas Bowl                         |  68                                   |\n",
       "| Barbacoa Bowl                         |  66                                   |\n",
       "| Carnitas Burrito                      |  59                                   |\n",
       "| Steak Soft Tacos                      |  55                                   |\n",
       "| 6 Pack Soft Drink                     |  54                                   |\n",
       "| Chips and Tomatillo Red Chili Salsa   |  48                                   |\n",
       "| Chicken Crispy Tacos                  |  47                                   |\n",
       "| Chips and Tomatillo Green Chili Salsa |  43                                   |\n",
       "| Carnitas Soft Tacos                   |  40                                   |\n",
       "| Chips and Roasted Chili Corn Salsa    |  40                                   |\n",
       "| Steak Crispy Tacos                    |  35                                   |\n",
       "| Chips and Tomatillo-Green Chili Salsa |  31                                   |\n",
       "| Steak Salad Bowl                      |  29                                   |\n",
       "| Nantucket Nectar                      |  27                                   |\n",
       "| Barbacoa Soft Tacos                   |  25                                   |\n",
       "| Chips and Tomatillo-Red Chili Salsa   |  20                                   |\n",
       "| Izze                                  |  20                                   |\n",
       "| Veggie Salad Bowl                     |  18                                   |\n",
       "| Barbacoa Crispy Tacos                 |  11                                   |\n",
       "| Barbacoa Salad Bowl                   |  10                                   |\n",
       "| Chicken Salad                         |   9                                   |\n",
       "| Carnitas Crispy Tacos                 |   7                                   |\n",
       "| Veggie Soft Tacos                     |   7                                   |\n",
       "| Burrito                               |   6                                   |\n",
       "| Carnitas Salad Bowl                   |   6                                   |\n",
       "| Veggie Salad                          |   6                                   |\n",
       "| Steak Salad                           |   4                                   |\n",
       "| Bowl                                  |   2                                   |\n",
       "| Crispy Tacos                          |   2                                   |\n",
       "| Salad                                 |   2                                   |\n",
       "| Carnitas Salad                        |   1                                   |\n",
       "| Chips and Mild Fresh Tomato Salsa     |   1                                   |\n",
       "| Veggie Crispy Tacos                   |   1                                   |\n",
       "\n"
      ],
      "text/plain": [
       "   item_name                             count\n",
       "1  Chicken Bowl                          726  \n",
       "2  Chicken Burrito                       553  \n",
       "3  Chips and Guacamole                   479  \n",
       "4  Steak Burrito                         368  \n",
       "5  Canned Soft Drink                     301  \n",
       "6  Chips                                 211  \n",
       "7  Steak Bowl                            211  \n",
       "8  Bottled Water                         162  \n",
       "9  Chicken Soft Tacos                    115  \n",
       "10 Chicken Salad Bowl                    110  \n",
       "11 Chips and Fresh Tomato Salsa          110  \n",
       "12 Canned Soda                           104  \n",
       "13 Side of Chips                         101  \n",
       "14 Veggie Burrito                         95  \n",
       "15 Barbacoa Burrito                       91  \n",
       "16 Veggie Bowl                            85  \n",
       "17 Carnitas Bowl                          68  \n",
       "18 Barbacoa Bowl                          66  \n",
       "19 Carnitas Burrito                       59  \n",
       "20 Steak Soft Tacos                       55  \n",
       "21 6 Pack Soft Drink                      54  \n",
       "22 Chips and Tomatillo Red Chili Salsa    48  \n",
       "23 Chicken Crispy Tacos                   47  \n",
       "24 Chips and Tomatillo Green Chili Salsa  43  \n",
       "25 Carnitas Soft Tacos                    40  \n",
       "26 Chips and Roasted Chili Corn Salsa     40  \n",
       "27 Steak Crispy Tacos                     35  \n",
       "28 Chips and Tomatillo-Green Chili Salsa  31  \n",
       "29 Steak Salad Bowl                       29  \n",
       "30 Nantucket Nectar                       27  \n",
       "31 Barbacoa Soft Tacos                    25  \n",
       "32 Chips and Tomatillo-Red Chili Salsa    20  \n",
       "33 Izze                                   20  \n",
       "34 Veggie Salad Bowl                      18  \n",
       "35 Barbacoa Crispy Tacos                  11  \n",
       "36 Barbacoa Salad Bowl                    10  \n",
       "37 Chicken Salad                           9  \n",
       "38 Carnitas Crispy Tacos                   7  \n",
       "39 Veggie Soft Tacos                       7  \n",
       "40 Burrito                                 6  \n",
       "41 Carnitas Salad Bowl                     6  \n",
       "42 Veggie Salad                            6  \n",
       "43 Steak Salad                             4  \n",
       "44 Bowl                                    2  \n",
       "45 Crispy Tacos                            2  \n",
       "46 Salad                                   2  \n",
       "47 Carnitas Salad                          1  \n",
       "48 Chips and Mild Fresh Tomato Salsa       1  \n",
       "49 Veggie Crispy Tacos                     1  "
      ]
     },
     "metadata": {},
     "output_type": "display_data"
    }
   ],
   "source": [
    "df  %>% \n",
    "    group_by(item_name) %>% \n",
    "    summarise(count = n())  %>% \n",
    "    arrange(desc(count))"
   ]
  },
  {
   "cell_type": "markdown",
   "metadata": {},
   "source": [
    "## Question 2: Fix the data so that Chips + Roasted Chili Corn are counted correctly"
   ]
  },
  {
   "cell_type": "code",
   "execution_count": 13,
   "metadata": {},
   "outputs": [],
   "source": [
    "df <- df  %>% \n",
    "    mutate(item_name = ifelse(\n",
    "        item_name == \"Chips and Roasted Chili-Corn Salsa\",\n",
    "        \"Chips and Roasted Chili Corn Salsa\",\n",
    "        item_name\n",
    "                             )\n",
    "          )"
   ]
  },
  {
   "cell_type": "markdown",
   "metadata": {},
   "source": [
    "## Question 3: Can we convert item_price to a number? (Regular expressions!)\n",
    "- https://rstudio.com/wp-content/uploads/2016/09/RegExCheatsheet.pdf"
   ]
  },
  {
   "cell_type": "code",
   "execution_count": 16,
   "metadata": {},
   "outputs": [
    {
     "data": {
      "text/html": [
       "'10.54'"
      ],
      "text/latex": [
       "'10.54'"
      ],
      "text/markdown": [
       "'10.54'"
      ],
      "text/plain": [
       "[1] \"10.54\""
      ]
     },
     "metadata": {},
     "output_type": "display_data"
    }
   ],
   "source": [
    "str_extract(\"$10.54\", \"[0-9]+\\\\.{0,1}[0-9]*\")"
   ]
  },
  {
   "cell_type": "code",
   "execution_count": 17,
   "metadata": {},
   "outputs": [
    {
     "data": {
      "text/html": [
       "'10'"
      ],
      "text/latex": [
       "'10'"
      ],
      "text/markdown": [
       "'10'"
      ],
      "text/plain": [
       "[1] \"10\""
      ]
     },
     "metadata": {},
     "output_type": "display_data"
    }
   ],
   "source": [
    "str_extract(\"$10\", \"[0-9]+\\\\.{0,1}[0-9]*\")"
   ]
  },
  {
   "cell_type": "code",
   "execution_count": 22,
   "metadata": {},
   "outputs": [
    {
     "data": {
      "text/html": [
       "NA"
      ],
      "text/latex": [
       "NA"
      ],
      "text/markdown": [
       "NA"
      ],
      "text/plain": [
       "[1] NA"
      ]
     },
     "metadata": {},
     "output_type": "display_data"
    }
   ],
   "source": [
    "str_extract(\"$10\", \"[0-9]+\\\\.[0-9]+\")"
   ]
  },
  {
   "cell_type": "code",
   "execution_count": 29,
   "metadata": {},
   "outputs": [
    {
     "data": {
      "text/html": [
       "'10.54'"
      ],
      "text/latex": [
       "'10.54'"
      ],
      "text/markdown": [
       "'10.54'"
      ],
      "text/plain": [
       "[1] \"10.54\""
      ]
     },
     "metadata": {},
     "output_type": "display_data"
    }
   ],
   "source": [
    "str_sub(\"$10.54\", 2)"
   ]
  },
  {
   "cell_type": "code",
   "execution_count": 32,
   "metadata": {},
   "outputs": [],
   "source": [
    "df <- df  %>% \n",
    "    mutate(item_price = as.numeric(str_extract(item_price, \"[0-9]+\\\\.{0,1}[0-9]*\")))"
   ]
  },
  {
   "cell_type": "code",
   "execution_count": 33,
   "metadata": {},
   "outputs": [
    {
     "data": {
      "text/html": [
       "<table>\n",
       "<thead><tr><th scope=col>order_id</th><th scope=col>quantity</th><th scope=col>item_name</th><th scope=col>choice_description</th><th scope=col>item_price</th></tr></thead>\n",
       "<tbody>\n",
       "\t<tr><td>1                                                                          </td><td>1                                                                          </td><td>Chips and Fresh Tomato Salsa                                               </td><td>                                                                           </td><td> 2.39                                                                      </td></tr>\n",
       "\t<tr><td>1                                                                          </td><td>1                                                                          </td><td>Izze                                                                       </td><td>[Clementine]                                                               </td><td> 3.39                                                                      </td></tr>\n",
       "\t<tr><td>1                                                                          </td><td>1                                                                          </td><td>Nantucket Nectar                                                           </td><td>[Apple]                                                                    </td><td> 3.39                                                                      </td></tr>\n",
       "\t<tr><td>1                                                                          </td><td>1                                                                          </td><td>Chips and Tomatillo-Green Chili Salsa                                      </td><td>                                                                           </td><td> 2.39                                                                      </td></tr>\n",
       "\t<tr><td>2                                                                          </td><td>2                                                                          </td><td>Chicken Bowl                                                               </td><td>[Tomatillo-Red Chili Salsa (Hot), [Black Beans, Rice, Cheese, Sour Cream]] </td><td>16.98                                                                      </td></tr>\n",
       "\t<tr><td>3                                                                          </td><td>1                                                                          </td><td>Chicken Bowl                                                               </td><td>[Fresh Tomato Salsa (Mild), [Rice, Cheese, Sour Cream, Guacamole, Lettuce]]</td><td>10.98                                                                      </td></tr>\n",
       "</tbody>\n",
       "</table>\n"
      ],
      "text/latex": [
       "\\begin{tabular}{r|lllll}\n",
       " order\\_id & quantity & item\\_name & choice\\_description & item\\_price\\\\\n",
       "\\hline\n",
       "\t 1                                                                           & 1                                                                           & Chips and Fresh Tomato Salsa                                                &                                                                             &  2.39                                                                      \\\\\n",
       "\t 1                                                                               & 1                                                                               & Izze                                                                            & {[}Clementine{]}                                                                &  3.39                                                                          \\\\\n",
       "\t 1                                                                               & 1                                                                               & Nantucket Nectar                                                                & {[}Apple{]}                                                                     &  3.39                                                                          \\\\\n",
       "\t 1                                                                           & 1                                                                           & Chips and Tomatillo-Green Chili Salsa                                       &                                                                             &  2.39                                                                      \\\\\n",
       "\t 2                                                                                   & 2                                                                                   & Chicken Bowl                                                                        & {[}Tomatillo-Red Chili Salsa (Hot), {[}Black Beans, Rice, Cheese, Sour Cream{]}{]}  & 16.98                                                                              \\\\\n",
       "\t 3                                                                                   & 1                                                                                   & Chicken Bowl                                                                        & {[}Fresh Tomato Salsa (Mild), {[}Rice, Cheese, Sour Cream, Guacamole, Lettuce{]}{]} & 10.98                                                                              \\\\\n",
       "\\end{tabular}\n"
      ],
      "text/markdown": [
       "\n",
       "| order_id | quantity | item_name | choice_description | item_price |\n",
       "|---|---|---|---|---|\n",
       "| 1                                                                           | 1                                                                           | Chips and Fresh Tomato Salsa                                                |                                                                             |  2.39                                                                       |\n",
       "| 1                                                                           | 1                                                                           | Izze                                                                        | [Clementine]                                                                |  3.39                                                                       |\n",
       "| 1                                                                           | 1                                                                           | Nantucket Nectar                                                            | [Apple]                                                                     |  3.39                                                                       |\n",
       "| 1                                                                           | 1                                                                           | Chips and Tomatillo-Green Chili Salsa                                       |                                                                             |  2.39                                                                       |\n",
       "| 2                                                                           | 2                                                                           | Chicken Bowl                                                                | [Tomatillo-Red Chili Salsa (Hot), [Black Beans, Rice, Cheese, Sour Cream]]  | 16.98                                                                       |\n",
       "| 3                                                                           | 1                                                                           | Chicken Bowl                                                                | [Fresh Tomato Salsa (Mild), [Rice, Cheese, Sour Cream, Guacamole, Lettuce]] | 10.98                                                                       |\n",
       "\n"
      ],
      "text/plain": [
       "  order_id quantity item_name                            \n",
       "1 1        1        Chips and Fresh Tomato Salsa         \n",
       "2 1        1        Izze                                 \n",
       "3 1        1        Nantucket Nectar                     \n",
       "4 1        1        Chips and Tomatillo-Green Chili Salsa\n",
       "5 2        2        Chicken Bowl                         \n",
       "6 3        1        Chicken Bowl                         \n",
       "  choice_description                                                         \n",
       "1                                                                            \n",
       "2 [Clementine]                                                               \n",
       "3 [Apple]                                                                    \n",
       "4                                                                            \n",
       "5 [Tomatillo-Red Chili Salsa (Hot), [Black Beans, Rice, Cheese, Sour Cream]] \n",
       "6 [Fresh Tomato Salsa (Mild), [Rice, Cheese, Sour Cream, Guacamole, Lettuce]]\n",
       "  item_price\n",
       "1  2.39     \n",
       "2  3.39     \n",
       "3  3.39     \n",
       "4  2.39     \n",
       "5 16.98     \n",
       "6 10.98     "
      ]
     },
     "metadata": {},
     "output_type": "display_data"
    }
   ],
   "source": [
    "df  %>% head()"
   ]
  },
  {
   "cell_type": "code",
   "execution_count": 37,
   "metadata": {},
   "outputs": [
    {
     "data": {
      "text/html": [
       "<ol class=list-inline>\n",
       "\t<li>3.39</li>\n",
       "\t<li>4.39</li>\n",
       "\t<li>4.39</li>\n",
       "\t<li>3.39</li>\n",
       "\t<li>17.98</li>\n",
       "\t<li>11.98</li>\n",
       "</ol>\n"
      ],
      "text/latex": [
       "\\begin{enumerate*}\n",
       "\\item 3.39\n",
       "\\item 4.39\n",
       "\\item 4.39\n",
       "\\item 3.39\n",
       "\\item 17.98\n",
       "\\item 11.98\n",
       "\\end{enumerate*}\n"
      ],
      "text/markdown": [
       "1. 3.39\n",
       "2. 4.39\n",
       "3. 4.39\n",
       "4. 3.39\n",
       "5. 17.98\n",
       "6. 11.98\n",
       "\n",
       "\n"
      ],
      "text/plain": [
       "[1]  3.39  4.39  4.39  3.39 17.98 11.98"
      ]
     },
     "metadata": {},
     "output_type": "display_data"
    }
   ],
   "source": [
    "head(df)$item_price + 1"
   ]
  },
  {
   "cell_type": "code",
   "execution_count": 39,
   "metadata": {},
   "outputs": [
    {
     "data": {
      "text/html": [
       "<table>\n",
       "<thead><tr><th scope=col>order_id</th><th scope=col>quantity</th><th scope=col>item_name</th><th scope=col>choice_description</th><th scope=col>item_price</th></tr></thead>\n",
       "<tbody>\n",
       "\t<tr><td>1                                                                          </td><td>1                                                                          </td><td>Chips and Fresh Tomato Salsa                                               </td><td>                                                                           </td><td> 2.39                                                                      </td></tr>\n",
       "\t<tr><td>1                                                                          </td><td>1                                                                          </td><td>Izze                                                                       </td><td>[Clementine]                                                               </td><td> 3.39                                                                      </td></tr>\n",
       "\t<tr><td>1                                                                          </td><td>1                                                                          </td><td>Nantucket Nectar                                                           </td><td>[Apple]                                                                    </td><td> 3.39                                                                      </td></tr>\n",
       "\t<tr><td>1                                                                          </td><td>1                                                                          </td><td>Chips and Tomatillo-Green Chili Salsa                                      </td><td>                                                                           </td><td> 2.39                                                                      </td></tr>\n",
       "\t<tr><td>2                                                                          </td><td>2                                                                          </td><td>Chicken Bowl                                                               </td><td>[Tomatillo-Red Chili Salsa (Hot), [Black Beans, Rice, Cheese, Sour Cream]] </td><td>16.98                                                                      </td></tr>\n",
       "\t<tr><td>3                                                                          </td><td>1                                                                          </td><td>Chicken Bowl                                                               </td><td>[Fresh Tomato Salsa (Mild), [Rice, Cheese, Sour Cream, Guacamole, Lettuce]]</td><td>10.98                                                                      </td></tr>\n",
       "</tbody>\n",
       "</table>\n"
      ],
      "text/latex": [
       "\\begin{tabular}{r|lllll}\n",
       " order\\_id & quantity & item\\_name & choice\\_description & item\\_price\\\\\n",
       "\\hline\n",
       "\t 1                                                                           & 1                                                                           & Chips and Fresh Tomato Salsa                                                &                                                                             &  2.39                                                                      \\\\\n",
       "\t 1                                                                               & 1                                                                               & Izze                                                                            & {[}Clementine{]}                                                                &  3.39                                                                          \\\\\n",
       "\t 1                                                                               & 1                                                                               & Nantucket Nectar                                                                & {[}Apple{]}                                                                     &  3.39                                                                          \\\\\n",
       "\t 1                                                                           & 1                                                                           & Chips and Tomatillo-Green Chili Salsa                                       &                                                                             &  2.39                                                                      \\\\\n",
       "\t 2                                                                                   & 2                                                                                   & Chicken Bowl                                                                        & {[}Tomatillo-Red Chili Salsa (Hot), {[}Black Beans, Rice, Cheese, Sour Cream{]}{]}  & 16.98                                                                              \\\\\n",
       "\t 3                                                                                   & 1                                                                                   & Chicken Bowl                                                                        & {[}Fresh Tomato Salsa (Mild), {[}Rice, Cheese, Sour Cream, Guacamole, Lettuce{]}{]} & 10.98                                                                              \\\\\n",
       "\\end{tabular}\n"
      ],
      "text/markdown": [
       "\n",
       "| order_id | quantity | item_name | choice_description | item_price |\n",
       "|---|---|---|---|---|\n",
       "| 1                                                                           | 1                                                                           | Chips and Fresh Tomato Salsa                                                |                                                                             |  2.39                                                                       |\n",
       "| 1                                                                           | 1                                                                           | Izze                                                                        | [Clementine]                                                                |  3.39                                                                       |\n",
       "| 1                                                                           | 1                                                                           | Nantucket Nectar                                                            | [Apple]                                                                     |  3.39                                                                       |\n",
       "| 1                                                                           | 1                                                                           | Chips and Tomatillo-Green Chili Salsa                                       |                                                                             |  2.39                                                                       |\n",
       "| 2                                                                           | 2                                                                           | Chicken Bowl                                                                | [Tomatillo-Red Chili Salsa (Hot), [Black Beans, Rice, Cheese, Sour Cream]]  | 16.98                                                                       |\n",
       "| 3                                                                           | 1                                                                           | Chicken Bowl                                                                | [Fresh Tomato Salsa (Mild), [Rice, Cheese, Sour Cream, Guacamole, Lettuce]] | 10.98                                                                       |\n",
       "\n"
      ],
      "text/plain": [
       "  order_id quantity item_name                            \n",
       "1 1        1        Chips and Fresh Tomato Salsa         \n",
       "2 1        1        Izze                                 \n",
       "3 1        1        Nantucket Nectar                     \n",
       "4 1        1        Chips and Tomatillo-Green Chili Salsa\n",
       "5 2        2        Chicken Bowl                         \n",
       "6 3        1        Chicken Bowl                         \n",
       "  choice_description                                                         \n",
       "1                                                                            \n",
       "2 [Clementine]                                                               \n",
       "3 [Apple]                                                                    \n",
       "4                                                                            \n",
       "5 [Tomatillo-Red Chili Salsa (Hot), [Black Beans, Rice, Cheese, Sour Cream]] \n",
       "6 [Fresh Tomato Salsa (Mild), [Rice, Cheese, Sour Cream, Guacamole, Lettuce]]\n",
       "  item_price\n",
       "1  2.39     \n",
       "2  3.39     \n",
       "3  3.39     \n",
       "4  2.39     \n",
       "5 16.98     \n",
       "6 10.98     "
      ]
     },
     "metadata": {},
     "output_type": "display_data"
    }
   ],
   "source": [
    "df  %>% head()"
   ]
  },
  {
   "cell_type": "markdown",
   "metadata": {},
   "source": [
    "## Q4: Construct a table where for each item we have the name of the item, amount sold, revenue, mean price, max price, and min price. Arrange in decreasing order of amount sold. Only list a few items."
   ]
  },
  {
   "cell_type": "code",
   "execution_count": 55,
   "metadata": {
    "scrolled": true
   },
   "outputs": [
    {
     "data": {
      "text/html": [
       "<table>\n",
       "<thead><tr><th scope=col>item_name</th><th scope=col>sold</th><th scope=col>revenue</th><th scope=col>meanprice</th><th scope=col>maxprice</th><th scope=col>minprice</th></tr></thead>\n",
       "<tbody>\n",
       "\t<tr><td>Chicken Bowl       </td><td>761                </td><td>7342.73            </td><td>10.113953          </td><td>32.94              </td><td>8.19               </td></tr>\n",
       "\t<tr><td>Chicken Burrito    </td><td>591                </td><td>5575.82            </td><td>10.082857          </td><td>35.00              </td><td>8.19               </td></tr>\n",
       "\t<tr><td>Chips and Guacamole</td><td>506                </td><td>2201.04            </td><td> 4.595073          </td><td>17.80              </td><td>3.89               </td></tr>\n",
       "\t<tr><td>Steak Burrito      </td><td>386                </td><td>3851.43            </td><td>10.465842          </td><td>27.75              </td><td>8.69               </td></tr>\n",
       "\t<tr><td>Canned Soft Drink  </td><td>351                </td><td> 438.75            </td><td> 1.457641          </td><td> 5.00              </td><td>1.25               </td></tr>\n",
       "\t<tr><td>Chips              </td><td>230                </td><td> 494.34            </td><td> 2.342844          </td><td> 6.45              </td><td>1.99               </td></tr>\n",
       "</tbody>\n",
       "</table>\n"
      ],
      "text/latex": [
       "\\begin{tabular}{r|llllll}\n",
       " item\\_name & sold & revenue & meanprice & maxprice & minprice\\\\\n",
       "\\hline\n",
       "\t Chicken Bowl        & 761                 & 7342.73             & 10.113953           & 32.94               & 8.19               \\\\\n",
       "\t Chicken Burrito     & 591                 & 5575.82             & 10.082857           & 35.00               & 8.19               \\\\\n",
       "\t Chips and Guacamole & 506                 & 2201.04             &  4.595073           & 17.80               & 3.89               \\\\\n",
       "\t Steak Burrito       & 386                 & 3851.43             & 10.465842           & 27.75               & 8.69               \\\\\n",
       "\t Canned Soft Drink   & 351                 &  438.75             &  1.457641           &  5.00               & 1.25               \\\\\n",
       "\t Chips               & 230                 &  494.34             &  2.342844           &  6.45               & 1.99               \\\\\n",
       "\\end{tabular}\n"
      ],
      "text/markdown": [
       "\n",
       "| item_name | sold | revenue | meanprice | maxprice | minprice |\n",
       "|---|---|---|---|---|---|\n",
       "| Chicken Bowl        | 761                 | 7342.73             | 10.113953           | 32.94               | 8.19                |\n",
       "| Chicken Burrito     | 591                 | 5575.82             | 10.082857           | 35.00               | 8.19                |\n",
       "| Chips and Guacamole | 506                 | 2201.04             |  4.595073           | 17.80               | 3.89                |\n",
       "| Steak Burrito       | 386                 | 3851.43             | 10.465842           | 27.75               | 8.69                |\n",
       "| Canned Soft Drink   | 351                 |  438.75             |  1.457641           |  5.00               | 1.25                |\n",
       "| Chips               | 230                 |  494.34             |  2.342844           |  6.45               | 1.99                |\n",
       "\n"
      ],
      "text/plain": [
       "  item_name           sold revenue meanprice maxprice minprice\n",
       "1 Chicken Bowl        761  7342.73 10.113953 32.94    8.19    \n",
       "2 Chicken Burrito     591  5575.82 10.082857 35.00    8.19    \n",
       "3 Chips and Guacamole 506  2201.04  4.595073 17.80    3.89    \n",
       "4 Steak Burrito       386  3851.43 10.465842 27.75    8.69    \n",
       "5 Canned Soft Drink   351   438.75  1.457641  5.00    1.25    \n",
       "6 Chips               230   494.34  2.342844  6.45    1.99    "
      ]
     },
     "metadata": {},
     "output_type": "display_data"
    }
   ],
   "source": []
  },
  {
   "cell_type": "markdown",
   "metadata": {},
   "source": [
    "## Q5: Note that it makes no sense for the max price of a bowl to be 33. Why does this happen? Adjust your code so that the mean, max, and min actually represent what we want them to represent. "
   ]
  },
  {
   "cell_type": "code",
   "execution_count": 56,
   "metadata": {},
   "outputs": [
    {
     "data": {
      "text/html": [
       "<table>\n",
       "<thead><tr><th scope=col>item_name</th><th scope=col>revenue</th><th scope=col>itemsold</th><th scope=col>meanprice</th><th scope=col>maxprice</th><th scope=col>minprice</th></tr></thead>\n",
       "<tbody>\n",
       "\t<tr><td>Chicken Bowl       </td><td>7342.73            </td><td>761                </td><td>9.657727           </td><td>11.25              </td><td>8.19               </td></tr>\n",
       "\t<tr><td>Chicken Burrito    </td><td>5575.82            </td><td>591                </td><td>9.475949           </td><td>11.25              </td><td>8.19               </td></tr>\n",
       "\t<tr><td>Chips and Guacamole</td><td>2201.04            </td><td>506                </td><td>4.345616           </td><td> 4.45              </td><td>3.89               </td></tr>\n",
       "\t<tr><td>Steak Burrito      </td><td>3851.43            </td><td>386                </td><td>9.993424           </td><td>11.75              </td><td>8.69               </td></tr>\n",
       "\t<tr><td>Canned Soft Drink  </td><td> 438.75            </td><td>351                </td><td>1.250000           </td><td> 1.25              </td><td>1.25               </td></tr>\n",
       "\t<tr><td>Chips              </td><td> 494.34            </td><td>230                </td><td>2.149242           </td><td> 2.15              </td><td>1.99               </td></tr>\n",
       "</tbody>\n",
       "</table>\n"
      ],
      "text/latex": [
       "\\begin{tabular}{r|llllll}\n",
       " item\\_name & revenue & itemsold & meanprice & maxprice & minprice\\\\\n",
       "\\hline\n",
       "\t Chicken Bowl        & 7342.73             & 761                 & 9.657727            & 11.25               & 8.19               \\\\\n",
       "\t Chicken Burrito     & 5575.82             & 591                 & 9.475949            & 11.25               & 8.19               \\\\\n",
       "\t Chips and Guacamole & 2201.04             & 506                 & 4.345616            &  4.45               & 3.89               \\\\\n",
       "\t Steak Burrito       & 3851.43             & 386                 & 9.993424            & 11.75               & 8.69               \\\\\n",
       "\t Canned Soft Drink   &  438.75             & 351                 & 1.250000            &  1.25               & 1.25               \\\\\n",
       "\t Chips               &  494.34             & 230                 & 2.149242            &  2.15               & 1.99               \\\\\n",
       "\\end{tabular}\n"
      ],
      "text/markdown": [
       "\n",
       "| item_name | revenue | itemsold | meanprice | maxprice | minprice |\n",
       "|---|---|---|---|---|---|\n",
       "| Chicken Bowl        | 7342.73             | 761                 | 9.657727            | 11.25               | 8.19                |\n",
       "| Chicken Burrito     | 5575.82             | 591                 | 9.475949            | 11.25               | 8.19                |\n",
       "| Chips and Guacamole | 2201.04             | 506                 | 4.345616            |  4.45               | 3.89                |\n",
       "| Steak Burrito       | 3851.43             | 386                 | 9.993424            | 11.75               | 8.69                |\n",
       "| Canned Soft Drink   |  438.75             | 351                 | 1.250000            |  1.25               | 1.25                |\n",
       "| Chips               |  494.34             | 230                 | 2.149242            |  2.15               | 1.99                |\n",
       "\n"
      ],
      "text/plain": [
       "  item_name           revenue itemsold meanprice maxprice minprice\n",
       "1 Chicken Bowl        7342.73 761      9.657727  11.25    8.19    \n",
       "2 Chicken Burrito     5575.82 591      9.475949  11.25    8.19    \n",
       "3 Chips and Guacamole 2201.04 506      4.345616   4.45    3.89    \n",
       "4 Steak Burrito       3851.43 386      9.993424  11.75    8.69    \n",
       "5 Canned Soft Drink    438.75 351      1.250000   1.25    1.25    \n",
       "6 Chips                494.34 230      2.149242   2.15    1.99    "
      ]
     },
     "metadata": {},
     "output_type": "display_data"
    }
   ],
   "source": []
  },
  {
   "cell_type": "markdown",
   "metadata": {},
   "source": [
    "## Q6: What is the total price for each order? Make a histogram of price per order."
   ]
  },
  {
   "cell_type": "code",
   "execution_count": 57,
   "metadata": {},
   "outputs": [
    {
     "data": {
      "text/html": [
       "<table>\n",
       "<thead><tr><th scope=col>order_id</th><th scope=col>totalprice</th></tr></thead>\n",
       "<tbody>\n",
       "\t<tr><td>1    </td><td>11.56</td></tr>\n",
       "\t<tr><td>2    </td><td>16.98</td></tr>\n",
       "\t<tr><td>3    </td><td>12.67</td></tr>\n",
       "\t<tr><td>4    </td><td>21.00</td></tr>\n",
       "\t<tr><td>5    </td><td>13.70</td></tr>\n",
       "\t<tr><td>6    </td><td>17.50</td></tr>\n",
       "</tbody>\n",
       "</table>\n"
      ],
      "text/latex": [
       "\\begin{tabular}{r|ll}\n",
       " order\\_id & totalprice\\\\\n",
       "\\hline\n",
       "\t 1     & 11.56\\\\\n",
       "\t 2     & 16.98\\\\\n",
       "\t 3     & 12.67\\\\\n",
       "\t 4     & 21.00\\\\\n",
       "\t 5     & 13.70\\\\\n",
       "\t 6     & 17.50\\\\\n",
       "\\end{tabular}\n"
      ],
      "text/markdown": [
       "\n",
       "| order_id | totalprice |\n",
       "|---|---|\n",
       "| 1     | 11.56 |\n",
       "| 2     | 16.98 |\n",
       "| 3     | 12.67 |\n",
       "| 4     | 21.00 |\n",
       "| 5     | 13.70 |\n",
       "| 6     | 17.50 |\n",
       "\n"
      ],
      "text/plain": [
       "  order_id totalprice\n",
       "1 1        11.56     \n",
       "2 2        16.98     \n",
       "3 3        12.67     \n",
       "4 4        21.00     \n",
       "5 5        13.70     \n",
       "6 6        17.50     "
      ]
     },
     "metadata": {},
     "output_type": "display_data"
    }
   ],
   "source": []
  },
  {
   "cell_type": "code",
   "execution_count": 59,
   "metadata": {},
   "outputs": [
    {
     "data": {
      "image/png": "[encoded data removed]",
      "text/plain": [
       "plot without title"
      ]
     },
     "metadata": {},
     "output_type": "display_data"
    }
   ],
   "source": []
  },
  {
   "cell_type": "markdown",
   "metadata": {},
   "source": [
    "## Q7: Note that the tail of the histogram is very long and distorts the image. Filter so that we only examine orders with price less than 50, then replot. "
   ]
  },
  {
   "cell_type": "code",
   "execution_count": 60,
   "metadata": {},
   "outputs": [
    {
     "data": {
      "image/png": "[encoded data removed]",
      "text/plain": [
       "plot without title"
      ]
     },
     "metadata": {},
     "output_type": "display_data"
    }
   ],
   "source": []
  },
  {
   "cell_type": "markdown",
   "metadata": {},
   "source": [
    "## Q8: What percent of orders included drinks? "
   ]
  },
  {
   "cell_type": "code",
   "execution_count": 65,
   "metadata": {},
   "outputs": [
    {
     "data": {
      "text/html": [
       "<table>\n",
       "<thead><tr><th scope=col>n()</th></tr></thead>\n",
       "<tbody>\n",
       "\t<tr><td>330</td></tr>\n",
       "</tbody>\n",
       "</table>\n"
      ],
      "text/latex": [
       "\\begin{tabular}{r|l}\n",
       " n()\\\\\n",
       "\\hline\n",
       "\t 330\\\\\n",
       "\\end{tabular}\n"
      ],
      "text/markdown": [
       "\n",
       "| n() |\n",
       "|---|\n",
       "| 330 |\n",
       "\n"
      ],
      "text/plain": [
       "  n()\n",
       "1 330"
      ]
     },
     "metadata": {},
     "output_type": "display_data"
    }
   ],
   "source": [
    "df  %>% \n",
    "    filter(str_detect(item_name, \"Drink\"))"
   ]
  },
  {
   "cell_type": "code",
   "execution_count": 66,
   "metadata": {},
   "outputs": [
    {
     "data": {
      "text/html": [
       "1834"
      ],
      "text/latex": [
       "1834"
      ],
      "text/markdown": [
       "1834"
      ],
      "text/plain": [
       "[1] 1834"
      ]
     },
     "metadata": {},
     "output_type": "display_data"
    }
   ],
   "source": []
  },
  {
   "cell_type": "code",
   "execution_count": 67,
   "metadata": {},
   "outputs": [
    {
     "data": {
      "text/html": [
       "0.179934569247546"
      ],
      "text/latex": [
       "0.179934569247546"
      ],
      "text/markdown": [
       "0.179934569247546"
      ],
      "text/plain": [
       "[1] 0.1799346"
      ]
     },
     "metadata": {},
     "output_type": "display_data"
    }
   ],
   "source": []
  },
  {
   "cell_type": "markdown",
   "metadata": {},
   "source": [
    "## Q9: Are burritos or bowls more popular? Suggestion: Try nesting ifelse and using str_detect. "
   ]
  },
  {
   "cell_type": "code",
   "execution_count": 71,
   "metadata": {},
   "outputs": [
    {
     "data": {
      "image/png": "[encoded data removed]",
      "text/plain": [
       "plot without title"
      ]
     },
     "metadata": {},
     "output_type": "display_data"
    }
   ],
   "source": []
  },
  {
   "cell_type": "code",
   "execution_count": null,
   "metadata": {},
   "outputs": [],
   "source": []
  }
 ],
 "metadata": {
  "kernelspec": {
   "display_name": "R",
   "language": "R",
   "name": "ir"
  },
  "language_info": {
   "codemirror_mode": "r",
   "file_extension": ".r",
   "mimetype": "text/x-r-source",
   "name": "R",
   "pygments_lexer": "r",
   "version": "3.6.1"
  }
 },
 "nbformat": 4,
 "nbformat_minor": 4
}
