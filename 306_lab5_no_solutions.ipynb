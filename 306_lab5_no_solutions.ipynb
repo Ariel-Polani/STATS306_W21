{
 "cells": [
  {
   "cell_type": "markdown",
   "metadata": {},
   "source": [
    "## Midterm Review"
   ]
  },
  {
   "cell_type": "markdown",
   "metadata": {},
   "source": [
    "- Takehome midterm from Monday March 8 - Thursday March 11\n",
    "- Based on lectures 1-9 and the corresponding readings / hws\n",
    "- https://ambujtewari.github.io/stats306-winter2021/"
   ]
  },
  {
   "cell_type": "markdown",
   "metadata": {},
   "source": [
    "# Covariation\n",
    "\n",
    "- Scary word, but basically just looking for patterns between two variables\n",
    "- Breaks down into cases:\n",
    "- Continuous vs. Continuous (Scatterplot)\n",
    "- Continuous vs. Discrete (Boxplots, violin plots, freq poly, etc)\n",
    "- Discrete vs. Discrete (Geom Count)"
   ]
  },
  {
   "cell_type": "markdown",
   "metadata": {},
   "source": [
    "# Exercise Setup"
   ]
  },
  {
   "cell_type": "code",
   "execution_count": 1,
   "metadata": {},
   "outputs": [
    {
     "name": "stdout",
     "output_type": "stream",
     "text": [
      "package 'dslabs' successfully unpacked and MD5 sums checked\n",
      "\n",
      "The downloaded binary packages are in\n",
      "\tC:\\Users\\polan\\AppData\\Local\\Temp\\RtmpKmx3pD\\downloaded_packages\n"
     ]
    }
   ],
   "source": [
    "install.packages(\"dslabs\")"
   ]
  },
  {
   "cell_type": "code",
   "execution_count": 2,
   "metadata": {},
   "outputs": [
    {
     "name": "stderr",
     "output_type": "stream",
     "text": [
      "Warning message:\n",
      "\"package 'dslabs' was built under R version 3.6.3\"Registered S3 methods overwritten by 'ggplot2':\n",
      "  method         from \n",
      "  [.quosures     rlang\n",
      "  c.quosures     rlang\n",
      "  print.quosures rlang\n",
      "Registered S3 method overwritten by 'rvest':\n",
      "  method            from\n",
      "  read_xml.response xml2\n",
      "-- Attaching packages --------------------------------------- tidyverse 1.2.1 --\n",
      "v ggplot2 3.1.1       v purrr   0.3.2  \n",
      "v tibble  2.1.1       v dplyr   0.8.0.1\n",
      "v tidyr   0.8.3       v stringr 1.4.0  \n",
      "v readr   1.3.1       v forcats 0.4.0  \n",
      "-- Conflicts ------------------------------------------ tidyverse_conflicts() --\n",
      "x dplyr::filter() masks stats::filter()\n",
      "x dplyr::lag()    masks stats::lag()\n"
     ]
    }
   ],
   "source": [
    "library(dslabs)\n",
    "library(tidyverse)"
   ]
  },
  {
   "cell_type": "markdown",
   "metadata": {},
   "source": [
    "# Looking at our data"
   ]
  },
  {
   "cell_type": "code",
   "execution_count": 3,
   "metadata": {},
   "outputs": [
    {
     "name": "stdout",
     "output_type": "stream",
     "text": [
      "Observations: 10,545\n",
      "Variables: 9\n",
      "$ country          <fct> Albania, Algeria, Angola, Antigua and Barbuda, Arg...\n",
      "$ year             <int> 1960, 1960, 1960, 1960, 1960, 1960, 1960, 1960, 19...\n",
      "$ infant_mortality <dbl> 115.40, 148.20, 208.00, NA, 59.87, NA, NA, 20.30, ...\n",
      "$ life_expectancy  <dbl> 62.87, 47.50, 35.98, 62.97, 65.39, 66.86, 65.66, 7...\n",
      "$ fertility        <dbl> 6.19, 7.65, 7.32, 4.43, 3.11, 4.55, 4.82, 3.45, 2....\n",
      "$ population       <dbl> 1636054, 11124892, 5270844, 54681, 20619075, 18673...\n",
      "$ gdp              <dbl> NA, 13828152297, NA, NA, 108322326649, NA, NA, 966...\n",
      "$ continent        <fct> Europe, Africa, Africa, Americas, Americas, Asia, ...\n",
      "$ region           <fct> Southern Europe, Northern Africa, Middle Africa, C...\n"
     ]
    },
    {
     "data": {
      "text/plain": [
       "                country           year      infant_mortality life_expectancy\n",
       " Albania            :   57   Min.   :1960   Min.   :  1.50   Min.   :13.20  \n",
       " Algeria            :   57   1st Qu.:1974   1st Qu.: 16.00   1st Qu.:57.50  \n",
       " Angola             :   57   Median :1988   Median : 41.50   Median :67.54  \n",
       " Antigua and Barbuda:   57   Mean   :1988   Mean   : 55.31   Mean   :64.81  \n",
       " Argentina          :   57   3rd Qu.:2002   3rd Qu.: 85.10   3rd Qu.:73.00  \n",
       " Armenia            :   57   Max.   :2016   Max.   :276.90   Max.   :83.90  \n",
       " (Other)            :10203                  NA's   :1453                    \n",
       "   fertility       population             gdp               continent   \n",
       " Min.   :0.840   Min.   :3.124e+04   Min.   :4.040e+07   Africa  :2907  \n",
       " 1st Qu.:2.200   1st Qu.:1.333e+06   1st Qu.:1.846e+09   Americas:2052  \n",
       " Median :3.750   Median :5.009e+06   Median :7.794e+09   Asia    :2679  \n",
       " Mean   :4.084   Mean   :2.701e+07   Mean   :1.480e+11   Europe  :2223  \n",
       " 3rd Qu.:6.000   3rd Qu.:1.523e+07   3rd Qu.:5.540e+10   Oceania : 684  \n",
       " Max.   :9.220   Max.   :1.376e+09   Max.   :1.174e+13                  \n",
       " NA's   :187     NA's   :185         NA's   :2972                       \n",
       "             region    \n",
       " Western Asia   :1026  \n",
       " Eastern Africa : 912  \n",
       " Western Africa : 912  \n",
       " Caribbean      : 741  \n",
       " South America  : 684  \n",
       " Southern Europe: 684  \n",
       " (Other)        :5586  "
      ]
     },
     "metadata": {},
     "output_type": "display_data"
    }
   ],
   "source": [
    "gapminder  %>% glimpse\n",
    "summary(gapminder)"
   ]
  },
  {
   "cell_type": "markdown",
   "metadata": {},
   "source": [
    "### 1) How many entries have NA for GDP? Filter and create a new dataset df that has no missing gdp data"
   ]
  },
  {
   "cell_type": "markdown",
   "metadata": {},
   "source": [
    "### 2) Note that GDP is in dollars. This is hard to work with, so convert to billion dollars instead"
   ]
  },
  {
   "cell_type": "markdown",
   "metadata": {},
   "source": [
    "### 3) Save the countries that have data in 2011 as df2011"
   ]
  },
  {
   "cell_type": "markdown",
   "metadata": {},
   "source": [
    "### 4) Which countries have data in both 1960 and 2011?"
   ]
  },
  {
   "cell_type": "markdown",
   "metadata": {},
   "source": [
    "### 5) Using df2011, create a gdp box plot for each region"
   ]
  },
  {
   "cell_type": "markdown",
   "metadata": {},
   "source": [
    "### 6) Using df2011, find the maximum and minimum gdp in each region"
   ]
  },
  {
   "cell_type": "markdown",
   "metadata": {},
   "source": [
    "### 7) Using df2011, find the world median and mean. Then for each region, calculate the percentage of companies whose mean and median GDP exceed the world median and mean. Arrange in descending order by median, then by mean. "
   ]
  },
  {
   "cell_type": "markdown",
   "metadata": {},
   "source": [
    "### 8) Using df2011, create a new column called gdp per capita. (GDP / Population). Decide on a plot that appropriately shows the relationship between GDP and GDP Per Capita. Consider using log scales. Then create a subplot for each continent. "
   ]
  },
  {
   "cell_type": "code",
   "execution_count": null,
   "metadata": {},
   "outputs": [],
   "source": []
  }
 ],
 "metadata": {
  "kernelspec": {
   "display_name": "R",
   "language": "R",
   "name": "ir"
  },
  "language_info": {
   "codemirror_mode": "r",
   "file_extension": ".r",
   "mimetype": "text/x-r-source",
   "name": "R",
   "pygments_lexer": "r",
   "version": "3.6.1"
  }
 },
 "nbformat": 4,
 "nbformat_minor": 4
}
