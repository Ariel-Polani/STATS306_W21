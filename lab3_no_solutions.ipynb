{
 "cells": [
  {
   "cell_type": "markdown",
   "metadata": {},
   "source": [
    "# Documentation, Pipes, Mutate, and Summarize"
   ]
  },
  {
   "cell_type": "markdown",
   "metadata": {},
   "source": [
    "- Last class there was a question about what the different types of position arguments were\n",
    "- We talked about position dodge and position jitter\n",
    "- Another plug for: https://ggplot2.tidyverse.org/reference/"
   ]
  },
  {
   "cell_type": "markdown",
   "metadata": {},
   "source": [
    "## Pipes"
   ]
  },
  {
   "cell_type": "markdown",
   "metadata": {},
   "source": [
    "- Chapter 18 in your book is a very good reference for these, I highly recommend checking it out\n",
    "- https://r4ds.had.co.nz/pipes.html\n",
    "- The output of the function on the left goes through the pipe and into the function on the right"
   ]
  },
  {
   "cell_type": "markdown",
   "metadata": {},
   "source": [
    "## Mutate\n",
    "\n",
    "- https://www.rdocumentation.org/packages/dplyr/versions/0.5.0/topics/mutate\n",
    "- Mutate adds new variables to your dataset, and preserves existing ones\n",
    "- Transmute adds new variables to your dataset, but does not preserve existing ones"
   ]
  },
  {
   "cell_type": "code",
   "execution_count": 2,
   "metadata": {},
   "outputs": [
    {
     "name": "stderr",
     "output_type": "stream",
     "text": [
      "Registered S3 methods overwritten by 'ggplot2':\n",
      "  method         from \n",
      "  [.quosures     rlang\n",
      "  c.quosures     rlang\n",
      "  print.quosures rlang\n",
      "Registered S3 method overwritten by 'rvest':\n",
      "  method            from\n",
      "  read_xml.response xml2\n",
      "-- Attaching packages --------------------------------------- tidyverse 1.2.1 --\n",
      "v ggplot2 3.1.1       v purrr   0.3.2  \n",
      "v tibble  2.1.1       v dplyr   0.8.0.1\n",
      "v tidyr   0.8.3       v stringr 1.4.0  \n",
      "v readr   1.3.1       v forcats 0.4.0  \n",
      "-- Conflicts ------------------------------------------ tidyverse_conflicts() --\n",
      "x dplyr::filter() masks stats::filter()\n",
      "x dplyr::lag()    masks stats::lag()\n"
     ]
    }
   ],
   "source": [
    "library(tidyverse)"
   ]
  },
  {
   "cell_type": "code",
   "execution_count": 6,
   "metadata": {},
   "outputs": [
    {
     "data": {
      "text/html": [
       "<table>\n",
       "<thead><tr><th scope=col>manufacturer</th><th scope=col>model</th><th scope=col>displ</th><th scope=col>year</th><th scope=col>cyl</th><th scope=col>trans</th><th scope=col>drv</th><th scope=col>cty</th><th scope=col>hwy</th><th scope=col>fl</th><th scope=col>class</th><th scope=col>avg_gas</th></tr></thead>\n",
       "<tbody>\n",
       "\t<tr><td>audi      </td><td>a4        </td><td>1.8       </td><td>1999      </td><td>4         </td><td>auto(l5)  </td><td>f         </td><td>18        </td><td>29        </td><td>p         </td><td>compact   </td><td>23.5      </td></tr>\n",
       "\t<tr><td>audi      </td><td>a4        </td><td>1.8       </td><td>1999      </td><td>4         </td><td>manual(m5)</td><td>f         </td><td>21        </td><td>29        </td><td>p         </td><td>compact   </td><td>25.0      </td></tr>\n",
       "\t<tr><td>audi      </td><td>a4        </td><td>2.0       </td><td>2008      </td><td>4         </td><td>manual(m6)</td><td>f         </td><td>20        </td><td>31        </td><td>p         </td><td>compact   </td><td>25.5      </td></tr>\n",
       "\t<tr><td>audi      </td><td>a4        </td><td>2.0       </td><td>2008      </td><td>4         </td><td>auto(av)  </td><td>f         </td><td>21        </td><td>30        </td><td>p         </td><td>compact   </td><td>25.5      </td></tr>\n",
       "\t<tr><td>audi      </td><td>a4        </td><td>2.8       </td><td>1999      </td><td>6         </td><td>auto(l5)  </td><td>f         </td><td>16        </td><td>26        </td><td>p         </td><td>compact   </td><td>21.0      </td></tr>\n",
       "\t<tr><td>audi      </td><td>a4        </td><td>2.8       </td><td>1999      </td><td>6         </td><td>manual(m5)</td><td>f         </td><td>18        </td><td>26        </td><td>p         </td><td>compact   </td><td>22.0      </td></tr>\n",
       "</tbody>\n",
       "</table>\n"
      ],
      "text/latex": [
       "\\begin{tabular}{r|llllllllllll}\n",
       " manufacturer & model & displ & year & cyl & trans & drv & cty & hwy & fl & class & avg\\_gas\\\\\n",
       "\\hline\n",
       "\t audi       & a4         & 1.8        & 1999       & 4          & auto(l5)   & f          & 18         & 29         & p          & compact    & 23.5      \\\\\n",
       "\t audi       & a4         & 1.8        & 1999       & 4          & manual(m5) & f          & 21         & 29         & p          & compact    & 25.0      \\\\\n",
       "\t audi       & a4         & 2.0        & 2008       & 4          & manual(m6) & f          & 20         & 31         & p          & compact    & 25.5      \\\\\n",
       "\t audi       & a4         & 2.0        & 2008       & 4          & auto(av)   & f          & 21         & 30         & p          & compact    & 25.5      \\\\\n",
       "\t audi       & a4         & 2.8        & 1999       & 6          & auto(l5)   & f          & 16         & 26         & p          & compact    & 21.0      \\\\\n",
       "\t audi       & a4         & 2.8        & 1999       & 6          & manual(m5) & f          & 18         & 26         & p          & compact    & 22.0      \\\\\n",
       "\\end{tabular}\n"
      ],
      "text/markdown": [
       "\n",
       "| manufacturer | model | displ | year | cyl | trans | drv | cty | hwy | fl | class | avg_gas |\n",
       "|---|---|---|---|---|---|---|---|---|---|---|---|\n",
       "| audi       | a4         | 1.8        | 1999       | 4          | auto(l5)   | f          | 18         | 29         | p          | compact    | 23.5       |\n",
       "| audi       | a4         | 1.8        | 1999       | 4          | manual(m5) | f          | 21         | 29         | p          | compact    | 25.0       |\n",
       "| audi       | a4         | 2.0        | 2008       | 4          | manual(m6) | f          | 20         | 31         | p          | compact    | 25.5       |\n",
       "| audi       | a4         | 2.0        | 2008       | 4          | auto(av)   | f          | 21         | 30         | p          | compact    | 25.5       |\n",
       "| audi       | a4         | 2.8        | 1999       | 6          | auto(l5)   | f          | 16         | 26         | p          | compact    | 21.0       |\n",
       "| audi       | a4         | 2.8        | 1999       | 6          | manual(m5) | f          | 18         | 26         | p          | compact    | 22.0       |\n",
       "\n"
      ],
      "text/plain": [
       "  manufacturer model displ year cyl trans      drv cty hwy fl class   avg_gas\n",
       "1 audi         a4    1.8   1999 4   auto(l5)   f   18  29  p  compact 23.5   \n",
       "2 audi         a4    1.8   1999 4   manual(m5) f   21  29  p  compact 25.0   \n",
       "3 audi         a4    2.0   2008 4   manual(m6) f   20  31  p  compact 25.5   \n",
       "4 audi         a4    2.0   2008 4   auto(av)   f   21  30  p  compact 25.5   \n",
       "5 audi         a4    2.8   1999 6   auto(l5)   f   16  26  p  compact 21.0   \n",
       "6 audi         a4    2.8   1999 6   manual(m5) f   18  26  p  compact 22.0   "
      ]
     },
     "metadata": {},
     "output_type": "display_data"
    }
   ],
   "source": [
    "# Answers the question: What is the average mpg of the vehicle across both city and highway driving?\n",
    "\n",
    "mpg %>% \n",
    "    mutate(avg_gas = (cty + hwy) / 2) %>% \n",
    "    head()"
   ]
  },
  {
   "cell_type": "code",
   "execution_count": 7,
   "metadata": {},
   "outputs": [
    {
     "data": {
      "text/html": [
       "<table>\n",
       "<thead><tr><th scope=col>avg_gas</th></tr></thead>\n",
       "<tbody>\n",
       "\t<tr><td>23.5</td></tr>\n",
       "\t<tr><td>25.0</td></tr>\n",
       "\t<tr><td>25.5</td></tr>\n",
       "\t<tr><td>25.5</td></tr>\n",
       "\t<tr><td>21.0</td></tr>\n",
       "\t<tr><td>22.0</td></tr>\n",
       "</tbody>\n",
       "</table>\n"
      ],
      "text/latex": [
       "\\begin{tabular}{r|l}\n",
       " avg\\_gas\\\\\n",
       "\\hline\n",
       "\t 23.5\\\\\n",
       "\t 25.0\\\\\n",
       "\t 25.5\\\\\n",
       "\t 25.5\\\\\n",
       "\t 21.0\\\\\n",
       "\t 22.0\\\\\n",
       "\\end{tabular}\n"
      ],
      "text/markdown": [
       "\n",
       "| avg_gas |\n",
       "|---|\n",
       "| 23.5 |\n",
       "| 25.0 |\n",
       "| 25.5 |\n",
       "| 25.5 |\n",
       "| 21.0 |\n",
       "| 22.0 |\n",
       "\n"
      ],
      "text/plain": [
       "  avg_gas\n",
       "1 23.5   \n",
       "2 25.0   \n",
       "3 25.5   \n",
       "4 25.5   \n",
       "5 21.0   \n",
       "6 22.0   "
      ]
     },
     "metadata": {},
     "output_type": "display_data"
    }
   ],
   "source": [
    "mpg %>% \n",
    "    transmute(avg_gas = (cty + hwy) / 2) %>% \n",
    "    head()"
   ]
  },
  {
   "cell_type": "code",
   "execution_count": 8,
   "metadata": {
    "scrolled": true
   },
   "outputs": [
    {
     "data": {
      "text/html": [
       "<table>\n",
       "<thead><tr><th scope=col>avg_gas</th></tr></thead>\n",
       "<tbody>\n",
       "\t<tr><td>23.5</td></tr>\n",
       "\t<tr><td>25.0</td></tr>\n",
       "\t<tr><td>25.5</td></tr>\n",
       "\t<tr><td>25.5</td></tr>\n",
       "\t<tr><td>21.0</td></tr>\n",
       "\t<tr><td>22.0</td></tr>\n",
       "</tbody>\n",
       "</table>\n"
      ],
      "text/latex": [
       "\\begin{tabular}{r|l}\n",
       " avg\\_gas\\\\\n",
       "\\hline\n",
       "\t 23.5\\\\\n",
       "\t 25.0\\\\\n",
       "\t 25.5\\\\\n",
       "\t 25.5\\\\\n",
       "\t 21.0\\\\\n",
       "\t 22.0\\\\\n",
       "\\end{tabular}\n"
      ],
      "text/markdown": [
       "\n",
       "| avg_gas |\n",
       "|---|\n",
       "| 23.5 |\n",
       "| 25.0 |\n",
       "| 25.5 |\n",
       "| 25.5 |\n",
       "| 21.0 |\n",
       "| 22.0 |\n",
       "\n"
      ],
      "text/plain": [
       "  avg_gas\n",
       "1 23.5   \n",
       "2 25.0   \n",
       "3 25.5   \n",
       "4 25.5   \n",
       "5 21.0   \n",
       "6 22.0   "
      ]
     },
     "metadata": {},
     "output_type": "display_data"
    }
   ],
   "source": [
    "mpg %>% \n",
    "    mutate(avg_gas = (cty + hwy) / 2) %>%\n",
    "    select(avg_gas) %>% \n",
    "    head()"
   ]
  },
  {
   "cell_type": "code",
   "execution_count": 27,
   "metadata": {},
   "outputs": [
    {
     "data": {
      "text/html": [
       "<table>\n",
       "<thead><tr><th scope=col>carat</th><th scope=col>cut</th><th scope=col>color</th><th scope=col>clarity</th><th scope=col>depth</th><th scope=col>table</th><th scope=col>price</th><th scope=col>x</th><th scope=col>y</th><th scope=col>z</th><th scope=col>vol</th></tr></thead>\n",
       "<tbody>\n",
       "\t<tr><td>0.23     </td><td>Ideal    </td><td>E        </td><td>SI2      </td><td>61.5     </td><td>55       </td><td>326      </td><td>3.95     </td><td>3.98     </td><td>2.43     </td><td>38.20203 </td></tr>\n",
       "\t<tr><td>0.21     </td><td>Premium  </td><td>E        </td><td>SI1      </td><td>59.8     </td><td>61       </td><td>326      </td><td>3.89     </td><td>3.84     </td><td>2.31     </td><td>34.50586 </td></tr>\n",
       "\t<tr><td>0.23     </td><td>Good     </td><td>E        </td><td>VS1      </td><td>56.9     </td><td>65       </td><td>327      </td><td>4.05     </td><td>4.07     </td><td>2.31     </td><td>38.07688 </td></tr>\n",
       "\t<tr><td>0.29     </td><td>Premium  </td><td>I        </td><td>VS2      </td><td>62.4     </td><td>58       </td><td>334      </td><td>4.20     </td><td>4.23     </td><td>2.63     </td><td>46.72458 </td></tr>\n",
       "\t<tr><td>0.31     </td><td>Good     </td><td>J        </td><td>SI2      </td><td>63.3     </td><td>58       </td><td>335      </td><td>4.34     </td><td>4.35     </td><td>2.75     </td><td>51.91725 </td></tr>\n",
       "\t<tr><td>0.24     </td><td>Very Good</td><td>J        </td><td>VVS2     </td><td>62.8     </td><td>57       </td><td>336      </td><td>3.94     </td><td>3.96     </td><td>2.48     </td><td>38.69395 </td></tr>\n",
       "</tbody>\n",
       "</table>\n"
      ],
      "text/latex": [
       "\\begin{tabular}{r|lllllllllll}\n",
       " carat & cut & color & clarity & depth & table & price & x & y & z & vol\\\\\n",
       "\\hline\n",
       "\t 0.23      & Ideal     & E         & SI2       & 61.5      & 55        & 326       & 3.95      & 3.98      & 2.43      & 38.20203 \\\\\n",
       "\t 0.21      & Premium   & E         & SI1       & 59.8      & 61        & 326       & 3.89      & 3.84      & 2.31      & 34.50586 \\\\\n",
       "\t 0.23      & Good      & E         & VS1       & 56.9      & 65        & 327       & 4.05      & 4.07      & 2.31      & 38.07688 \\\\\n",
       "\t 0.29      & Premium   & I         & VS2       & 62.4      & 58        & 334       & 4.20      & 4.23      & 2.63      & 46.72458 \\\\\n",
       "\t 0.31      & Good      & J         & SI2       & 63.3      & 58        & 335       & 4.34      & 4.35      & 2.75      & 51.91725 \\\\\n",
       "\t 0.24      & Very Good & J         & VVS2      & 62.8      & 57        & 336       & 3.94      & 3.96      & 2.48      & 38.69395 \\\\\n",
       "\\end{tabular}\n"
      ],
      "text/markdown": [
       "\n",
       "| carat | cut | color | clarity | depth | table | price | x | y | z | vol |\n",
       "|---|---|---|---|---|---|---|---|---|---|---|\n",
       "| 0.23      | Ideal     | E         | SI2       | 61.5      | 55        | 326       | 3.95      | 3.98      | 2.43      | 38.20203  |\n",
       "| 0.21      | Premium   | E         | SI1       | 59.8      | 61        | 326       | 3.89      | 3.84      | 2.31      | 34.50586  |\n",
       "| 0.23      | Good      | E         | VS1       | 56.9      | 65        | 327       | 4.05      | 4.07      | 2.31      | 38.07688  |\n",
       "| 0.29      | Premium   | I         | VS2       | 62.4      | 58        | 334       | 4.20      | 4.23      | 2.63      | 46.72458  |\n",
       "| 0.31      | Good      | J         | SI2       | 63.3      | 58        | 335       | 4.34      | 4.35      | 2.75      | 51.91725  |\n",
       "| 0.24      | Very Good | J         | VVS2      | 62.8      | 57        | 336       | 3.94      | 3.96      | 2.48      | 38.69395  |\n",
       "\n"
      ],
      "text/plain": [
       "  carat cut       color clarity depth table price x    y    z    vol     \n",
       "1 0.23  Ideal     E     SI2     61.5  55    326   3.95 3.98 2.43 38.20203\n",
       "2 0.21  Premium   E     SI1     59.8  61    326   3.89 3.84 2.31 34.50586\n",
       "3 0.23  Good      E     VS1     56.9  65    327   4.05 4.07 2.31 38.07688\n",
       "4 0.29  Premium   I     VS2     62.4  58    334   4.20 4.23 2.63 46.72458\n",
       "5 0.31  Good      J     SI2     63.3  58    335   4.34 4.35 2.75 51.91725\n",
       "6 0.24  Very Good J     VVS2    62.8  57    336   3.94 3.96 2.48 38.69395"
      ]
     },
     "metadata": {},
     "output_type": "display_data"
    }
   ],
   "source": [
    "# Answers the question: What is the volume of each diamond?\n",
    "\n",
    "diamonds %>% \n",
    "    mutate(vol = x*y*z) %>% \n",
    "    head()"
   ]
  },
  {
   "cell_type": "code",
   "execution_count": 15,
   "metadata": {},
   "outputs": [
    {
     "data": {
      "text/html": [
       "'No, it was not True'"
      ],
      "text/latex": [
       "'No, it was not True'"
      ],
      "text/markdown": [
       "'No, it was not True'"
      ],
      "text/plain": [
       "[1] \"No, it was not True\""
      ]
     },
     "metadata": {},
     "output_type": "display_data"
    }
   ],
   "source": [
    "ifelse(FALSE, \"The condition was true\", \"No, it was not True\")"
   ]
  },
  {
   "cell_type": "code",
   "execution_count": 28,
   "metadata": {},
   "outputs": [
    {
     "data": {
      "text/html": [
       "<table>\n",
       "<thead><tr><th scope=col>manufacturer</th><th scope=col>model</th><th scope=col>displ</th><th scope=col>year</th><th scope=col>cyl</th><th scope=col>trans</th><th scope=col>drv</th><th scope=col>cty</th><th scope=col>hwy</th><th scope=col>fl</th><th scope=col>class</th></tr></thead>\n",
       "<tbody>\n",
       "\t<tr><td>audi      </td><td>a4        </td><td>1.8       </td><td>1999      </td><td>4         </td><td>auto(l5)  </td><td>f         </td><td>18        </td><td>30        </td><td>p         </td><td>compact   </td></tr>\n",
       "\t<tr><td>audi      </td><td>a4        </td><td>1.8       </td><td>1999      </td><td>4         </td><td>manual(m5)</td><td>f         </td><td>21        </td><td>30        </td><td>p         </td><td>compact   </td></tr>\n",
       "\t<tr><td>audi      </td><td>a4        </td><td>2.0       </td><td>2008      </td><td>4         </td><td>manual(m6)</td><td>f         </td><td>20        </td><td>31        </td><td>p         </td><td>compact   </td></tr>\n",
       "\t<tr><td>audi      </td><td>a4        </td><td>2.0       </td><td>2008      </td><td>4         </td><td>auto(av)  </td><td>f         </td><td>21        </td><td>30        </td><td>p         </td><td>compact   </td></tr>\n",
       "\t<tr><td>audi      </td><td>a4        </td><td>2.8       </td><td>1999      </td><td>6         </td><td>auto(l5)  </td><td>f         </td><td>16        </td><td>27        </td><td>p         </td><td>compact   </td></tr>\n",
       "\t<tr><td>audi      </td><td>a4        </td><td>2.8       </td><td>1999      </td><td>6         </td><td>manual(m5)</td><td>f         </td><td>18        </td><td>27        </td><td>p         </td><td>compact   </td></tr>\n",
       "</tbody>\n",
       "</table>\n"
      ],
      "text/latex": [
       "\\begin{tabular}{r|lllllllllll}\n",
       " manufacturer & model & displ & year & cyl & trans & drv & cty & hwy & fl & class\\\\\n",
       "\\hline\n",
       "\t audi       & a4         & 1.8        & 1999       & 4          & auto(l5)   & f          & 18         & 30         & p          & compact   \\\\\n",
       "\t audi       & a4         & 1.8        & 1999       & 4          & manual(m5) & f          & 21         & 30         & p          & compact   \\\\\n",
       "\t audi       & a4         & 2.0        & 2008       & 4          & manual(m6) & f          & 20         & 31         & p          & compact   \\\\\n",
       "\t audi       & a4         & 2.0        & 2008       & 4          & auto(av)   & f          & 21         & 30         & p          & compact   \\\\\n",
       "\t audi       & a4         & 2.8        & 1999       & 6          & auto(l5)   & f          & 16         & 27         & p          & compact   \\\\\n",
       "\t audi       & a4         & 2.8        & 1999       & 6          & manual(m5) & f          & 18         & 27         & p          & compact   \\\\\n",
       "\\end{tabular}\n"
      ],
      "text/markdown": [
       "\n",
       "| manufacturer | model | displ | year | cyl | trans | drv | cty | hwy | fl | class |\n",
       "|---|---|---|---|---|---|---|---|---|---|---|\n",
       "| audi       | a4         | 1.8        | 1999       | 4          | auto(l5)   | f          | 18         | 30         | p          | compact    |\n",
       "| audi       | a4         | 1.8        | 1999       | 4          | manual(m5) | f          | 21         | 30         | p          | compact    |\n",
       "| audi       | a4         | 2.0        | 2008       | 4          | manual(m6) | f          | 20         | 31         | p          | compact    |\n",
       "| audi       | a4         | 2.0        | 2008       | 4          | auto(av)   | f          | 21         | 30         | p          | compact    |\n",
       "| audi       | a4         | 2.8        | 1999       | 6          | auto(l5)   | f          | 16         | 27         | p          | compact    |\n",
       "| audi       | a4         | 2.8        | 1999       | 6          | manual(m5) | f          | 18         | 27         | p          | compact    |\n",
       "\n"
      ],
      "text/plain": [
       "  manufacturer model displ year cyl trans      drv cty hwy fl class  \n",
       "1 audi         a4    1.8   1999 4   auto(l5)   f   18  30  p  compact\n",
       "2 audi         a4    1.8   1999 4   manual(m5) f   21  30  p  compact\n",
       "3 audi         a4    2.0   2008 4   manual(m6) f   20  31  p  compact\n",
       "4 audi         a4    2.0   2008 4   auto(av)   f   21  30  p  compact\n",
       "5 audi         a4    2.8   1999 6   auto(l5)   f   16  27  p  compact\n",
       "6 audi         a4    2.8   1999 6   manual(m5) f   18  27  p  compact"
      ]
     },
     "metadata": {},
     "output_type": "display_data"
    }
   ],
   "source": [
    "# Fixes the data to adjust for a change in reporting standards\n",
    "\n",
    "mpg %>% \n",
    "    mutate(hwy = ifelse(year < 2000, hwy + 1, hwy)) %>% \n",
    "    head()"
   ]
  },
  {
   "cell_type": "markdown",
   "metadata": {},
   "source": [
    "## Summarize and Group_by\n",
    "- Used to calculate summary statistics\n",
    "- Very often paired with group_by\n",
    "- Summarize calculates a single value per group, mutate calculates a single value per row"
   ]
  },
  {
   "cell_type": "code",
   "execution_count": 18,
   "metadata": {},
   "outputs": [],
   "source": [
    "?group_by\n",
    "?summarize"
   ]
  },
  {
   "cell_type": "code",
   "execution_count": 29,
   "metadata": {},
   "outputs": [
    {
     "data": {
      "text/html": [
       "<table>\n",
       "<thead><tr><th scope=col>carat</th><th scope=col>cut</th><th scope=col>color</th><th scope=col>clarity</th><th scope=col>depth</th><th scope=col>table</th><th scope=col>price</th><th scope=col>x</th><th scope=col>y</th><th scope=col>z</th></tr></thead>\n",
       "<tbody>\n",
       "\t<tr><td>0.72     </td><td>Premium  </td><td>D        </td><td>SI1      </td><td>62.7     </td><td>59       </td><td>2757     </td><td>5.69     </td><td>5.73     </td><td>3.58     </td></tr>\n",
       "\t<tr><td>0.72     </td><td>Ideal    </td><td>D        </td><td>SI1      </td><td>60.8     </td><td>57       </td><td>2757     </td><td>5.75     </td><td>5.76     </td><td>3.50     </td></tr>\n",
       "\t<tr><td>0.72     </td><td>Good     </td><td>D        </td><td>SI1      </td><td>63.1     </td><td>55       </td><td>2757     </td><td>5.69     </td><td>5.75     </td><td>3.61     </td></tr>\n",
       "\t<tr><td>0.70     </td><td>Very Good</td><td>D        </td><td>SI1      </td><td>62.8     </td><td>60       </td><td>2757     </td><td>5.66     </td><td>5.68     </td><td>3.56     </td></tr>\n",
       "\t<tr><td>0.86     </td><td>Premium  </td><td>H        </td><td>SI2      </td><td>61.0     </td><td>58       </td><td>2757     </td><td>6.15     </td><td>6.12     </td><td>3.74     </td></tr>\n",
       "\t<tr><td>0.75     </td><td>Ideal    </td><td>D        </td><td>SI2      </td><td>62.2     </td><td>55       </td><td>2757     </td><td>5.83     </td><td>5.87     </td><td>3.64     </td></tr>\n",
       "</tbody>\n",
       "</table>\n"
      ],
      "text/latex": [
       "\\begin{tabular}{r|llllllllll}\n",
       " carat & cut & color & clarity & depth & table & price & x & y & z\\\\\n",
       "\\hline\n",
       "\t 0.72      & Premium   & D         & SI1       & 62.7      & 59        & 2757      & 5.69      & 5.73      & 3.58     \\\\\n",
       "\t 0.72      & Ideal     & D         & SI1       & 60.8      & 57        & 2757      & 5.75      & 5.76      & 3.50     \\\\\n",
       "\t 0.72      & Good      & D         & SI1       & 63.1      & 55        & 2757      & 5.69      & 5.75      & 3.61     \\\\\n",
       "\t 0.70      & Very Good & D         & SI1       & 62.8      & 60        & 2757      & 5.66      & 5.68      & 3.56     \\\\\n",
       "\t 0.86      & Premium   & H         & SI2       & 61.0      & 58        & 2757      & 6.15      & 6.12      & 3.74     \\\\\n",
       "\t 0.75      & Ideal     & D         & SI2       & 62.2      & 55        & 2757      & 5.83      & 5.87      & 3.64     \\\\\n",
       "\\end{tabular}\n"
      ],
      "text/markdown": [
       "\n",
       "| carat | cut | color | clarity | depth | table | price | x | y | z |\n",
       "|---|---|---|---|---|---|---|---|---|---|\n",
       "| 0.72      | Premium   | D         | SI1       | 62.7      | 59        | 2757      | 5.69      | 5.73      | 3.58      |\n",
       "| 0.72      | Ideal     | D         | SI1       | 60.8      | 57        | 2757      | 5.75      | 5.76      | 3.50      |\n",
       "| 0.72      | Good      | D         | SI1       | 63.1      | 55        | 2757      | 5.69      | 5.75      | 3.61      |\n",
       "| 0.70      | Very Good | D         | SI1       | 62.8      | 60        | 2757      | 5.66      | 5.68      | 3.56      |\n",
       "| 0.86      | Premium   | H         | SI2       | 61.0      | 58        | 2757      | 6.15      | 6.12      | 3.74      |\n",
       "| 0.75      | Ideal     | D         | SI2       | 62.2      | 55        | 2757      | 5.83      | 5.87      | 3.64      |\n",
       "\n"
      ],
      "text/plain": [
       "  carat cut       color clarity depth table price x    y    z   \n",
       "1 0.72  Premium   D     SI1     62.7  59    2757  5.69 5.73 3.58\n",
       "2 0.72  Ideal     D     SI1     60.8  57    2757  5.75 5.76 3.50\n",
       "3 0.72  Good      D     SI1     63.1  55    2757  5.69 5.75 3.61\n",
       "4 0.70  Very Good D     SI1     62.8  60    2757  5.66 5.68 3.56\n",
       "5 0.86  Premium   H     SI2     61.0  58    2757  6.15 6.12 3.74\n",
       "6 0.75  Ideal     D     SI2     62.2  55    2757  5.83 5.87 3.64"
      ]
     },
     "metadata": {},
     "output_type": "display_data"
    }
   ],
   "source": [
    "diamonds  %>%  tail()"
   ]
  },
  {
   "cell_type": "code",
   "execution_count": 30,
   "metadata": {},
   "outputs": [
    {
     "data": {
      "text/html": [
       "<table>\n",
       "<thead><tr><th scope=col>carat</th><th scope=col>cut</th><th scope=col>color</th><th scope=col>clarity</th><th scope=col>depth</th><th scope=col>table</th><th scope=col>price</th><th scope=col>x</th><th scope=col>y</th><th scope=col>z</th></tr></thead>\n",
       "<tbody>\n",
       "\t<tr><td>0.72     </td><td>Premium  </td><td>D        </td><td>SI1      </td><td>62.7     </td><td>59       </td><td>2757     </td><td>5.69     </td><td>5.73     </td><td>3.58     </td></tr>\n",
       "\t<tr><td>0.72     </td><td>Ideal    </td><td>D        </td><td>SI1      </td><td>60.8     </td><td>57       </td><td>2757     </td><td>5.75     </td><td>5.76     </td><td>3.50     </td></tr>\n",
       "\t<tr><td>0.72     </td><td>Good     </td><td>D        </td><td>SI1      </td><td>63.1     </td><td>55       </td><td>2757     </td><td>5.69     </td><td>5.75     </td><td>3.61     </td></tr>\n",
       "\t<tr><td>0.70     </td><td>Very Good</td><td>D        </td><td>SI1      </td><td>62.8     </td><td>60       </td><td>2757     </td><td>5.66     </td><td>5.68     </td><td>3.56     </td></tr>\n",
       "\t<tr><td>0.86     </td><td>Premium  </td><td>H        </td><td>SI2      </td><td>61.0     </td><td>58       </td><td>2757     </td><td>6.15     </td><td>6.12     </td><td>3.74     </td></tr>\n",
       "\t<tr><td>0.75     </td><td>Ideal    </td><td>D        </td><td>SI2      </td><td>62.2     </td><td>55       </td><td>2757     </td><td>5.83     </td><td>5.87     </td><td>3.64     </td></tr>\n",
       "</tbody>\n",
       "</table>\n"
      ],
      "text/latex": [
       "\\begin{tabular}{r|llllllllll}\n",
       " carat & cut & color & clarity & depth & table & price & x & y & z\\\\\n",
       "\\hline\n",
       "\t 0.72      & Premium   & D         & SI1       & 62.7      & 59        & 2757      & 5.69      & 5.73      & 3.58     \\\\\n",
       "\t 0.72      & Ideal     & D         & SI1       & 60.8      & 57        & 2757      & 5.75      & 5.76      & 3.50     \\\\\n",
       "\t 0.72      & Good      & D         & SI1       & 63.1      & 55        & 2757      & 5.69      & 5.75      & 3.61     \\\\\n",
       "\t 0.70      & Very Good & D         & SI1       & 62.8      & 60        & 2757      & 5.66      & 5.68      & 3.56     \\\\\n",
       "\t 0.86      & Premium   & H         & SI2       & 61.0      & 58        & 2757      & 6.15      & 6.12      & 3.74     \\\\\n",
       "\t 0.75      & Ideal     & D         & SI2       & 62.2      & 55        & 2757      & 5.83      & 5.87      & 3.64     \\\\\n",
       "\\end{tabular}\n"
      ],
      "text/markdown": [
       "\n",
       "| carat | cut | color | clarity | depth | table | price | x | y | z |\n",
       "|---|---|---|---|---|---|---|---|---|---|\n",
       "| 0.72      | Premium   | D         | SI1       | 62.7      | 59        | 2757      | 5.69      | 5.73      | 3.58      |\n",
       "| 0.72      | Ideal     | D         | SI1       | 60.8      | 57        | 2757      | 5.75      | 5.76      | 3.50      |\n",
       "| 0.72      | Good      | D         | SI1       | 63.1      | 55        | 2757      | 5.69      | 5.75      | 3.61      |\n",
       "| 0.70      | Very Good | D         | SI1       | 62.8      | 60        | 2757      | 5.66      | 5.68      | 3.56      |\n",
       "| 0.86      | Premium   | H         | SI2       | 61.0      | 58        | 2757      | 6.15      | 6.12      | 3.74      |\n",
       "| 0.75      | Ideal     | D         | SI2       | 62.2      | 55        | 2757      | 5.83      | 5.87      | 3.64      |\n",
       "\n"
      ],
      "text/plain": [
       "  carat cut       color clarity depth table price x    y    z   \n",
       "1 0.72  Premium   D     SI1     62.7  59    2757  5.69 5.73 3.58\n",
       "2 0.72  Ideal     D     SI1     60.8  57    2757  5.75 5.76 3.50\n",
       "3 0.72  Good      D     SI1     63.1  55    2757  5.69 5.75 3.61\n",
       "4 0.70  Very Good D     SI1     62.8  60    2757  5.66 5.68 3.56\n",
       "5 0.86  Premium   H     SI2     61.0  58    2757  6.15 6.12 3.74\n",
       "6 0.75  Ideal     D     SI2     62.2  55    2757  5.83 5.87 3.64"
      ]
     },
     "metadata": {},
     "output_type": "display_data"
    }
   ],
   "source": [
    "diamonds  %>% \n",
    "    group_by(color) %>% \n",
    "    tail()"
   ]
  },
  {
   "cell_type": "code",
   "execution_count": 26,
   "metadata": {},
   "outputs": [
    {
     "data": {
      "text/html": [
       "'color'"
      ],
      "text/latex": [
       "'color'"
      ],
      "text/markdown": [
       "'color'"
      ],
      "text/plain": [
       "[1] \"color\""
      ]
     },
     "metadata": {},
     "output_type": "display_data"
    }
   ],
   "source": [
    "diamonds  %>% \n",
    "    group_by(color) %>%\n",
    "    group_vars()"
   ]
  },
  {
   "cell_type": "code",
   "execution_count": 69,
   "metadata": {},
   "outputs": [
    {
     "data": {
      "text/html": [
       "<table>\n",
       "<thead><tr><th scope=col>color</th><th scope=col>avg_price</th><th scope=col>median_price</th></tr></thead>\n",
       "<tbody>\n",
       "\t<tr><td>D       </td><td>3169.954</td><td>1838.0  </td></tr>\n",
       "\t<tr><td>E       </td><td>3076.752</td><td>1739.0  </td></tr>\n",
       "\t<tr><td>F       </td><td>3724.886</td><td>2343.5  </td></tr>\n",
       "\t<tr><td>G       </td><td>3999.136</td><td>2242.0  </td></tr>\n",
       "\t<tr><td>H       </td><td>4486.669</td><td>3460.0  </td></tr>\n",
       "\t<tr><td>I       </td><td>5091.875</td><td>3730.0  </td></tr>\n",
       "\t<tr><td>J       </td><td>5323.818</td><td>4234.0  </td></tr>\n",
       "</tbody>\n",
       "</table>\n"
      ],
      "text/latex": [
       "\\begin{tabular}{r|lll}\n",
       " color & avg\\_price & median\\_price\\\\\n",
       "\\hline\n",
       "\t D        & 3169.954 & 1838.0  \\\\\n",
       "\t E        & 3076.752 & 1739.0  \\\\\n",
       "\t F        & 3724.886 & 2343.5  \\\\\n",
       "\t G        & 3999.136 & 2242.0  \\\\\n",
       "\t H        & 4486.669 & 3460.0  \\\\\n",
       "\t I        & 5091.875 & 3730.0  \\\\\n",
       "\t J        & 5323.818 & 4234.0  \\\\\n",
       "\\end{tabular}\n"
      ],
      "text/markdown": [
       "\n",
       "| color | avg_price | median_price |\n",
       "|---|---|---|\n",
       "| D        | 3169.954 | 1838.0   |\n",
       "| E        | 3076.752 | 1739.0   |\n",
       "| F        | 3724.886 | 2343.5   |\n",
       "| G        | 3999.136 | 2242.0   |\n",
       "| H        | 4486.669 | 3460.0   |\n",
       "| I        | 5091.875 | 3730.0   |\n",
       "| J        | 5323.818 | 4234.0   |\n",
       "\n"
      ],
      "text/plain": [
       "  color avg_price median_price\n",
       "1 D     3169.954  1838.0      \n",
       "2 E     3076.752  1739.0      \n",
       "3 F     3724.886  2343.5      \n",
       "4 G     3999.136  2242.0      \n",
       "5 H     4486.669  3460.0      \n",
       "6 I     5091.875  3730.0      \n",
       "7 J     5323.818  4234.0      "
      ]
     },
     "metadata": {},
     "output_type": "display_data"
    }
   ],
   "source": [
    "# Answers the question: Does color affect the average price of a diamond?\n",
    "\n",
    "diamonds %>% \n",
    "    group_by(color) %>%\n",
    "    summarize(avg_price = mean(price),\n",
    "             median_price = median(price))"
   ]
  },
  {
   "cell_type": "code",
   "execution_count": 36,
   "metadata": {
    "collapsed": true
   },
   "outputs": [
    {
     "data": {
      "text/html": [
       "<table>\n",
       "<thead><tr><th scope=col>color</th><th scope=col>avg_price</th></tr></thead>\n",
       "<tbody>\n",
       "\t<tr><td>E       </td><td>3076.752</td></tr>\n",
       "\t<tr><td>E       </td><td>3076.752</td></tr>\n",
       "\t<tr><td>E       </td><td>3076.752</td></tr>\n",
       "\t<tr><td>I       </td><td>5091.875</td></tr>\n",
       "\t<tr><td>J       </td><td>5323.818</td></tr>\n",
       "\t<tr><td>J       </td><td>5323.818</td></tr>\n",
       "\t<tr><td>I       </td><td>5091.875</td></tr>\n",
       "\t<tr><td>H       </td><td>4486.669</td></tr>\n",
       "\t<tr><td>E       </td><td>3076.752</td></tr>\n",
       "\t<tr><td>H       </td><td>4486.669</td></tr>\n",
       "\t<tr><td>J       </td><td>5323.818</td></tr>\n",
       "\t<tr><td>J       </td><td>5323.818</td></tr>\n",
       "\t<tr><td>F       </td><td>3724.886</td></tr>\n",
       "\t<tr><td>J       </td><td>5323.818</td></tr>\n",
       "\t<tr><td>E       </td><td>3076.752</td></tr>\n",
       "\t<tr><td>E       </td><td>3076.752</td></tr>\n",
       "\t<tr><td>I       </td><td>5091.875</td></tr>\n",
       "\t<tr><td>J       </td><td>5323.818</td></tr>\n",
       "\t<tr><td>J       </td><td>5323.818</td></tr>\n",
       "\t<tr><td>J       </td><td>5323.818</td></tr>\n",
       "\t<tr><td>I       </td><td>5091.875</td></tr>\n",
       "\t<tr><td>E       </td><td>3076.752</td></tr>\n",
       "\t<tr><td>H       </td><td>4486.669</td></tr>\n",
       "\t<tr><td>J       </td><td>5323.818</td></tr>\n",
       "\t<tr><td>J       </td><td>5323.818</td></tr>\n",
       "\t<tr><td>G       </td><td>3999.136</td></tr>\n",
       "\t<tr><td>I       </td><td>5091.875</td></tr>\n",
       "\t<tr><td>J       </td><td>5323.818</td></tr>\n",
       "\t<tr><td>D       </td><td>3169.954</td></tr>\n",
       "\t<tr><td>F       </td><td>3724.886</td></tr>\n",
       "\t<tr><td>...</td><td>...</td></tr>\n",
       "\t<tr><td>E       </td><td>3076.752</td></tr>\n",
       "\t<tr><td>E       </td><td>3076.752</td></tr>\n",
       "\t<tr><td>F       </td><td>3724.886</td></tr>\n",
       "\t<tr><td>G       </td><td>3999.136</td></tr>\n",
       "\t<tr><td>I       </td><td>5091.875</td></tr>\n",
       "\t<tr><td>E       </td><td>3076.752</td></tr>\n",
       "\t<tr><td>D       </td><td>3169.954</td></tr>\n",
       "\t<tr><td>J       </td><td>5323.818</td></tr>\n",
       "\t<tr><td>I       </td><td>5091.875</td></tr>\n",
       "\t<tr><td>I       </td><td>5091.875</td></tr>\n",
       "\t<tr><td>E       </td><td>3076.752</td></tr>\n",
       "\t<tr><td>E       </td><td>3076.752</td></tr>\n",
       "\t<tr><td>D       </td><td>3169.954</td></tr>\n",
       "\t<tr><td>I       </td><td>5091.875</td></tr>\n",
       "\t<tr><td>I       </td><td>5091.875</td></tr>\n",
       "\t<tr><td>I       </td><td>5091.875</td></tr>\n",
       "\t<tr><td>E       </td><td>3076.752</td></tr>\n",
       "\t<tr><td>F       </td><td>3724.886</td></tr>\n",
       "\t<tr><td>E       </td><td>3076.752</td></tr>\n",
       "\t<tr><td>G       </td><td>3999.136</td></tr>\n",
       "\t<tr><td>E       </td><td>3076.752</td></tr>\n",
       "\t<tr><td>F       </td><td>3724.886</td></tr>\n",
       "\t<tr><td>E       </td><td>3076.752</td></tr>\n",
       "\t<tr><td>E       </td><td>3076.752</td></tr>\n",
       "\t<tr><td>D       </td><td>3169.954</td></tr>\n",
       "\t<tr><td>D       </td><td>3169.954</td></tr>\n",
       "\t<tr><td>D       </td><td>3169.954</td></tr>\n",
       "\t<tr><td>D       </td><td>3169.954</td></tr>\n",
       "\t<tr><td>H       </td><td>4486.669</td></tr>\n",
       "\t<tr><td>D       </td><td>3169.954</td></tr>\n",
       "</tbody>\n",
       "</table>\n"
      ],
      "text/latex": [
       "\\begin{tabular}{r|ll}\n",
       " color & avg\\_price\\\\\n",
       "\\hline\n",
       "\t E        & 3076.752\\\\\n",
       "\t E        & 3076.752\\\\\n",
       "\t E        & 3076.752\\\\\n",
       "\t I        & 5091.875\\\\\n",
       "\t J        & 5323.818\\\\\n",
       "\t J        & 5323.818\\\\\n",
       "\t I        & 5091.875\\\\\n",
       "\t H        & 4486.669\\\\\n",
       "\t E        & 3076.752\\\\\n",
       "\t H        & 4486.669\\\\\n",
       "\t J        & 5323.818\\\\\n",
       "\t J        & 5323.818\\\\\n",
       "\t F        & 3724.886\\\\\n",
       "\t J        & 5323.818\\\\\n",
       "\t E        & 3076.752\\\\\n",
       "\t E        & 3076.752\\\\\n",
       "\t I        & 5091.875\\\\\n",
       "\t J        & 5323.818\\\\\n",
       "\t J        & 5323.818\\\\\n",
       "\t J        & 5323.818\\\\\n",
       "\t I        & 5091.875\\\\\n",
       "\t E        & 3076.752\\\\\n",
       "\t H        & 4486.669\\\\\n",
       "\t J        & 5323.818\\\\\n",
       "\t J        & 5323.818\\\\\n",
       "\t G        & 3999.136\\\\\n",
       "\t I        & 5091.875\\\\\n",
       "\t J        & 5323.818\\\\\n",
       "\t D        & 3169.954\\\\\n",
       "\t F        & 3724.886\\\\\n",
       "\t ... & ...\\\\\n",
       "\t E        & 3076.752\\\\\n",
       "\t E        & 3076.752\\\\\n",
       "\t F        & 3724.886\\\\\n",
       "\t G        & 3999.136\\\\\n",
       "\t I        & 5091.875\\\\\n",
       "\t E        & 3076.752\\\\\n",
       "\t D        & 3169.954\\\\\n",
       "\t J        & 5323.818\\\\\n",
       "\t I        & 5091.875\\\\\n",
       "\t I        & 5091.875\\\\\n",
       "\t E        & 3076.752\\\\\n",
       "\t E        & 3076.752\\\\\n",
       "\t D        & 3169.954\\\\\n",
       "\t I        & 5091.875\\\\\n",
       "\t I        & 5091.875\\\\\n",
       "\t I        & 5091.875\\\\\n",
       "\t E        & 3076.752\\\\\n",
       "\t F        & 3724.886\\\\\n",
       "\t E        & 3076.752\\\\\n",
       "\t G        & 3999.136\\\\\n",
       "\t E        & 3076.752\\\\\n",
       "\t F        & 3724.886\\\\\n",
       "\t E        & 3076.752\\\\\n",
       "\t E        & 3076.752\\\\\n",
       "\t D        & 3169.954\\\\\n",
       "\t D        & 3169.954\\\\\n",
       "\t D        & 3169.954\\\\\n",
       "\t D        & 3169.954\\\\\n",
       "\t H        & 4486.669\\\\\n",
       "\t D        & 3169.954\\\\\n",
       "\\end{tabular}\n"
      ],
      "text/markdown": [
       "\n",
       "| color | avg_price |\n",
       "|---|---|\n",
       "| E        | 3076.752 |\n",
       "| E        | 3076.752 |\n",
       "| E        | 3076.752 |\n",
       "| I        | 5091.875 |\n",
       "| J        | 5323.818 |\n",
       "| J        | 5323.818 |\n",
       "| I        | 5091.875 |\n",
       "| H        | 4486.669 |\n",
       "| E        | 3076.752 |\n",
       "| H        | 4486.669 |\n",
       "| J        | 5323.818 |\n",
       "| J        | 5323.818 |\n",
       "| F        | 3724.886 |\n",
       "| J        | 5323.818 |\n",
       "| E        | 3076.752 |\n",
       "| E        | 3076.752 |\n",
       "| I        | 5091.875 |\n",
       "| J        | 5323.818 |\n",
       "| J        | 5323.818 |\n",
       "| J        | 5323.818 |\n",
       "| I        | 5091.875 |\n",
       "| E        | 3076.752 |\n",
       "| H        | 4486.669 |\n",
       "| J        | 5323.818 |\n",
       "| J        | 5323.818 |\n",
       "| G        | 3999.136 |\n",
       "| I        | 5091.875 |\n",
       "| J        | 5323.818 |\n",
       "| D        | 3169.954 |\n",
       "| F        | 3724.886 |\n",
       "| ... | ... |\n",
       "| E        | 3076.752 |\n",
       "| E        | 3076.752 |\n",
       "| F        | 3724.886 |\n",
       "| G        | 3999.136 |\n",
       "| I        | 5091.875 |\n",
       "| E        | 3076.752 |\n",
       "| D        | 3169.954 |\n",
       "| J        | 5323.818 |\n",
       "| I        | 5091.875 |\n",
       "| I        | 5091.875 |\n",
       "| E        | 3076.752 |\n",
       "| E        | 3076.752 |\n",
       "| D        | 3169.954 |\n",
       "| I        | 5091.875 |\n",
       "| I        | 5091.875 |\n",
       "| I        | 5091.875 |\n",
       "| E        | 3076.752 |\n",
       "| F        | 3724.886 |\n",
       "| E        | 3076.752 |\n",
       "| G        | 3999.136 |\n",
       "| E        | 3076.752 |\n",
       "| F        | 3724.886 |\n",
       "| E        | 3076.752 |\n",
       "| E        | 3076.752 |\n",
       "| D        | 3169.954 |\n",
       "| D        | 3169.954 |\n",
       "| D        | 3169.954 |\n",
       "| D        | 3169.954 |\n",
       "| H        | 4486.669 |\n",
       "| D        | 3169.954 |\n",
       "\n"
      ],
      "text/plain": [
       "      color avg_price\n",
       "1     E     3076.752 \n",
       "2     E     3076.752 \n",
       "3     E     3076.752 \n",
       "4     I     5091.875 \n",
       "5     J     5323.818 \n",
       "6     J     5323.818 \n",
       "7     I     5091.875 \n",
       "8     H     4486.669 \n",
       "9     E     3076.752 \n",
       "10    H     4486.669 \n",
       "11    J     5323.818 \n",
       "12    J     5323.818 \n",
       "13    F     3724.886 \n",
       "14    J     5323.818 \n",
       "15    E     3076.752 \n",
       "16    E     3076.752 \n",
       "17    I     5091.875 \n",
       "18    J     5323.818 \n",
       "19    J     5323.818 \n",
       "20    J     5323.818 \n",
       "21    I     5091.875 \n",
       "22    E     3076.752 \n",
       "23    H     4486.669 \n",
       "24    J     5323.818 \n",
       "25    J     5323.818 \n",
       "26    G     3999.136 \n",
       "27    I     5091.875 \n",
       "28    J     5323.818 \n",
       "29    D     3169.954 \n",
       "30    F     3724.886 \n",
       "...   ...   ...      \n",
       "53911 E     3076.752 \n",
       "53912 E     3076.752 \n",
       "53913 F     3724.886 \n",
       "53914 G     3999.136 \n",
       "53915 I     5091.875 \n",
       "53916 E     3076.752 \n",
       "53917 D     3169.954 \n",
       "53918 J     5323.818 \n",
       "53919 I     5091.875 \n",
       "53920 I     5091.875 \n",
       "53921 E     3076.752 \n",
       "53922 E     3076.752 \n",
       "53923 D     3169.954 \n",
       "53924 I     5091.875 \n",
       "53925 I     5091.875 \n",
       "53926 I     5091.875 \n",
       "53927 E     3076.752 \n",
       "53928 F     3724.886 \n",
       "53929 E     3076.752 \n",
       "53930 G     3999.136 \n",
       "53931 E     3076.752 \n",
       "53932 F     3724.886 \n",
       "53933 E     3076.752 \n",
       "53934 E     3076.752 \n",
       "53935 D     3169.954 \n",
       "53936 D     3169.954 \n",
       "53937 D     3169.954 \n",
       "53938 D     3169.954 \n",
       "53939 H     4486.669 \n",
       "53940 D     3169.954 "
      ]
     },
     "metadata": {},
     "output_type": "display_data"
    }
   ],
   "source": [
    "diamonds %>% \n",
    "    group_by(color) %>%\n",
    "    transmute(avg_price = mean(price))"
   ]
  },
  {
   "cell_type": "code",
   "execution_count": 37,
   "metadata": {},
   "outputs": [
    {
     "data": {
      "text/html": [
       "<table>\n",
       "<thead><tr><th scope=col>color</th><th scope=col>avg_price</th></tr></thead>\n",
       "<tbody>\n",
       "\t<tr><td>D       </td><td>3169.954</td></tr>\n",
       "\t<tr><td>E       </td><td>3076.752</td></tr>\n",
       "\t<tr><td>F       </td><td>3724.886</td></tr>\n",
       "\t<tr><td>G       </td><td>3999.136</td></tr>\n",
       "\t<tr><td>H       </td><td>4486.669</td></tr>\n",
       "\t<tr><td>I       </td><td>5091.875</td></tr>\n",
       "\t<tr><td>J       </td><td>5323.818</td></tr>\n",
       "</tbody>\n",
       "</table>\n"
      ],
      "text/latex": [
       "\\begin{tabular}{r|ll}\n",
       " color & avg\\_price\\\\\n",
       "\\hline\n",
       "\t D        & 3169.954\\\\\n",
       "\t E        & 3076.752\\\\\n",
       "\t F        & 3724.886\\\\\n",
       "\t G        & 3999.136\\\\\n",
       "\t H        & 4486.669\\\\\n",
       "\t I        & 5091.875\\\\\n",
       "\t J        & 5323.818\\\\\n",
       "\\end{tabular}\n"
      ],
      "text/markdown": [
       "\n",
       "| color | avg_price |\n",
       "|---|---|\n",
       "| D        | 3169.954 |\n",
       "| E        | 3076.752 |\n",
       "| F        | 3724.886 |\n",
       "| G        | 3999.136 |\n",
       "| H        | 4486.669 |\n",
       "| I        | 5091.875 |\n",
       "| J        | 5323.818 |\n",
       "\n"
      ],
      "text/plain": [
       "  color avg_price\n",
       "1 D     3169.954 \n",
       "2 E     3076.752 \n",
       "3 F     3724.886 \n",
       "4 G     3999.136 \n",
       "5 H     4486.669 \n",
       "6 I     5091.875 \n",
       "7 J     5323.818 "
      ]
     },
     "metadata": {},
     "output_type": "display_data"
    }
   ],
   "source": [
    "diamonds %>% \n",
    "    group_by(color) %>%\n",
    "    transmute(avg_price = mean(price))  %>% \n",
    "    unique() %>% \n",
    "    arrange(color)"
   ]
  },
  {
   "cell_type": "code",
   "execution_count": 40,
   "metadata": {},
   "outputs": [
    {
     "data": {
      "text/html": [
       "<table>\n",
       "<thead><tr><th scope=col>manufacturer</th><th scope=col>mean(cty + hwy)</th></tr></thead>\n",
       "<tbody>\n",
       "\t<tr><td>audi      </td><td>44.05556  </td></tr>\n",
       "\t<tr><td>chevrolet </td><td>36.89474  </td></tr>\n",
       "\t<tr><td>dodge     </td><td>31.08108  </td></tr>\n",
       "\t<tr><td>ford      </td><td>33.36000  </td></tr>\n",
       "\t<tr><td>honda     </td><td>57.00000  </td></tr>\n",
       "\t<tr><td>hyundai   </td><td>45.50000  </td></tr>\n",
       "\t<tr><td>jeep      </td><td>31.12500  </td></tr>\n",
       "\t<tr><td>land rover</td><td>28.00000  </td></tr>\n",
       "\t<tr><td>lincoln   </td><td>28.33333  </td></tr>\n",
       "\t<tr><td>mercury   </td><td>31.25000  </td></tr>\n",
       "\t<tr><td>nissan    </td><td>42.69231  </td></tr>\n",
       "\t<tr><td>pontiac   </td><td>43.40000  </td></tr>\n",
       "\t<tr><td>subaru    </td><td>44.85714  </td></tr>\n",
       "\t<tr><td>toyota    </td><td>43.44118  </td></tr>\n",
       "\t<tr><td>volkswagen</td><td>50.14815  </td></tr>\n",
       "</tbody>\n",
       "</table>\n"
      ],
      "text/latex": [
       "\\begin{tabular}{r|ll}\n",
       " manufacturer & mean(cty + hwy)\\\\\n",
       "\\hline\n",
       "\t audi       & 44.05556  \\\\\n",
       "\t chevrolet  & 36.89474  \\\\\n",
       "\t dodge      & 31.08108  \\\\\n",
       "\t ford       & 33.36000  \\\\\n",
       "\t honda      & 57.00000  \\\\\n",
       "\t hyundai    & 45.50000  \\\\\n",
       "\t jeep       & 31.12500  \\\\\n",
       "\t land rover & 28.00000  \\\\\n",
       "\t lincoln    & 28.33333  \\\\\n",
       "\t mercury    & 31.25000  \\\\\n",
       "\t nissan     & 42.69231  \\\\\n",
       "\t pontiac    & 43.40000  \\\\\n",
       "\t subaru     & 44.85714  \\\\\n",
       "\t toyota     & 43.44118  \\\\\n",
       "\t volkswagen & 50.14815  \\\\\n",
       "\\end{tabular}\n"
      ],
      "text/markdown": [
       "\n",
       "| manufacturer | mean(cty + hwy) |\n",
       "|---|---|\n",
       "| audi       | 44.05556   |\n",
       "| chevrolet  | 36.89474   |\n",
       "| dodge      | 31.08108   |\n",
       "| ford       | 33.36000   |\n",
       "| honda      | 57.00000   |\n",
       "| hyundai    | 45.50000   |\n",
       "| jeep       | 31.12500   |\n",
       "| land rover | 28.00000   |\n",
       "| lincoln    | 28.33333   |\n",
       "| mercury    | 31.25000   |\n",
       "| nissan     | 42.69231   |\n",
       "| pontiac    | 43.40000   |\n",
       "| subaru     | 44.85714   |\n",
       "| toyota     | 43.44118   |\n",
       "| volkswagen | 50.14815   |\n",
       "\n"
      ],
      "text/plain": [
       "   manufacturer mean(cty + hwy)\n",
       "1  audi         44.05556       \n",
       "2  chevrolet    36.89474       \n",
       "3  dodge        31.08108       \n",
       "4  ford         33.36000       \n",
       "5  honda        57.00000       \n",
       "6  hyundai      45.50000       \n",
       "7  jeep         31.12500       \n",
       "8  land rover   28.00000       \n",
       "9  lincoln      28.33333       \n",
       "10 mercury      31.25000       \n",
       "11 nissan       42.69231       \n",
       "12 pontiac      43.40000       \n",
       "13 subaru       44.85714       \n",
       "14 toyota       43.44118       \n",
       "15 volkswagen   50.14815       "
      ]
     },
     "metadata": {},
     "output_type": "display_data"
    }
   ],
   "source": [
    "mpg %>% \n",
    "    group_by(manufacturer) %>% \n",
    "    summarize(mean(cty + hwy))"
   ]
  },
  {
   "cell_type": "markdown",
   "metadata": {},
   "source": [
    "## Exercises"
   ]
  },
  {
   "cell_type": "code",
   "execution_count": 63,
   "metadata": {},
   "outputs": [
    {
     "name": "stderr",
     "output_type": "stream",
     "text": [
      "Parsed with column specification:\n",
      "cols(\n",
      "  year = col_double(),\n",
      "  brand = col_character(),\n",
      "  superbowl_ads_dot_com_url = col_character(),\n",
      "  youtube_url = col_character(),\n",
      "  funny = col_logical(),\n",
      "  show_product_quickly = col_logical(),\n",
      "  patriotic = col_logical(),\n",
      "  celebrity = col_logical(),\n",
      "  danger = col_logical(),\n",
      "  animals = col_logical(),\n",
      "  use_sex = col_logical()\n",
      ")\n"
     ]
    }
   ],
   "source": [
    "superbowl <- read_csv(\"https://raw.githubusercontent.com/fivethirtyeight/superbowl-ads/main/superbowl-ads.csv\")\n",
    "# https://github.com/fivethirtyeight/superbowl-ads"
   ]
  },
  {
   "cell_type": "code",
   "execution_count": 61,
   "metadata": {},
   "outputs": [
    {
     "data": {
      "text/html": [
       "<table>\n",
       "<thead><tr><th scope=col>year</th><th scope=col>brand</th><th scope=col>funny</th><th scope=col>show_product_quickly</th><th scope=col>patriotic</th><th scope=col>celebrity</th><th scope=col>danger</th><th scope=col>animals</th><th scope=col>use_sex</th></tr></thead>\n",
       "<tbody>\n",
       "\t<tr><td>2006     </td><td>Bud Light</td><td>TRUE     </td><td>FALSE    </td><td>FALSE    </td><td>FALSE    </td><td> TRUE    </td><td> TRUE    </td><td>FALSE    </td></tr>\n",
       "\t<tr><td>2006     </td><td>Budweiser</td><td>TRUE     </td><td> TRUE    </td><td>FALSE    </td><td>FALSE    </td><td>FALSE    </td><td>FALSE    </td><td>FALSE    </td></tr>\n",
       "\t<tr><td>2006     </td><td>Bud Light</td><td>TRUE     </td><td> TRUE    </td><td>FALSE    </td><td>FALSE    </td><td>FALSE    </td><td>FALSE    </td><td>FALSE    </td></tr>\n",
       "\t<tr><td>2006     </td><td>Budweiser</td><td>TRUE     </td><td> TRUE    </td><td>FALSE    </td><td>FALSE    </td><td> TRUE    </td><td>FALSE    </td><td>FALSE    </td></tr>\n",
       "\t<tr><td>2006     </td><td>Pepsi    </td><td>TRUE     </td><td> TRUE    </td><td>FALSE    </td><td> TRUE    </td><td> TRUE    </td><td>FALSE    </td><td>FALSE    </td></tr>\n",
       "\t<tr><td>2006     </td><td>Pepsi    </td><td>TRUE     </td><td> TRUE    </td><td>FALSE    </td><td> TRUE    </td><td>FALSE    </td><td>FALSE    </td><td> TRUE    </td></tr>\n",
       "</tbody>\n",
       "</table>\n"
      ],
      "text/latex": [
       "\\begin{tabular}{r|lllllllll}\n",
       " year & brand & funny & show\\_product\\_quickly & patriotic & celebrity & danger & animals & use\\_sex\\\\\n",
       "\\hline\n",
       "\t 2006      & Bud Light & TRUE      & FALSE     & FALSE     & FALSE     &  TRUE     &  TRUE     & FALSE    \\\\\n",
       "\t 2006      & Budweiser & TRUE      &  TRUE     & FALSE     & FALSE     & FALSE     & FALSE     & FALSE    \\\\\n",
       "\t 2006      & Bud Light & TRUE      &  TRUE     & FALSE     & FALSE     & FALSE     & FALSE     & FALSE    \\\\\n",
       "\t 2006      & Budweiser & TRUE      &  TRUE     & FALSE     & FALSE     &  TRUE     & FALSE     & FALSE    \\\\\n",
       "\t 2006      & Pepsi     & TRUE      &  TRUE     & FALSE     &  TRUE     &  TRUE     & FALSE     & FALSE    \\\\\n",
       "\t 2006      & Pepsi     & TRUE      &  TRUE     & FALSE     &  TRUE     & FALSE     & FALSE     &  TRUE    \\\\\n",
       "\\end{tabular}\n"
      ],
      "text/markdown": [
       "\n",
       "| year | brand | funny | show_product_quickly | patriotic | celebrity | danger | animals | use_sex |\n",
       "|---|---|---|---|---|---|---|---|---|\n",
       "| 2006      | Bud Light | TRUE      | FALSE     | FALSE     | FALSE     |  TRUE     |  TRUE     | FALSE     |\n",
       "| 2006      | Budweiser | TRUE      |  TRUE     | FALSE     | FALSE     | FALSE     | FALSE     | FALSE     |\n",
       "| 2006      | Bud Light | TRUE      |  TRUE     | FALSE     | FALSE     | FALSE     | FALSE     | FALSE     |\n",
       "| 2006      | Budweiser | TRUE      |  TRUE     | FALSE     | FALSE     |  TRUE     | FALSE     | FALSE     |\n",
       "| 2006      | Pepsi     | TRUE      |  TRUE     | FALSE     |  TRUE     |  TRUE     | FALSE     | FALSE     |\n",
       "| 2006      | Pepsi     | TRUE      |  TRUE     | FALSE     |  TRUE     | FALSE     | FALSE     |  TRUE     |\n",
       "\n"
      ],
      "text/plain": [
       "  year brand     funny show_product_quickly patriotic celebrity danger animals\n",
       "1 2006 Bud Light TRUE  FALSE                FALSE     FALSE      TRUE   TRUE  \n",
       "2 2006 Budweiser TRUE   TRUE                FALSE     FALSE     FALSE  FALSE  \n",
       "3 2006 Bud Light TRUE   TRUE                FALSE     FALSE     FALSE  FALSE  \n",
       "4 2006 Budweiser TRUE   TRUE                FALSE     FALSE      TRUE  FALSE  \n",
       "5 2006 Pepsi     TRUE   TRUE                FALSE      TRUE      TRUE  FALSE  \n",
       "6 2006 Pepsi     TRUE   TRUE                FALSE      TRUE     FALSE  FALSE  \n",
       "  use_sex\n",
       "1 FALSE  \n",
       "2 FALSE  \n",
       "3 FALSE  \n",
       "4 FALSE  \n",
       "5 FALSE  \n",
       "6  TRUE  "
      ]
     },
     "metadata": {},
     "output_type": "display_data"
    }
   ],
   "source": [
    "superbowl  %>% head()"
   ]
  },
  {
   "cell_type": "markdown",
   "metadata": {},
   "source": [
    "## Remember filter, arrange and select?\n",
    "- Recreate the superbowl data so that only superbowls from 2006 and on are represented, the data is arranged by year, and the url columns are no longer included. Save this data as superbowl and use it for future questions."
   ]
  },
  {
   "cell_type": "code",
   "execution_count": 64,
   "metadata": {},
   "outputs": [],
   "source": []
  },
  {
   "cell_type": "markdown",
   "metadata": {},
   "source": [
    "## Make a barplot representing how many ads each brand used\n",
    "- Add a theme of your choice. See how it changes the plot."
   ]
  },
  {
   "cell_type": "code",
   "execution_count": 68,
   "metadata": {
    "scrolled": true
   },
   "outputs": [
    {
     "data": {
      "image/png": "[encoded data removed]",
      "text/plain": [
       "plot without title"
      ]
     },
     "metadata": {},
     "output_type": "display_data"
    }
   ],
   "source": []
  },
  {
   "cell_type": "markdown",
   "metadata": {},
   "source": [
    "## Use group by and summary to see how many ads of each type (quick, patriotic, etc.) the brand uses.\n",
    "- No need for every category, just make sure you can get it working for a few of your choice\n",
    "- The sum function is useful here"
   ]
  },
  {
   "cell_type": "code",
   "execution_count": 70,
   "metadata": {
    "scrolled": true
   },
   "outputs": [
    {
     "data": {
      "text/html": [
       "<table>\n",
       "<thead><tr><th scope=col>brand</th><th scope=col>total_quick</th><th scope=col>total_patriotic</th></tr></thead>\n",
       "<tbody>\n",
       "\t<tr><td>Bud Light</td><td>31       </td><td> 3       </td></tr>\n",
       "\t<tr><td>Budweiser</td><td>18       </td><td>14       </td></tr>\n",
       "\t<tr><td>Coca-Cola</td><td>15       </td><td> 5       </td></tr>\n",
       "\t<tr><td>Doritos  </td><td>21       </td><td> 1       </td></tr>\n",
       "\t<tr><td>E-Trade  </td><td> 4       </td><td> 2       </td></tr>\n",
       "\t<tr><td>Hynudai  </td><td>12       </td><td> 3       </td></tr>\n",
       "\t<tr><td>Kia      </td><td> 4       </td><td> 2       </td></tr>\n",
       "\t<tr><td>NFL      </td><td> 6       </td><td> 4       </td></tr>\n",
       "\t<tr><td>Pepsi    </td><td> 9       </td><td> 2       </td></tr>\n",
       "\t<tr><td>Toyota   </td><td> 8       </td><td> 2       </td></tr>\n",
       "</tbody>\n",
       "</table>\n"
      ],
      "text/latex": [
       "\\begin{tabular}{r|lll}\n",
       " brand & total\\_quick & total\\_patriotic\\\\\n",
       "\\hline\n",
       "\t Bud Light & 31        &  3       \\\\\n",
       "\t Budweiser & 18        & 14       \\\\\n",
       "\t Coca-Cola & 15        &  5       \\\\\n",
       "\t Doritos   & 21        &  1       \\\\\n",
       "\t E-Trade   &  4        &  2       \\\\\n",
       "\t Hynudai   & 12        &  3       \\\\\n",
       "\t Kia       &  4        &  2       \\\\\n",
       "\t NFL       &  6        &  4       \\\\\n",
       "\t Pepsi     &  9        &  2       \\\\\n",
       "\t Toyota    &  8        &  2       \\\\\n",
       "\\end{tabular}\n"
      ],
      "text/markdown": [
       "\n",
       "| brand | total_quick | total_patriotic |\n",
       "|---|---|---|\n",
       "| Bud Light | 31        |  3        |\n",
       "| Budweiser | 18        | 14        |\n",
       "| Coca-Cola | 15        |  5        |\n",
       "| Doritos   | 21        |  1        |\n",
       "| E-Trade   |  4        |  2        |\n",
       "| Hynudai   | 12        |  3        |\n",
       "| Kia       |  4        |  2        |\n",
       "| NFL       |  6        |  4        |\n",
       "| Pepsi     |  9        |  2        |\n",
       "| Toyota    |  8        |  2        |\n",
       "\n"
      ],
      "text/plain": [
       "   brand     total_quick total_patriotic\n",
       "1  Bud Light 31           3             \n",
       "2  Budweiser 18          14             \n",
       "3  Coca-Cola 15           5             \n",
       "4  Doritos   21           1             \n",
       "5  E-Trade    4           2             \n",
       "6  Hynudai   12           3             \n",
       "7  Kia        4           2             \n",
       "8  NFL        6           4             \n",
       "9  Pepsi      9           2             \n",
       "10 Toyota     8           2             "
      ]
     },
     "metadata": {},
     "output_type": "display_data"
    }
   ],
   "source": []
  },
  {
   "cell_type": "markdown",
   "metadata": {},
   "source": [
    "## This question is harder: \n",
    "- Find out how to create the below dataset, then create the below barplot. The functions I used to create the data were transmute, sum, unique, and gather. We haven't seen gather before, so you might need to look up the documentation to get an idea for what it does. For plotting, remember about the stat that is appropriate for this case."
   ]
  },
  {
   "cell_type": "code",
   "execution_count": 87,
   "metadata": {},
   "outputs": [
    {
     "data": {
      "text/html": [
       "<table>\n",
       "<thead><tr><th scope=col>category</th><th scope=col>count</th></tr></thead>\n",
       "<tbody>\n",
       "\t<tr><td>t_funny    </td><td>113        </td></tr>\n",
       "\t<tr><td>t_quick    </td><td>128        </td></tr>\n",
       "\t<tr><td>t_patriotic</td><td> 38        </td></tr>\n",
       "\t<tr><td>t_celebrity</td><td> 53        </td></tr>\n",
       "\t<tr><td>t_danger   </td><td> 56        </td></tr>\n",
       "\t<tr><td>t_animals  </td><td> 67        </td></tr>\n",
       "\t<tr><td>t_sex      </td><td> 37        </td></tr>\n",
       "</tbody>\n",
       "</table>\n"
      ],
      "text/latex": [
       "\\begin{tabular}{r|ll}\n",
       " category & count\\\\\n",
       "\\hline\n",
       "\t t\\_funny     & 113          \\\\\n",
       "\t t\\_quick     & 128          \\\\\n",
       "\t t\\_patriotic &  38          \\\\\n",
       "\t t\\_celebrity &  53          \\\\\n",
       "\t t\\_danger    &  56          \\\\\n",
       "\t t\\_animals   &  67          \\\\\n",
       "\t t\\_sex       &  37          \\\\\n",
       "\\end{tabular}\n"
      ],
      "text/markdown": [
       "\n",
       "| category | count |\n",
       "|---|---|\n",
       "| t_funny     | 113         |\n",
       "| t_quick     | 128         |\n",
       "| t_patriotic |  38         |\n",
       "| t_celebrity |  53         |\n",
       "| t_danger    |  56         |\n",
       "| t_animals   |  67         |\n",
       "| t_sex       |  37         |\n",
       "\n"
      ],
      "text/plain": [
       "  category    count\n",
       "1 t_funny     113  \n",
       "2 t_quick     128  \n",
       "3 t_patriotic  38  \n",
       "4 t_celebrity  53  \n",
       "5 t_danger     56  \n",
       "6 t_animals    67  \n",
       "7 t_sex        37  "
      ]
     },
     "metadata": {},
     "output_type": "display_data"
    }
   ],
   "source": []
  },
  {
   "cell_type": "code",
   "execution_count": 86,
   "metadata": {},
   "outputs": [
    {
     "data": {
      "image/png": "[encoded data removed]",
      "text/plain": [
       "plot without title"
      ]
     },
     "metadata": {},
     "output_type": "display_data"
    }
   ],
   "source": []
  },
  {
   "cell_type": "markdown",
   "metadata": {},
   "source": [
    "##  Recreating summary()\n",
    "- Use transmute to recreate the summary(diamonds$price)) output without the quantiles. Then add standard deviation.\n",
    "- Unique() is helpful for this"
   ]
  },
  {
   "cell_type": "code",
   "execution_count": 89,
   "metadata": {},
   "outputs": [
    {
     "data": {
      "text/plain": [
       "   Min. 1st Qu.  Median    Mean 3rd Qu.    Max. \n",
       "    326     950    2401    3933    5324   18823 "
      ]
     },
     "metadata": {},
     "output_type": "display_data"
    }
   ],
   "source": [
    "summary(diamonds$price)"
   ]
  },
  {
   "cell_type": "code",
   "execution_count": 93,
   "metadata": {},
   "outputs": [
    {
     "data": {
      "text/html": [
       "<table>\n",
       "<thead><tr><th scope=col>Min</th><th scope=col>Median</th><th scope=col>Mean</th><th scope=col>Max</th><th scope=col>SD</th></tr></thead>\n",
       "<tbody>\n",
       "\t<tr><td>326    </td><td>2401   </td><td>3932.8 </td><td>18823  </td><td>3989.44</td></tr>\n",
       "</tbody>\n",
       "</table>\n"
      ],
      "text/latex": [
       "\\begin{tabular}{r|lllll}\n",
       " Min & Median & Mean & Max & SD\\\\\n",
       "\\hline\n",
       "\t 326     & 2401    & 3932.8  & 18823   & 3989.44\\\\\n",
       "\\end{tabular}\n"
      ],
      "text/markdown": [
       "\n",
       "| Min | Median | Mean | Max | SD |\n",
       "|---|---|---|---|---|\n",
       "| 326     | 2401    | 3932.8  | 18823   | 3989.44 |\n",
       "\n"
      ],
      "text/plain": [
       "  Min Median Mean   Max   SD     \n",
       "1 326 2401   3932.8 18823 3989.44"
      ]
     },
     "metadata": {},
     "output_type": "display_data"
    }
   ],
   "source": []
  },
  {
   "cell_type": "code",
   "execution_count": null,
   "metadata": {},
   "outputs": [],
   "source": []
  }
 ],
 "metadata": {
  "kernelspec": {
   "display_name": "R",
   "language": "R",
   "name": "ir"
  },
  "language_info": {
   "codemirror_mode": "r",
   "file_extension": ".r",
   "mimetype": "text/x-r-source",
   "name": "R",
   "pygments_lexer": "r",
   "version": "3.6.1"
  }
 },
 "nbformat": 4,
 "nbformat_minor": 4
}
